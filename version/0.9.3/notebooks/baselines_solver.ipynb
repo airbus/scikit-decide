{
  "cells": [
    {
      "cell_type": "markdown",
      "metadata": {},
      "source": [
        "#  Solve a Gym environment with Reinforcement Learning"
      ]
    },
    {
      "cell_type": "markdown",
      "metadata": {},
      "source": [
        "Import modules."
      ]
    },
    {
      "cell_type": "code",
      "metadata": {},
      "source": [
        "import gym\n",
        "from stable_baselines3 import PPO\n",
        "\n",
        "from skdecide.hub.domain.gym import GymDomain\n",
        "from skdecide.hub.solver.stable_baselines import StableBaseline\n",
        "from skdecide.utils import rollout"
      ],
      "outputs": [],
      "execution_count": null
    },
    {
      "cell_type": "markdown",
      "metadata": {},
      "source": [
        "Select a [Gym environment](https://gym.openai.com/envs) and solve it with a [Stable Baselines](https://stable-baselines3.readthedocs.io/en/master/index.html) solver wrapped in scikit-decide.\n",
        "The solution is then saved (for later reuse) and assessed in rollout."
      ]
    },
    {
      "cell_type": "code",
      "metadata": {},
      "source": [
        "ENV_NAME = \"CartPole-v1\"\n",
        "\n",
        "domain_factory = lambda: GymDomain(gym.make(ENV_NAME))\n",
        "domain = domain_factory()\n",
        "if StableBaseline.check_domain(domain):\n",
        "    solver_factory = lambda: StableBaseline(\n",
        "        PPO, \"MlpPolicy\", learn_config={\"total_timesteps\": 30000}, verbose=1\n",
        "    )\n",
        "    with solver_factory() as solver:\n",
        "        GymDomain.solve_with(solver, domain_factory)\n",
        "        solver.save(\"TEMP_Baselines\")\n",
        "        rollout(\n",
        "            domain,\n",
        "            solver,\n",
        "            num_episodes=1,\n",
        "            max_steps=1000,\n",
        "            max_framerate=30,\n",
        "            outcome_formatter=None,\n",
        "        )"
      ],
      "outputs": [],
      "execution_count": null
    },
    {
      "cell_type": "markdown",
      "metadata": {},
      "source": [
        "Restore saved solution and re-run rollout."
      ]
    },
    {
      "cell_type": "code",
      "metadata": {},
      "source": [
        "with solver_factory() as solver:\n",
        "    GymDomain.solve_with(solver, domain_factory, load_path=\"TEMP_Baselines\")\n",
        "    rollout(\n",
        "        domain,\n",
        "        solver,\n",
        "        num_episodes=1,\n",
        "        max_steps=1000,\n",
        "        max_framerate=30,\n",
        "        outcome_formatter=None,\n",
        "    )"
      ],
      "outputs": [],
      "execution_count": null
    }
  ],
  "metadata": {
    "anaconda-cloud": {},
    "kernelspec": {
      "display_name": "Python 3",
      "language": "python",
      "name": "python3"
    },
    "language_info": {
      "codemirror_mode": {
        "name": "ipython",
        "version": 3
      },
      "file_extension": ".py",
      "mimetype": "text/x-python",
      "name": "python",
      "nbconvert_exporter": "python",
      "pygments_lexer": "ipython3",
      "version": "3.6.1"
    }
  },
  "nbformat": 4,
  "nbformat_minor": 1
}