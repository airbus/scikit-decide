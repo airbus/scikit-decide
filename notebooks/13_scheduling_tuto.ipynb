{
 "cells": [
  {
   "cell_type": "markdown",
   "metadata": {},
   "source": [
    "# Introduction to scheduling\n",
    "\n",
    "In this notebook, we explore how to solve a resource constrained project scheduling problem (RCPSP).\n",
    "\n",
    "The problem is made of $M$ activities that have precedence constraints. That means that if activity $j\\in[1,M]$ is a successor of activity $i\\in[1,M]$, then activity $i$ must be completed before activity $j$ can be started\n",
    "\n",
    "On top of these constraints, each project is assigned a set of K renewable resources where each resource $k$ is available in $R_{k}$ units for the entire duration of the project. Each activity may require one or more of these resources to be completed. While scheduling the activities, the daily resource usage for resource $k$ can not exceed $R_{k}$ units.\n",
    "\n",
    "Each activity $j$ takes $d_{j}$ time units to complete.\n",
    "\n",
    "The overall goal of the problem is usually to minimize the makespan.\n",
    "\n",
    "A classic variant of RCPSP is the multimode RCPSP where each task can be executed in several ways (one way=one mode). A typical example is :\n",
    "\n",
    "- Mode n°1 'Fast mode': high resource consumption and fast\n",
    "- Mode n°2 'Slow mode' : low resource consumption but slow"
   ]
  },
  {
   "cell_type": "markdown",
   "metadata": {},
   "source": [
    "Concerning the python kernel to use for this notebook:\n",
    "- If running locally, be sure to use an environment with scikit-decide[all] and minizinc.\n",
    "- If running on colab, the next cell does it for you, and download the input file used for the last part.\n",
    "- If running on binder, the environment should be ready."
   ]
  },
  {
   "cell_type": "code",
   "execution_count": null,
   "metadata": {},
   "outputs": [],
   "source": [
    "# On Colab: install the library\n",
    "on_colab = \"google.colab\" in str(get_ipython())\n",
    "if on_colab:\n",
    "    import glob\n",
    "    import importlib\n",
    "    import json\n",
    "    import os\n",
    "    import sys\n",
    "\n",
    "    using_nightly_version = True\n",
    "\n",
    "    if using_nightly_version:\n",
    "        # look for nightly build download url\n",
    "        release_curl_res = !curl -L   -H \"Accept: application/vnd.github+json\" -H \"X-GitHub-Api-Version: 2022-11-28\" https://api.github.com/repos/airbus/scikit-decide/releases/tags/nightly\n",
    "        release_dict = json.loads(release_curl_res.s)\n",
    "        release_download_url = sorted(\n",
    "            release_dict[\"assets\"], key=lambda d: d[\"updated_at\"]\n",
    "        )[-1][\"browser_download_url\"]\n",
    "        print(release_download_url)\n",
    "\n",
    "        # download and unzip\n",
    "        !wget --output-document=release.zip {release_download_url}\n",
    "        !unzip -o release.zip\n",
    "\n",
    "        # get proper wheel name according to python version used\n",
    "        wheel_pythonversion_tag = f\"cp{sys.version_info.major}{sys.version_info.minor}\"\n",
    "        wheel_path = glob.glob(\n",
    "            f\"dist/scikit_decide*{wheel_pythonversion_tag}*manylinux*.whl\"\n",
    "        )[0]\n",
    "\n",
    "        skdecide_pip_spec = f\"{wheel_path}[all]\"\n",
    "    else:\n",
    "        skdecide_pip_spec = \"scikit-decide[all]\"\n",
    "\n",
    "    # uninstall google protobuf conflicting with ray and sb3\n",
    "    ! pip uninstall -y protobuf\n",
    "\n",
    "    # install scikit-decide with all extras\n",
    "    !pip install {skdecide_pip_spec}\n",
    "\n",
    "    # be sure to load the proper cffi (downgraded compared to the one initially on colab)\n",
    "    import cffi\n",
    "\n",
    "    importlib.reload(cffi)\n",
    "\n",
    "    # install and configure minizinc\n",
    "    !curl -o minizinc.AppImage -L https://github.com/MiniZinc/MiniZincIDE/releases/download/2.6.3/MiniZincIDE-2.6.3-x86_64.AppImage\n",
    "    !chmod +x minizinc.AppImage\n",
    "    !./minizinc.AppImage --appimage-extract\n",
    "    os.environ[\"PATH\"] = f\"{os.getcwd()}/squashfs-root/usr/bin/:{os.environ['PATH']}\"\n",
    "    os.environ[\n",
    "        \"LD_LIBRARY_PATH\"\n",
    "    ] = f\"{os.getcwd()}/squashfs-root/usr/lib/:{os.environ['LD_LIBRARY_PATH']}\"\n",
    "\n",
    "    # download input file\n",
    "    !wget https://raw.githubusercontent.com/airbus/scikit-decide/master/notebooks/j12052_1.sm"
   ]
  },
  {
   "cell_type": "code",
   "execution_count": null,
   "metadata": {},
   "outputs": [],
   "source": [
    "# patching asyncio so that applications using async functions can run in jupyter\n",
    "import nest_asyncio\n",
    "\n",
    "nest_asyncio.apply()\n",
    "\n",
    "import logging\n",
    "\n",
    "logging.basicConfig(level=logging.INFO)\n",
    "\n",
    "import time\n",
    "from pprint import pprint"
   ]
  },
  {
   "attachments": {
    "image.png": {
     "image/png": "[encoded data removed]"
    }
   },
   "cell_type": "markdown",
   "metadata": {},
   "source": [
    "## A simple problem definition\n",
    "\n",
    "Let start with a very simple problem which has only 5 tasks to execute:\n",
    "All tasks have specific durations and they can consume 1 type of renewable resources.\n",
    "\n",
    "Some tasks need to be executed after some have completed, for example:\n",
    " - Task 1 has 2 successors: task 2 and task 4\n",
    " - Task 2 has a single successor: Task 3\n",
    " - Task 3 and Task 4 have the same successor: Task 5\n",
    " - Task 5 has no successor\n",
    " \n",
    "Task 0 & Task 5 have specific roles. The first one is called the source and the former the sink. They ususally have a zero duration.\n",
    "\n",
    "In our problem, Tasks 2 & 3 have a duration of 3 while Task 4 has a duration of 7 units.\n",
    "\n",
    "![image.png](attachment:image.png)"
   ]
  },
  {
   "cell_type": "markdown",
   "metadata": {},
   "source": [
    "### Domain definition"
   ]
  },
  {
   "cell_type": "markdown",
   "metadata": {},
   "source": [
    "We use the scheduling domain API provided in scikit-decide library under the ``skdecide.builders.domain.scheduling`` module. We will define an instance of ``SimpleModeRCPSP`` which is an model class that simplifies the implementation for the user. By implementing abstract methods of this model class, you end up by defining :\n",
    "- the max horizon : ```_get_max_horizon```\n",
    "- successor graph : ```_get_successors```\n",
    "- tasks id's : ```_get_tasks_id```\n",
    "- tasks description where you define the resource consumption : ```_get_tasks_mode```\n",
    "- resource names ```_get_resource_types_names```\n",
    "- resource quantity ```_get_original_quantity_resource```\n",
    "- objective function to minimize ```_get_objectives``` (only MAKESPAN currently makes sense)\n",
    "- duration of the tasks ```_get_task_duration```\n",
    "\n",
    "In the implementation of _get_tasks_mode, the class `ConstantModeConsumption` was used indicating that each task is consuming the same constant amount of resources for the entire duration of its execution. Chosing `VaryingModeConsumption` allows a different resource consumption profile during the execution of a task."
   ]
  },
  {
   "cell_type": "code",
   "execution_count": null,
   "metadata": {},
   "outputs": [],
   "source": [
    "from typing import Any, Dict, List, Optional, Set, Union\n",
    "\n",
    "from skdecide import rollout_episode\n",
    "from skdecide.builders.domain.scheduling.modes import (\n",
    "    ConstantModeConsumption,\n",
    "    ModeConsumption,\n",
    ")\n",
    "from skdecide.builders.domain.scheduling.scheduling_domains import (\n",
    "    SchedulingObjectiveEnum,\n",
    "    SingleModeRCPSP,\n",
    ")\n",
    "\n",
    "\n",
    "class VerySimple_RCPSPDomain(SingleModeRCPSP):\n",
    "    def __init__(self):\n",
    "        self.initialize_domain()\n",
    "\n",
    "    def _get_objectives(self) -> List[SchedulingObjectiveEnum]:\n",
    "        return [SchedulingObjectiveEnum.MAKESPAN]\n",
    "\n",
    "    def _get_max_horizon(self) -> int:\n",
    "        return 10\n",
    "\n",
    "    def _get_successors(self) -> Dict[int, List[int]]:\n",
    "        return {\n",
    "            1: [2, 4],\n",
    "            2: [3],\n",
    "            3: [5],\n",
    "            4: [5],\n",
    "            5: [],\n",
    "        }\n",
    "\n",
    "    def _get_tasks_ids(self) -> Union[Set[int], Dict[int, Any], List[int]]:\n",
    "        return set([*range(1, 6)])\n",
    "\n",
    "    def _get_tasks_mode(self) -> Dict[int, ModeConsumption]:\n",
    "        return {\n",
    "            1: ConstantModeConsumption({\"r1\": 0}),\n",
    "            2: ConstantModeConsumption({\"r1\": 4}),\n",
    "            3: ConstantModeConsumption({\"r1\": 1}),\n",
    "            4: ConstantModeConsumption({\"r1\": 0}),\n",
    "            5: ConstantModeConsumption({\"r1\": 0}),\n",
    "        }\n",
    "\n",
    "    def _get_resource_types_names(self) -> List[str]:\n",
    "        return [\"r1\"]\n",
    "\n",
    "    def _get_task_duration(\n",
    "        self, task: int, mode: Optional[int] = 1, progress_from: Optional[float] = 0.0\n",
    "    ) -> int:\n",
    "        all_durations = {1: 0, 2: 3, 3: 3, 4: 7, 5: 0}\n",
    "        return all_durations[task]\n",
    "\n",
    "    def _get_original_quantity_resource(self, resource: str, **kwargs) -> int:\n",
    "        all_resource_quantities = {\"r1\": 7}\n",
    "\n",
    "        return all_resource_quantities[resource]"
   ]
  },
  {
   "cell_type": "markdown",
   "metadata": {},
   "source": [
    "### Let's create an instance of this domain"
   ]
  },
  {
   "cell_type": "code",
   "execution_count": null,
   "metadata": {},
   "outputs": [],
   "source": [
    "domain = VerySimple_RCPSPDomain()\n",
    "domain.set_inplace_environment(False)\n",
    "state = domain.get_initial_state()"
   ]
  },
  {
   "cell_type": "markdown",
   "metadata": {},
   "source": [
    "By only defining the function, the library is automatically building a planning domain like it is commonly used in scikit-decide (implementing ```get_next_state```, ```get_applicable_action``` functions notably)"
   ]
  },
  {
   "cell_type": "markdown",
   "metadata": {},
   "source": [
    "Let's see what is stored in the initial state for this `scikit-decide` domain : "
   ]
  },
  {
   "cell_type": "code",
   "execution_count": null,
   "metadata": {},
   "outputs": [],
   "source": [
    "print(f\" The state contains the following field:\")\n",
    "pprint([x for x in dir(state) if not x.startswith(\"_\")])"
   ]
  },
  {
   "cell_type": "markdown",
   "metadata": {},
   "source": [
    "Let's check some of those attributes:"
   ]
  },
  {
   "cell_type": "code",
   "execution_count": null,
   "metadata": {},
   "outputs": [],
   "source": [
    "print(f\"Current state time: {state.t}\")"
   ]
  },
  {
   "cell_type": "code",
   "execution_count": null,
   "metadata": {},
   "outputs": [],
   "source": [
    "print(\n",
    "    f\"{len(set(state.tasks_remaining))} tasks over {len(state.task_ids)} are still unscheduled\"\n",
    ")"
   ]
  },
  {
   "cell_type": "markdown",
   "metadata": {},
   "source": [
    "Then one can get details for each of the tasks. For example, `task 1` has the following status:"
   ]
  },
  {
   "cell_type": "code",
   "execution_count": null,
   "metadata": {},
   "outputs": [],
   "source": [
    "print(f\"{state.tasks_full_details[1]}\")"
   ]
  },
  {
   "cell_type": "markdown",
   "metadata": {},
   "source": [
    "As you see, the state is storing everything needed to follow the status of each task at a given time $t$. Solving a scheduling domain will mean to trigger task start at the right time and advancing in time. The available action in a given state are split in 2 types : \n",
    "- Start a task in a given mode\n",
    "- Advance in time\n",
    "\n",
    "For the initial state, here are the two possible actions:"
   ]
  },
  {
   "cell_type": "code",
   "execution_count": null,
   "metadata": {},
   "outputs": [],
   "source": [
    "print(\n",
    "    \"\\n\\n\".join([str(a) for a in domain.get_applicable_actions(state).get_elements()])\n",
    ")"
   ]
  },
  {
   "cell_type": "markdown",
   "metadata": {},
   "source": [
    "### Using  Lazy Astar to solve this problem"
   ]
  },
  {
   "cell_type": "markdown",
   "metadata": {},
   "source": [
    "One could try to use a classical planning solver like A* to solve this statefull domain. "
   ]
  },
  {
   "cell_type": "code",
   "execution_count": null,
   "metadata": {},
   "outputs": [],
   "source": [
    "from skdecide.hub.solver.lazy_astar import LazyAstar\n",
    "\n",
    "solver = LazyAstar(from_state=state, heuristic=None)\n",
    "solver.solve(domain_factory=lambda: domain)"
   ]
  },
  {
   "cell_type": "markdown",
   "metadata": {},
   "source": [
    "### Result analysis"
   ]
  },
  {
   "cell_type": "markdown",
   "metadata": {},
   "source": [
    "The solver has generated a policy for this scheduling problem. Now we can apply the policy to the domain and chack what is the final state. The policy is usually applied through the `rollout_episode` function but let's do it manually this time."
   ]
  },
  {
   "cell_type": "code",
   "execution_count": null,
   "metadata": {},
   "outputs": [],
   "source": [
    "from skdecide.builders.domain import Goals\n",
    "\n",
    "has_goal = isinstance(domain, Goals)\n",
    "\n",
    "# Initialize episode\n",
    "solver.reset()\n",
    "\n",
    "domain.set_memory(state)\n",
    "observation = domain.get_observation_distribution(state, None).sample()\n",
    "\n",
    "step = 1\n",
    "\n",
    "states = []\n",
    "# save the initial observation\n",
    "states.append(observation)\n",
    "\n",
    "while step <= 500:\n",
    "    # Get Action\n",
    "    action = solver.sample_action(observation)\n",
    "    # Get action outcome\n",
    "    outcome = domain.step(action)\n",
    "    # Extract observation\n",
    "    observation = outcome.observation\n",
    "    states.append(observation)\n",
    "\n",
    "    if outcome.termination:\n",
    "        logging.info(f\" Episode terminated after {step + 1} steps.\")\n",
    "        break\n",
    "\n",
    "    step += 1\n",
    "\n",
    "if has_goal:\n",
    "    logging.info(\n",
    "        f' The goal was{\"\" if domain.is_goal(observation) else \" not\"} reached'\n",
    "    )"
   ]
  },
  {
   "cell_type": "markdown",
   "metadata": {},
   "source": [
    "Let's now get the final state."
   ]
  },
  {
   "cell_type": "code",
   "execution_count": null,
   "metadata": {},
   "outputs": [],
   "source": [
    "final_state = states[-1]"
   ]
  },
  {
   "cell_type": "markdown",
   "metadata": {},
   "source": [
    "The makespan of our workflow is the latest time or the end time of the `task 5`. Both should be equal."
   ]
  },
  {
   "cell_type": "code",
   "execution_count": null,
   "metadata": {},
   "outputs": [],
   "source": [
    "print(\n",
    "    f\"Time of last state: {final_state.t} - Ending time of Task #5: {final_state.tasks_full_details[5].end}\"\n",
    ")"
   ]
  },
  {
   "cell_type": "markdown",
   "metadata": {},
   "source": [
    "## A slightly more complex problem"
   ]
  },
  {
   "cell_type": "markdown",
   "metadata": {},
   "source": [
    "Now we want to solve a 32 tasks problem which is describe in the following class."
   ]
  },
  {
   "cell_type": "markdown",
   "metadata": {},
   "source": [
    "### Problem definition"
   ]
  },
  {
   "cell_type": "code",
   "execution_count": null,
   "metadata": {},
   "outputs": [],
   "source": [
    "class J301_RCPSPDomain(SingleModeRCPSP):\n",
    "    def __init__(self):\n",
    "        self.initialize_domain()\n",
    "\n",
    "    def _get_objectives(self) -> List[SchedulingObjectiveEnum]:\n",
    "        return [SchedulingObjectiveEnum.MAKESPAN]\n",
    "\n",
    "    def _get_max_horizon(self) -> int:\n",
    "        return 158\n",
    "\n",
    "    def _get_successors(self) -> Dict[int, List[int]]:\n",
    "        return {\n",
    "            1: [2, 3, 4],\n",
    "            2: [6, 11, 15],\n",
    "            3: [7, 8, 13],\n",
    "            4: [5, 9, 10],\n",
    "            5: [20],\n",
    "            6: [30],\n",
    "            7: [27],\n",
    "            8: [12, 19, 27],\n",
    "            9: [14],\n",
    "            10: [16, 25],\n",
    "            11: [20, 26],\n",
    "            12: [14],\n",
    "            13: [17, 18],\n",
    "            14: [17],\n",
    "            15: [25],\n",
    "            16: [21, 22],\n",
    "            17: [22],\n",
    "            18: [20, 22],\n",
    "            19: [24, 29],\n",
    "            20: [23, 25],\n",
    "            21: [28],\n",
    "            22: [23],\n",
    "            23: [24],\n",
    "            24: [30],\n",
    "            25: [30],\n",
    "            26: [31],\n",
    "            27: [28],\n",
    "            28: [31],\n",
    "            29: [32],\n",
    "            30: [32],\n",
    "            31: [32],\n",
    "            32: [],\n",
    "        }\n",
    "\n",
    "    def _get_tasks_ids(self) -> Union[Set[int], Dict[int, Any], List[int]]:\n",
    "        return set([*range(1, 33)])\n",
    "\n",
    "    def _get_tasks_mode(self) -> Dict[int, ModeConsumption]:\n",
    "        return {\n",
    "            1: ConstantModeConsumption({\"r1\": 0, \"r2\": 0, \"r3\": 0, \"r4\": 0}),\n",
    "            2: ConstantModeConsumption({\"r1\": 4, \"r2\": 0, \"r3\": 0, \"r4\": 0}),\n",
    "            3: ConstantModeConsumption({\"r1\": 10, \"r2\": 0, \"r3\": 0, \"r4\": 0}),\n",
    "            4: ConstantModeConsumption({\"r1\": 0, \"r2\": 0, \"r3\": 0, \"r4\": 3}),\n",
    "            5: ConstantModeConsumption({\"r1\": 3, \"r2\": 0, \"r3\": 0, \"r4\": 0}),\n",
    "            6: ConstantModeConsumption({\"r1\": 0, \"r2\": 0, \"r3\": 0, \"r4\": 8}),\n",
    "            7: ConstantModeConsumption({\"r1\": 4, \"r2\": 0, \"r3\": 0, \"r4\": 0}),\n",
    "            8: ConstantModeConsumption({\"r1\": 0, \"r2\": 1, \"r3\": 0, \"r4\": 0}),\n",
    "            9: ConstantModeConsumption({\"r1\": 6, \"r2\": 0, \"r3\": 0, \"r4\": 0}),\n",
    "            10: ConstantModeConsumption({\"r1\": 0, \"r2\": 0, \"r3\": 0, \"r4\": 1}),\n",
    "            11: ConstantModeConsumption({\"r1\": 0, \"r2\": 5, \"r3\": 0, \"r4\": 0}),\n",
    "            12: ConstantModeConsumption({\"r1\": 0, \"r2\": 7, \"r3\": 0, \"r4\": 0}),\n",
    "            13: ConstantModeConsumption({\"r1\": 4, \"r2\": 0, \"r3\": 0, \"r4\": 0}),\n",
    "            14: ConstantModeConsumption({\"r1\": 0, \"r2\": 8, \"r3\": 0, \"r4\": 0}),\n",
    "            15: ConstantModeConsumption({\"r1\": 3, \"r2\": 0, \"r3\": 0, \"r4\": 0}),\n",
    "            16: ConstantModeConsumption({\"r1\": 0, \"r2\": 0, \"r3\": 0, \"r4\": 5}),\n",
    "            17: ConstantModeConsumption({\"r1\": 0, \"r2\": 0, \"r3\": 0, \"r4\": 8}),\n",
    "            18: ConstantModeConsumption({\"r1\": 0, \"r2\": 0, \"r3\": 0, \"r4\": 7}),\n",
    "            19: ConstantModeConsumption({\"r1\": 0, \"r2\": 1, \"r3\": 0, \"r4\": 0}),\n",
    "            20: ConstantModeConsumption({\"r1\": 0, \"r2\": 10, \"r3\": 0, \"r4\": 0}),\n",
    "            21: ConstantModeConsumption({\"r1\": 0, \"r2\": 0, \"r3\": 0, \"r4\": 6}),\n",
    "            22: ConstantModeConsumption({\"r1\": 2, \"r2\": 0, \"r3\": 0, \"r4\": 0}),\n",
    "            23: ConstantModeConsumption({\"r1\": 3, \"r2\": 0, \"r3\": 0, \"r4\": 0}),\n",
    "            24: ConstantModeConsumption({\"r1\": 0, \"r2\": 9, \"r3\": 0, \"r4\": 0}),\n",
    "            25: ConstantModeConsumption({\"r1\": 4, \"r2\": 0, \"r3\": 0, \"r4\": 0}),\n",
    "            26: ConstantModeConsumption({\"r1\": 0, \"r2\": 0, \"r3\": 4, \"r4\": 0}),\n",
    "            27: ConstantModeConsumption({\"r1\": 0, \"r2\": 0, \"r3\": 0, \"r4\": 7}),\n",
    "            28: ConstantModeConsumption({\"r1\": 8, \"r2\": 8, \"r3\": 0, \"r4\": 0}),\n",
    "            29: ConstantModeConsumption({\"r1\": 7, \"r2\": 7, \"r3\": 0, \"r4\": 0}),\n",
    "            30: ConstantModeConsumption({\"r1\": 7, \"r2\": 7, \"r3\": 0, \"r4\": 0}),\n",
    "            31: ConstantModeConsumption({\"r1\": 0, \"r2\": 0, \"r3\": 2, \"r4\": 0}),\n",
    "            32: ConstantModeConsumption({\"r1\": 0, \"r2\": 0, \"r3\": 0, \"r4\": 0}),\n",
    "        }\n",
    "\n",
    "    def _get_resource_types_names(self) -> List[str]:\n",
    "        return [\"r1\", \"r2\", \"r3\", \"r4\"]\n",
    "\n",
    "    def _get_task_duration(\n",
    "        self, task: int, mode: Optional[int] = 1, progress_from: Optional[float] = 0.0\n",
    "    ) -> int:\n",
    "        all_durations = {\n",
    "            1: 0,\n",
    "            2: 8,\n",
    "            3: 4,\n",
    "            4: 6,\n",
    "            5: 3,\n",
    "            6: 8,\n",
    "            7: 5,\n",
    "            8: 9,\n",
    "            9: 2,\n",
    "            10: 7,\n",
    "            11: 9,\n",
    "            12: 2,\n",
    "            13: 6,\n",
    "            14: 3,\n",
    "            15: 9,\n",
    "            16: 10,\n",
    "            17: 6,\n",
    "            18: 5,\n",
    "            19: 3,\n",
    "            20: 7,\n",
    "            21: 2,\n",
    "            22: 7,\n",
    "            23: 2,\n",
    "            24: 3,\n",
    "            25: 3,\n",
    "            26: 7,\n",
    "            27: 8,\n",
    "            28: 3,\n",
    "            29: 7,\n",
    "            30: 2,\n",
    "            31: 2,\n",
    "            32: 0,\n",
    "        }\n",
    "        return all_durations[task]\n",
    "\n",
    "    def _get_original_quantity_resource(self, resource: str, **kwargs) -> int:\n",
    "        all_resource_quantities = {\"r1\": 12, \"r2\": 13, \"r3\": 14, \"r4\": 12}\n",
    "\n",
    "        return all_resource_quantities[resource]"
   ]
  },
  {
   "cell_type": "markdown",
   "metadata": {},
   "source": [
    "### Create an instance of the J301 domain"
   ]
  },
  {
   "cell_type": "code",
   "execution_count": null,
   "metadata": {},
   "outputs": [],
   "source": [
    "domain = J301_RCPSPDomain()\n",
    "domain.set_inplace_environment(False)\n",
    "state = domain.get_initial_state()"
   ]
  },
  {
   "cell_type": "markdown",
   "metadata": {},
   "source": [
    "### Lazy Astar to solve this problem"
   ]
  },
  {
   "cell_type": "markdown",
   "metadata": {},
   "source": [
    "One could try again to use classical planning solver like A* to solve this statefull domain. However due to an exploding search space, it is not tractable again for a problem with more than a few tasks.\n",
    "\n",
    "To convince yourself, you can run the following which has a 300 seconds time-out."
   ]
  },
  {
   "cell_type": "code",
   "execution_count": null,
   "metadata": {},
   "outputs": [],
   "source": [
    "import signal\n",
    "\n",
    "from skdecide.hub.solver.lazy_astar import LazyAstar\n",
    "\n",
    "\n",
    "def handler(signum, frame):\n",
    "    raise Exception(\"Time out\")\n",
    "\n",
    "\n",
    "signal.signal(signal.SIGALRM, handler)\n",
    "\n",
    "# Wait for 300 seconds\n",
    "signal.alarm(300)\n",
    "\n",
    "solver = LazyAstar(from_state=state, heuristic=None)\n",
    "try:\n",
    "    solver.solve(domain_factory=lambda: domain)\n",
    "except Exception:\n",
    "    print(\"the algorithm could not finish\")\n",
    "finally:\n",
    "    signal.alarm(0)"
   ]
  },
  {
   "cell_type": "markdown",
   "metadata": {},
   "source": [
    "### Let's now use a CP solver"
   ]
  },
  {
   "cell_type": "markdown",
   "metadata": {},
   "source": [
    "One of the state-of-art method to solve RCPSP problem is by using Constraint programming  (https://en.wikipedia.org/wiki/Constraint_programming), an Operational research method that explores the state variables and propagate constraints in a clever way. \n",
    "In constraint programming, users declaratively state the constraints on the feasible solutions for a set of decision variables. Constraints specify the properties of a solution to be found. The CP model we are using is available at ```skdecide/discrete_optimization/rcpsp/minizinc/rcpsp_single_mode_mzn.mzn```.\n",
    "The underlying library we are using is [MiniZinc](https://www.minizinc.org) and the CP solver backend [CHUFFED](https://github.com/chuffed/chuffed)."
   ]
  },
  {
   "cell_type": "code",
   "execution_count": null,
   "metadata": {},
   "outputs": [],
   "source": [
    "from discrete_optimization.generic_tools.cp_tools import ParametersCP\n",
    "\n",
    "from skdecide.hub.solver.do_solver.do_solver_scheduling import (\n",
    "    BasePolicyMethod,\n",
    "    DOSolver,\n",
    "    PolicyMethodParams,\n",
    "    SolvingMethod,\n",
    ")"
   ]
  },
  {
   "cell_type": "code",
   "execution_count": null,
   "metadata": {},
   "outputs": [],
   "source": [
    "logging.info(\"Solving with CP\")\n",
    "dict_params = {}\n",
    "params_cp = ParametersCP.default()\n",
    "params_cp.TimeLimit = 300\n",
    "dict_params[\"parameters_cp\"] = params_cp\n",
    "policy_method_params = PolicyMethodParams(\n",
    "    base_policy_method=BasePolicyMethod.FOLLOW_GANTT,\n",
    "    delta_index_freedom=0,\n",
    "    delta_time_freedom=0,\n",
    ")\n",
    "solver = DOSolver(\n",
    "    policy_method_params=policy_method_params,\n",
    "    method=SolvingMethod.CP,\n",
    "    dict_params=dict_params,\n",
    ")\n",
    "# possible_solvers = look_for_solver(domain)\n",
    "# logging.info(f\"Possible solvers: {[str(solver[0]).split('.')[-1][:-2] for solver in possible_solvers]}\")\n",
    "tic = time.perf_counter()\n",
    "solver.solve(domain_factory=lambda: domain)\n",
    "toc = time.perf_counter()\n",
    "logging.info(f\"Computing Time: {toc - tic:0.4f} seconds\")\n",
    "\n",
    "# logging.info(solver.best_solution.rcpsp_schedule)\n",
    "logging.info(solver.do_domain.evaluate(solver.best_solution))"
   ]
  },
  {
   "cell_type": "markdown",
   "metadata": {},
   "source": [
    "We can now execute the resulting policy using the `rollout_episode` and check the result. "
   ]
  },
  {
   "cell_type": "code",
   "execution_count": null,
   "metadata": {},
   "outputs": [],
   "source": [
    "states, _, _ = rollout_episode(\n",
    "    domain=domain,\n",
    "    solver=solver,\n",
    "    from_memory=state,\n",
    "    max_steps=500,\n",
    "    verbose=False,\n",
    "    outcome_formatter=None,\n",
    "    action_formatter=None,\n",
    ")"
   ]
  },
  {
   "cell_type": "code",
   "execution_count": null,
   "metadata": {},
   "outputs": [],
   "source": [
    "final_state = states[-1]"
   ]
  },
  {
   "cell_type": "markdown",
   "metadata": {},
   "source": [
    "The makespan of our workflow is the latest time or the end time of the `task 32`. Both should be equal."
   ]
  },
  {
   "cell_type": "code",
   "execution_count": null,
   "metadata": {},
   "outputs": [],
   "source": [
    "print(\n",
    "    f\"Time of last state: {final_state.t} - Ending time of Task #32: {final_state.tasks_full_details[32].end}\"\n",
    ")"
   ]
  },
  {
   "cell_type": "markdown",
   "metadata": {},
   "source": [
    "### Plotting the solution\n",
    "We rely on discrete_optimization plot utilities (where the CP model is used) to plot the gantt chart of our solution."
   ]
  },
  {
   "cell_type": "code",
   "execution_count": null,
   "metadata": {},
   "outputs": [],
   "source": [
    "from skdecide.hub.solver.do_solver.sk_to_do_binding import from_last_state_to_solution\n",
    "\n",
    "do_sol = from_last_state_to_solution(states[-1], domain)\n",
    "from discrete_optimization.rcpsp.rcpsp_utils import plot_ressource_view, plot_task_gantt\n",
    "\n",
    "# Each line of the plot is a task\n",
    "fig_gantt = plot_task_gantt(do_sol.problem, do_sol)\n",
    "# Plot resource consumption plot\n",
    "fig_resource = plot_ressource_view(do_sol.problem, do_sol)"
   ]
  },
  {
   "cell_type": "markdown",
   "metadata": {},
   "source": [
    "### Intermediate Conclusion\n",
    "On a problem containing only 32 tasks, an algorithm like $A^{*}$ cannot find a solution while a constraint programming approach takes less than half a second. Let's see what happen on a larger problem. "
   ]
  },
  {
   "cell_type": "markdown",
   "metadata": {},
   "source": [
    "## Going further : a bigger RCPSP problem"
   ]
  },
  {
   "cell_type": "markdown",
   "metadata": {},
   "source": [
    "### Psplib files\n",
    "We rely on psplib benchmark files (http://www.om-db.wi.tum.de/psplib/) which containts sets of instances of 30, 60, 90 and 120 activities.\n",
    "We will now use the ```j12051_1``` file that we identified as a difficult one to solve."
   ]
  },
  {
   "cell_type": "markdown",
   "metadata": {},
   "source": [
    "#### psplib format "
   ]
  },
  {
   "cell_type": "markdown",
   "metadata": {},
   "source": [
    "The following cell will open a new tab with the `sm` file. On colab, you should rather click on [that link](j12052_1.sm) to see it.\n",
    "\n",
    "You can explore the structure of the file : \n",
    "- At the top part of the file : the number of jobs, horizon of scheduling and resource description are given.\n",
    "- The `PRECEDENCE RELATIONS` subpart gives for each tasks, the ids of their successors,\n",
    "- The `REQUESTS/DURATIONS` part specifies for each task its duration and consumption of each resource.\n",
    "- RESOURCEAVAILABILITIES : everything is in the title "
   ]
  },
  {
   "cell_type": "code",
   "execution_count": null,
   "metadata": {},
   "outputs": [],
   "source": [
    "import os\n",
    "import webbrowser\n",
    "\n",
    "webbrowser.open(\"file:///\" + os.path.realpath(\"j12052_1.sm\"))"
   ]
  },
  {
   "cell_type": "markdown",
   "metadata": {},
   "source": [
    "#### Parsing a psplib file \n",
    "We provide a parser for this files so that it is automatically transformed into a RCPSP domain in scikit-decide."
   ]
  },
  {
   "cell_type": "code",
   "execution_count": null,
   "metadata": {},
   "outputs": [],
   "source": [
    "from skdecide.hub.domain.rcpsp.rcpsp_sk import RCPSP\n",
    "from skdecide.hub.domain.rcpsp.rcpsp_sk_parser import load_domain"
   ]
  },
  {
   "cell_type": "code",
   "execution_count": null,
   "metadata": {},
   "outputs": [],
   "source": [
    "big_domain: RCPSP = load_domain(\"j12052_1.sm\")\n",
    "big_domain.set_inplace_environment(False)"
   ]
  },
  {
   "cell_type": "markdown",
   "metadata": {},
   "source": [
    "### Using a CP solver again"
   ]
  },
  {
   "cell_type": "markdown",
   "metadata": {},
   "source": [
    "We will run CP solver with a timeout of 5 minutes."
   ]
  },
  {
   "cell_type": "code",
   "execution_count": null,
   "metadata": {},
   "outputs": [],
   "source": [
    "state = big_domain.get_initial_state()\n",
    "base_policy_method = BasePolicyMethod.FOLLOW_GANTT\n",
    "policy_method_params = PolicyMethodParams(\n",
    "    base_policy_method=base_policy_method, delta_index_freedom=0, delta_time_freedom=0\n",
    ")\n",
    "# We want to focus on CP\n",
    "method = SolvingMethod.CP\n",
    "# Let's define the parameters for our CP solver\n",
    "dict_params = {}\n",
    "params_cp = ParametersCP.default()\n",
    "# Let's change the 30 seconds default to something bigger\n",
    "params_cp.TimeLimit = 300\n",
    "dict_params[\"parameters_cp\"] = params_cp\n",
    "# Let's create our solver with the given feature\n",
    "solver = DOSolver(\n",
    "    policy_method_params=policy_method_params, method=method, dict_params=dict_params\n",
    ")\n",
    "tic = time.perf_counter()\n",
    "solver.solve(domain_factory=lambda: big_domain)\n",
    "toc = time.perf_counter()\n",
    "makespan = solver.do_domain.evaluate(solver.best_solution)[\"makespan\"]\n",
    "cp_solution = solver.best_solution.copy()\n",
    "print(f\"CP achieved a {makespan} makespan in: {toc - tic:0.4f} seconds\")"
   ]
  },
  {
   "cell_type": "markdown",
   "metadata": {},
   "source": [
    "### Using the Large Neighboorhood Search algorithm\n",
    "\n",
    "Local search techniques are very effective to solve hard optimization problems. In the context of constraint programming (CP) for optimization problems, one of the most well-known and widely used local search techniques is the Large Neighborhood Search (LNS) algorithm . The basic idea is to iteratively relax a part of the problem, then to use constraint programming to optimize a simpler problem hoping that the reconstructed full solution improve our objective function.\n",
    "For more insight, you can read this paper [\\[1\\]](https://www.researchgate.net/publication/220462078_LSSPER_Solving_the_Resource-Constrained_Project_Scheduling_Problem_with_Large_Neighbourhood_Search)"
   ]
  },
  {
   "cell_type": "code",
   "execution_count": null,
   "metadata": {},
   "outputs": [],
   "source": [
    "state = big_domain.get_initial_state()\n",
    "\n",
    "base_policy_method = BasePolicyMethod.FOLLOW_GANTT\n",
    "\n",
    "policy_method_params = PolicyMethodParams(\n",
    "    base_policy_method=base_policy_method, delta_index_freedom=0, delta_time_freedom=0\n",
    ")\n",
    "\n",
    "# This time, we want to focus on LNS_CP\n",
    "method = SolvingMethod.LNS_CP\n",
    "\n",
    "dict_params = {}\n",
    "\n",
    "# We will use the default TimeLimit value for the internal CP solver\n",
    "# This value is 30 seconds\n",
    "params_cp = ParametersCP.default()\n",
    "params_cp.TimeLimit = 30\n",
    "\n",
    "# To be consistent with the previous solve we will cap the overall\n",
    "# time to the same 300 seconds limit\n",
    "dict_params[\"parameters_cp\"] = params_cp\n",
    "dict_params[\"max_time_seconds\"] = 300\n",
    "dict_params[\n",
    "    \"nb_iteration_lns\"\n",
    "] = 10000  # dummy value, we want that the max_time_seconds to be the limiting param\n",
    "dict_params[\"verbose\"] = False\n",
    "\n",
    "# Let's create our solver with the given feature\n",
    "# This step is mostly similar to the previous one\n",
    "solver = DOSolver(\n",
    "    policy_method_params=policy_method_params, method=method, dict_params=dict_params\n",
    ")\n",
    "\n",
    "tic = time.perf_counter()\n",
    "solver.solve(domain_factory=lambda: big_domain)\n",
    "toc = time.perf_counter()\n",
    "lns_cp_solution = solver.best_solution.copy()\n",
    "makespan = solver.do_domain.evaluate(solver.best_solution)[\"makespan\"]\n",
    "print(f\"LNS-CP achieved a {makespan} makespan in: {toc - tic:0.4f} seconds\")"
   ]
  },
  {
   "cell_type": "markdown",
   "metadata": {},
   "source": [
    "## Conclusion\n",
    "\n",
    "In this notebook, we have seen how to use [scikit-decide](https://airbus.github.io/scikit-decide) to plan tasks. The library offers a binding to a constraint programming (CP) based solver providing optimal solution on small and mid sized benchmark. It reaches its limit for instances with >100 tasks where the use of the approximated solver LNS+CP  proves to be effective."
   ]
  }
 ],
 "metadata": {
  "kernelspec": {
   "display_name": "Python 3 (ipykernel)",
   "language": "python",
   "name": "python3"
  },
  "language_info": {
   "codemirror_mode": {
    "name": "ipython",
    "version": 3
   },
   "file_extension": ".py",
   "mimetype": "text/x-python",
   "name": "python",
   "nbconvert_exporter": "python",
   "pygments_lexer": "ipython3",
   "version": "3.10.11"
  },
  "toc": {
   "base_numbering": 1,
   "nav_menu": {},
   "number_sections": true,
   "sideBar": true,
   "skip_h1_title": true,
   "title_cell": "Table of Contents",
   "title_sidebar": "Contents",
   "toc_cell": false,
   "toc_position": {},
   "toc_section_display": true,
   "toc_window_display": true
  }
 },
 "nbformat": 4,
 "nbformat_minor": 4
}
