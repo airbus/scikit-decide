{
 "cells": [
  {
   "attachments": {},
   "cell_type": "markdown",
   "metadata": {},
   "source": [
    "# Flight Planning Domain \n",
    "\n",
    "This notebook aims to make a short and interactive example of the Flight Planning Domain. See the [online documentation](https://airbus.github.io/scikit-decide/reference/_skdecide.hub.domain.flight_planning.domain.html#flightplanningdomain) for more information."
   ]
  },
  {
   "cell_type": "markdown",
   "metadata": {},
   "source": [
    "Concerning the python kernel to use for this notebook:\n",
    "- If running locally, be sure to use an environment with scikit-decide[all].\n",
    "- If running on colab, the next cell does it for you.\n",
    "- If running on binder, the environment should be ready."
   ]
  },
  {
   "cell_type": "code",
   "execution_count": null,
   "metadata": {},
   "outputs": [],
   "source": [
    "# # On Colab: install the library\n",
    "# on_colab = \"google.colab\" in str(get_ipython())\n",
    "# if on_colab:\n",
    "#     import glob\n",
    "#     import json\n",
    "#     import sys\n",
    "\n",
    "#     using_nightly_version = True\n",
    "\n",
    "#     if using_nightly_version:\n",
    "#         # look for nightly build download url\n",
    "#         release_curl_res = !curl -L   -H \"Accept: application/vnd.github+json\" -H \"X-GitHub-Api-Version: 2022-11-28\" https://api.github.com/repos/airbus/scikit-decide/releases/tags/nightly\n",
    "#         release_dict = json.loads(release_curl_res.s)\n",
    "#         release_download_url = sorted(\n",
    "#             release_dict[\"assets\"], key=lambda d: d[\"updated_at\"]\n",
    "#         )[-1][\"browser_download_url\"]\n",
    "#         print(release_download_url)\n",
    "\n",
    "#         # download and unzip\n",
    "#         !wget --output-document=release.zip {release_download_url}\n",
    "#         !unzip -o release.zip\n",
    "\n",
    "#         # get proper wheel name according to python version used\n",
    "#         wheel_pythonversion_tag = f\"cp{sys.version_info.major}{sys.version_info.minor}\"\n",
    "#         wheel_path = glob.glob(\n",
    "#             f\"dist/scikit_decide*{wheel_pythonversion_tag}*manylinux*.whl\"\n",
    "#         )[0]\n",
    "\n",
    "#         skdecide_pip_spec = f\"{wheel_path}[all]\"\n",
    "#     else:\n",
    "#         skdecide_pip_spec = \"scikit-decide[all]\"\n",
    "\n",
    "#     # uninstall google protobuf conflicting with ray and sb3\n",
    "#     ! pip uninstall -y protobuf\n",
    "\n",
    "#     # install scikit-decide with all extras\n",
    "#     !pip install {skdecide_pip_spec}"
   ]
  },
  {
   "cell_type": "code",
   "execution_count": null,
   "metadata": {},
   "outputs": [],
   "source": [
    "import datetime\n",
    "\n",
    "from pygeodesy.ellipsoidalVincenty import LatLon\n",
    "\n",
    "from skdecide.hub.domain.flight_planning.aircraft_performance.bean.aircraft_state import (\n",
    "    AircraftState,\n",
    ")\n",
    "from skdecide.hub.domain.flight_planning.aircraft_performance.performance.performance_model_enum import (\n",
    "    PerformanceModelEnum,\n",
    ")\n",
    "from skdecide.hub.domain.flight_planning.aircraft_performance.performance.phase_enum import (\n",
    "    PhaseEnum,\n",
    ")\n",
    "from skdecide.hub.domain.flight_planning.aircraft_performance.performance.rating_enum import (\n",
    "    RatingEnum,\n",
    ")\n",
    "from skdecide.hub.domain.flight_planning.domain import FlightPlanningDomain, WeatherDate\n",
    "from skdecide.hub.domain.flight_planning.flightplanning_utils import plot_graph_vertical, plot_network_adapted, plot_flight_graph_on_map_with_edges\n",
    "from skdecide.hub.solver.astar import Astar\n",
    "\n",
    "from openap.extra.nav import airport\n",
    "from openap.extra.aero import cas2mach, ft, kts\n",
    "import numpy as np\n",
    "\n",
    "\n",
    "# reload\n",
    "%load_ext autoreload\n",
    "%autoreload 2"
   ]
  },
  {
   "attachments": {},
   "cell_type": "markdown",
   "metadata": {},
   "source": [
    "## Definition of the problem\n",
    "\n",
    "Here we will make a short haul flight from Paris Charles de Gaulle airport (ICAO : LFPG) to Toulouse-Blagnac airport (ICAO: LFBO), using an airbus A320 aircraft."
   ]
  },
  {
   "cell_type": "code",
   "execution_count": null,
   "metadata": {},
   "outputs": [],
   "source": [
    "origin = \"LFPG\"\n",
    "destination = \"LFBO\"\n",
    "aircraft = \"A320\""
   ]
  },
  {
   "attachments": {},
   "cell_type": "markdown",
   "metadata": {},
   "source": [
    "Now, we are going to define a date that will be used for weather interpolation. If the data has not already be downloaded on your computer, be careful to choose a date within the past 6 months, so that the data is available on https://www.ncei.noaa.gov."
   ]
  },
  {
   "cell_type": "code",
   "execution_count": null,
   "metadata": {},
   "outputs": [],
   "source": [
    "# we set a date valid for 4 months to avoid downloading weather data at each daily run.\n",
    "today = datetime.date.today()\n",
    "month = ((today.month) - 1) // 4 * 4 + 1  # will result in january, may, or september\n",
    "year = today.year\n",
    "day = 1\n",
    "\n",
    "weather_date = WeatherDate(day=day, month=month, year=year)\n",
    "print(weather_date)"
   ]
  },
  {
   "attachments": {},
   "cell_type": "markdown",
   "metadata": {},
   "source": [
    "We can now define heuristic and cost function, to feed the A* solver. This aims to guide him along the airways graph to solve the problem, and get as close as possible to the optimal solution. \n",
    "\n",
    "The heuristic function can be either `\"fuel\"`, `\"time\"`, `\"distance\"`, `\"lazy_fuel\"`, `\"lazy_time\"`, or `None`. If `None`, the A* will behave as a Dijkstra-like search algorithm, as we give a 0 value to the A* algorithm. \n",
    "\n",
    "The cost function can be either `\"fuel\"`, `\"time\"`, or `\"distance\"`. \n",
    "It will define the cost of the flight plan, computed during the state-to-state flight simulation. "
   ]
  },
  {
   "cell_type": "code",
   "execution_count": null,
   "metadata": {},
   "outputs": [],
   "source": [
    "heuristic = \"fuel\"\n",
    "cost_function = \"fuel\""
   ]
  },
  {
   "cell_type": "markdown",
   "metadata": {},
   "source": [
    "## Definition of the aircraft initial state\n",
    "Now, we define the aircraft state. This implies picking an aircraft performance model : `OPENAP` or `POLL_SCHUMANN`"
   ]
  },
  {
   "cell_type": "code",
   "execution_count": null,
   "metadata": {},
   "outputs": [],
   "source": [
    "acState = AircraftState(\n",
    "    model_type=\"A320\",  # only for OPENAP and POLL_SCHUMANN\n",
    "    performance_model_type=PerformanceModelEnum.POLL_SCHUMANN,  # PerformanceModelEnum.OPENAP\n",
    "    gw_kg=80_000,\n",
    "    zp_ft=10_000,\n",
    "    mach=cas2mach(250*kts, h=10_000*ft, dT=0),\n",
    "    phase=PhaseEnum.CLIMB,\n",
    "    rating_level=RatingEnum.MCL,\n",
    "    cg=0.3,\n",
    ")"
   ]
  },
  {
   "attachments": {},
   "cell_type": "markdown",
   "metadata": {},
   "source": [
    "## Definition of the corresponding domain\n",
    "\n",
    "We are now going to define the domain. It can take some time, especially if it needs to download some weather files, or if you ask for a fuel loop. \n"
   ]
  },
  {
   "cell_type": "code",
   "execution_count": null,
   "metadata": {},
   "outputs": [],
   "source": [
    "domain_factory = lambda: FlightPlanningDomain(\n",
    "    aircraft_state=acState,\n",
    "\n",
    "    mach_cruise=0.78,\n",
    "    mach_climb=0.7,\n",
    "    mach_descent=0.65,\n",
    "\n",
    "    nb_forward_points=20,\n",
    "    nb_lateral_points=10,\n",
    "    nb_climb_descent_steps=5,\n",
    "    flight_levels_ft=list(np.arange(30_000, 38_000+2_000, 2_000)),\n",
    "    graph_width=\"medium\",\n",
    "    origin=LatLon(43.629444, 1.363056),\n",
    "    destination=\"EDDB\",\n",
    "\n",
    "    objective=\"fuel\",\n",
    "    heuristic_name=\"lazy_fuel\",\n",
    "\n",
    "    weather_date=weather_date\n",
    ")\n",
    "\n",
    "domain = domain_factory()"
   ]
  },
  {
   "cell_type": "markdown",
   "metadata": {},
   "source": [
    "We can plot the graph:"
   ]
  },
  {
   "cell_type": "code",
   "execution_count": null,
   "metadata": {},
   "outputs": [],
   "source": [
    "plot_network_adapted(\n",
    "    graph=domain.network,\n",
    "    p0=LatLon(43.629444, 1.363056),\n",
    "    p1=LatLon(airport(\"EDDB\")[\"lat\"], airport(\"EDDB\")[\"lon\"], airport(\"EDDB\")[\"alt\"]*ft)\n",
    ")"
   ]
  },
  {
   "attachments": {},
   "cell_type": "markdown",
   "metadata": {},
   "source": [
    "## Solving and rendering out the flight planning domain\n",
    "\n",
    "We use here an A* solver as mentionned before. \n",
    "We also use the custom rollout proposed to have some visualization during the flight planning generation."
   ]
  },
  {
   "cell_type": "code",
   "execution_count": null,
   "metadata": {},
   "outputs": [],
   "source": [
    "solver = Astar(\n",
    "    domain_factory=domain_factory,\n",
    "    heuristic=lambda d, s: d.heuristic(s),\n",
    "    parallel=False,\n",
    ")"
   ]
  },
  {
   "cell_type": "code",
   "execution_count": null,
   "metadata": {},
   "outputs": [],
   "source": [
    "solver.solve()"
   ]
  },
  {
   "cell_type": "code",
   "execution_count": null,
   "metadata": {},
   "outputs": [],
   "source": [
    "domain.custom_rollout(solver=solver, make_img=True)"
   ]
  },
  {
   "cell_type": "code",
   "execution_count": null,
   "metadata": {},
   "outputs": [],
   "source": [
    "domain.observation.trajectory"
   ]
  },
  {
   "cell_type": "markdown",
   "metadata": {},
   "source": [
    "## Aircraft state initial location somewhere on the graph"
   ]
  },
  {
   "cell_type": "code",
   "execution_count": null,
   "metadata": {},
   "outputs": [],
   "source": [
    "acState = AircraftState(\n",
    "    model_type=\"A320\",  # only for OPENAP and POLL_SCHUMANN\n",
    "    performance_model_type=PerformanceModelEnum.POLL_SCHUMANN,  # PerformanceModelEnum.OPENAP\n",
    "    gw_kg=80_000,\n",
    "    zp_ft=18000.0,\n",
    "    mach=cas2mach(250*kts, h=10_000*ft, dT=0),\n",
    "    phase=PhaseEnum.CLIMB,\n",
    "    rating_level=RatingEnum.MCL,\n",
    "    cg=0.3,\n",
    "    x_graph=5,\n",
    "    y_graph=5,\n",
    "    z_graph=10\n",
    ")"
   ]
  },
  {
   "cell_type": "code",
   "execution_count": null,
   "metadata": {},
   "outputs": [],
   "source": [
    "domain_factory = lambda: FlightPlanningDomain(\n",
    "    aircraft_state=acState,\n",
    "\n",
    "    mach_cruise=0.78,\n",
    "    mach_climb=0.7,\n",
    "    mach_descent=0.65,\n",
    "\n",
    "    nb_forward_points=20,\n",
    "    nb_lateral_points=10,\n",
    "    nb_climb_descent_steps=5,\n",
    "    flight_levels_ft=list(np.arange(30_000, 38_000+2_000, 2_000)),\n",
    "    graph_width=\"medium\",\n",
    "    origin=LatLon(43.629444, 1.363056),\n",
    "    destination=\"EPWA\",\n",
    "\n",
    "    objective=\"fuel\",\n",
    "    heuristic_name=\"lazy_fuel\",\n",
    "\n",
    "    weather_date=weather_date\n",
    ")\n",
    "\n",
    "domain = domain_factory()"
   ]
  },
  {
   "cell_type": "code",
   "execution_count": null,
   "metadata": {},
   "outputs": [],
   "source": [
    "solver = Astar(\n",
    "    domain_factory=domain_factory,\n",
    "    heuristic=lambda d, s: d.heuristic(s),\n",
    "    parallel=False,\n",
    ")"
   ]
  },
  {
   "cell_type": "code",
   "execution_count": null,
   "metadata": {},
   "outputs": [],
   "source": [
    "solver.solve()"
   ]
  },
  {
   "cell_type": "code",
   "execution_count": null,
   "metadata": {},
   "outputs": [],
   "source": [
    "domain.custom_rollout(solver=solver, make_img=True)"
   ]
  },
  {
   "cell_type": "code",
   "execution_count": null,
   "metadata": {},
   "outputs": [],
   "source": [
    "domain.observation.trajectory"
   ]
  },
  {
   "cell_type": "code",
   "execution_count": null,
   "metadata": {},
   "outputs": [],
   "source": [
    "plot_flight_graph_on_map_with_edges(\n",
    "    G=domain.network,\n",
    "    nb_lateral_points_param=10)"
   ]
  },
  {
   "cell_type": "code",
   "execution_count": null,
   "metadata": {},
   "outputs": [],
   "source": []
  }
 ],
 "metadata": {
  "kernelspec": {
   "display_name": "scikit-decide-winUW6Gy-py3.12",
   "language": "python",
   "name": "python3"
  },
  "language_info": {
   "codemirror_mode": {
    "name": "ipython",
    "version": 3
   },
   "file_extension": ".py",
   "mimetype": "text/x-python",
   "name": "python",
   "nbconvert_exporter": "python",
   "pygments_lexer": "ipython3",
   "version": "3.12.2"
  }
 },
 "nbformat": 4,
 "nbformat_minor": 4
}
