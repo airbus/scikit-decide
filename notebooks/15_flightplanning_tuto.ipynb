{
 "cells": [
  {
   "attachments": {},
   "cell_type": "markdown",
   "metadata": {},
   "source": [
    "# Flight Planning Domain \n",
    "\n",
    "This notebook aims to make a short and interactive example of the Flight Planning Domain. You can find more information about it in the README file."
   ]
  },
  {
   "cell_type": "code",
   "execution_count": null,
   "metadata": {},
   "outputs": [],
   "source": [
    "from skdecide.hub.domain.flight_planning.domain import FlightPlanningDomain, WeatherDate\n",
    "from skdecide.hub.domain.flight_planning.weather_interpolator.weather_tools.get_weather_noaa import (\n",
    "    get_weather_matrix,\n",
    ")\n",
    "from skdecide.hub.domain.flight_planning.weather_interpolator.weather_tools.interpolator.GenericInterpolator import (\n",
    "    GenericWindInterpolator,\n",
    ")"
   ]
  },
  {
   "attachments": {},
   "cell_type": "markdown",
   "metadata": {},
   "source": [
    "### Definition of the problem\n",
    "\n",
    "Here we will make a short haul flight from Paris Charles de Gaulle airport (ICAO : LFPG) to Toulouse-Blagnac airport (ICAO: LFBO), using an airbus A320 aircraft."
   ]
  },
  {
   "cell_type": "code",
   "execution_count": null,
   "metadata": {},
   "outputs": [],
   "source": [
    "origin = \"LFPG\"\n",
    "destination = \"LFBO\"\n",
    "aircraft = \"A320\""
   ]
  },
  {
   "attachments": {},
   "cell_type": "markdown",
   "metadata": {},
   "source": [
    "Now, we are going to define a date, in the past 6 months, to get access to weather interpolation."
   ]
  },
  {
   "cell_type": "code",
   "execution_count": null,
   "metadata": {},
   "outputs": [],
   "source": [
    "weather_date = WeatherDate(day=21, month=4, year=2023)\n",
    "w_dict = weather_date.to_dict()\n",
    "mat = get_weather_matrix(\n",
    "    year=w_dict[\"year\"],\n",
    "    month=w_dict[\"month\"],\n",
    "    day=w_dict[\"day\"],\n",
    "    forecast=w_dict[\"forecast\"],\n",
    "    delete_npz_from_local=False,\n",
    "    delete_grib_from_local=False,\n",
    ")\n",
    "wind_interpolator = GenericWindInterpolator(file_npz=mat)"
   ]
  },
  {
   "attachments": {},
   "cell_type": "markdown",
   "metadata": {},
   "source": [
    "We can now define heuristic & cost function, to feed the A* solver. This aims to guide him along the airways graph to solve the problem, and get as close as possible to the optimal solution. \n",
    "\n",
    "The heuristic function can be either fuel, time, distance, lazy_fuel, lazy_time and None. If None, the A* will behave as a Dijkstra like search algorithm, as we give a 0 value to the A* algorithm. \n",
    "\n",
    "The cost function can be either fuel, time and distance. It will define the cost of the flight plan, computed during the state to state flight simulation. "
   ]
  },
  {
   "cell_type": "code",
   "execution_count": null,
   "metadata": {},
   "outputs": [],
   "source": [
    "heuristic = \"lazy_fuel\"\n",
    "cost_function = \"fuel\""
   ]
  },
  {
   "attachments": {},
   "cell_type": "markdown",
   "metadata": {},
   "source": [
    "### Definition of the Domain and Optional features \n",
    "\n",
    "There is many other optionnal features, as described in the README. We are now going to define the domain. \n",
    "\n",
    "It will initialize the Flight Planning Domain with the given features, and can take some time, especially if it needs to download the differents weather files, and if you ask for a fuel loop. \n"
   ]
  },
  {
   "cell_type": "code",
   "execution_count": null,
   "metadata": {},
   "outputs": [],
   "source": [
    "domain_factory = lambda: FlightPlanningDomain(\n",
    "    origin,\n",
    "    destination,\n",
    "    aircraft,\n",
    "    weather_date=weather_date,\n",
    "    wind_interpolator=wind_interpolator,\n",
    "    heuristic_name=heuristic,\n",
    "    objective=cost_function,\n",
    "    fuel_loop=False,\n",
    "    graph_width=\"normal\",\n",
    ")\n",
    "domain = domain_factory()"
   ]
  },
  {
   "attachments": {},
   "cell_type": "markdown",
   "metadata": {},
   "source": [
    "Then we can solve the problem : (can take time depending on )"
   ]
  },
  {
   "cell_type": "code",
   "execution_count": null,
   "metadata": {},
   "outputs": [],
   "source": [
    "domain.solve(domain_factory, make_img=True)"
   ]
  },
  {
   "cell_type": "code",
   "execution_count": null,
   "metadata": {},
   "outputs": [],
   "source": []
  }
 ],
 "metadata": {
  "kernelspec": {
   "display_name": "skdecide",
   "language": "python",
   "name": "python3"
  },
  "language_info": {
   "codemirror_mode": {
    "name": "ipython",
    "version": 3
   },
   "file_extension": ".py",
   "mimetype": "text/x-python",
   "name": "python",
   "nbconvert_exporter": "python",
   "pygments_lexer": "ipython3",
   "version": "3.8.13"
  }
 },
 "nbformat": 4,
 "nbformat_minor": 2
}
