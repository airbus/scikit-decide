{
 "cells": [
  {
   "attachments": {},
   "cell_type": "markdown",
   "metadata": {},
   "source": [
    "# Flight Planning Domain \n",
    "\n",
    "This notebook aims to make a short and interactive example of the Flight Planning Domain. See the [online documentation](https://airbus.github.io/scikit-decide/reference/_skdecide.hub.domain.flight_planning.domain.html#flightplanningdomain) for more information."
   ]
  },
  {
   "cell_type": "markdown",
   "metadata": {},
   "source": [
    "Concerning the python kernel to use for this notebook:\n",
    "- If running locally, be sure to use an environment with scikit-decide[all] and minizinc.\n",
    "- If running on colab, the next cell does it for you.\n",
    "- If running on binder, the environment should be ready."
   ]
  },
  {
   "cell_type": "code",
   "execution_count": null,
   "metadata": {},
   "outputs": [],
   "source": [
    "# On Colab: install the library\n",
    "on_colab = \"google.colab\" in str(get_ipython())\n",
    "if on_colab:\n",
    "    import glob\n",
    "    import importlib\n",
    "    import json\n",
    "    import os\n",
    "    import sys\n",
    "\n",
    "    using_nightly_version = True\n",
    "\n",
    "    if using_nightly_version:\n",
    "        # look for nightly build download url\n",
    "        release_curl_res = !curl -L   -H \"Accept: application/vnd.github+json\" -H \"X-GitHub-Api-Version: 2022-11-28\" https://api.github.com/repos/airbus/scikit-decide/releases/tags/nightly\n",
    "        release_dict = json.loads(release_curl_res.s)\n",
    "        release_download_url = sorted(\n",
    "            release_dict[\"assets\"], key=lambda d: d[\"updated_at\"]\n",
    "        )[-1][\"browser_download_url\"]\n",
    "        print(release_download_url)\n",
    "\n",
    "        # download and unzip\n",
    "        !wget --output-document=release.zip {release_download_url}\n",
    "        !unzip -o release.zip\n",
    "\n",
    "        # get proper wheel name according to python version used\n",
    "        wheel_pythonversion_tag = f\"cp{sys.version_info.major}{sys.version_info.minor}\"\n",
    "        wheel_path = glob.glob(\n",
    "            f\"dist/scikit_decide*{wheel_pythonversion_tag}*manylinux*.whl\"\n",
    "        )[0]\n",
    "\n",
    "        skdecide_pip_spec = f\"{wheel_path}[all]\"\n",
    "    else:\n",
    "        skdecide_pip_spec = \"scikit-decide[all]\"\n",
    "\n",
    "    # uninstall google protobuf conflicting with ray and sb3\n",
    "    ! pip uninstall -y protobuf\n",
    "\n",
    "    # install scikit-decide with all extras\n",
    "    !pip install {skdecide_pip_spec}\n",
    "\n",
    "    # be sure to load the proper cffi (downgraded compared to the one initially on colab)\n",
    "    import cffi\n",
    "\n",
    "    importlib.reload(cffi)\n",
    "\n",
    "    # install and configure minizinc\n",
    "    !curl -o minizinc.AppImage -L https://github.com/MiniZinc/MiniZincIDE/releases/download/2.6.3/MiniZincIDE-2.6.3-x86_64.AppImage\n",
    "    !chmod +x minizinc.AppImage\n",
    "    !./minizinc.AppImage --appimage-extract\n",
    "    os.environ[\"PATH\"] = f\"{os.getcwd()}/squashfs-root/usr/bin/:{os.environ['PATH']}\"\n",
    "    os.environ[\n",
    "        \"LD_LIBRARY_PATH\"\n",
    "    ] = f\"{os.getcwd()}/squashfs-root/usr/lib/:{os.environ['LD_LIBRARY_PATH']}\""
   ]
  },
  {
   "cell_type": "code",
   "execution_count": null,
   "metadata": {},
   "outputs": [],
   "source": [
    "import datetime\n",
    "\n",
    "from skdecide.hub.domain.flight_planning.domain import FlightPlanningDomain, WeatherDate\n",
    "from skdecide.hub.solver.astar import Astar\n",
    "\n",
    "# reload\n",
    "%load_ext autoreload\n",
    "%autoreload 2"
   ]
  },
  {
   "attachments": {},
   "cell_type": "markdown",
   "metadata": {},
   "source": [
    "## Definition of the problem\n",
    "\n",
    "Here we will make a short haul flight from Paris Charles de Gaulle airport (ICAO : LFPG) to Toulouse-Blagnac airport (ICAO: LFBO), using an airbus A320 aircraft."
   ]
  },
  {
   "cell_type": "code",
   "execution_count": null,
   "metadata": {},
   "outputs": [],
   "source": [
    "origin = \"LFPG\"\n",
    "destination = \"LFBO\"\n",
    "aircraft = \"A320\""
   ]
  },
  {
   "attachments": {},
   "cell_type": "markdown",
   "metadata": {},
   "source": [
    "Now, we are going to define a date that will be used for weather interpolation. If the data has not already be downloaded on your computer, be careful to choose a date within the past 6 months, so that the data is available on https://www.ncei.noaa.gov."
   ]
  },
  {
   "cell_type": "code",
   "execution_count": null,
   "metadata": {},
   "outputs": [],
   "source": [
    "# we set a date valid for 4 months to avoid downloading weather data at each daily run.\n",
    "today = datetime.date.today()\n",
    "month = ((today.month) - 1) // 4 * 4 + 1  # will result in january, may, or september\n",
    "year = today.year\n",
    "day = 1\n",
    "\n",
    "weather_date = WeatherDate(day=day, month=month, year=year)\n",
    "print(weather_date)"
   ]
  },
  {
   "attachments": {},
   "cell_type": "markdown",
   "metadata": {},
   "source": [
    "We can now define heuristic and cost function, to feed the A* solver. This aims to guide him along the airways graph to solve the problem, and get as close as possible to the optimal solution. \n",
    "\n",
    "The heuristic function can be either `\"fuel\"`, `\"time\"`, `\"distance\"`, `\"lazy_fuel\"`, `\"lazy_time\"`, or `None`. If `None`, the A* will behave as a Dijkstra-like search algorithm, as we give a 0 value to the A* algorithm. \n",
    "\n",
    "The cost function can be either `\"fuel\"`, `\"time\"`, or `\"distance\"`. \n",
    "It will define the cost of the flight plan, computed during the state-to-state flight simulation. "
   ]
  },
  {
   "cell_type": "code",
   "execution_count": null,
   "metadata": {},
   "outputs": [],
   "source": [
    "heuristic = \"fuel\"\n",
    "cost_function = \"fuel\""
   ]
  },
  {
   "attachments": {},
   "cell_type": "markdown",
   "metadata": {},
   "source": [
    "## Definition of the corresponding domain\n",
    "\n",
    "We are now going to define the domain. It can take some time, especially if it needs to download some weather files, or if you ask for a fuel loop. \n"
   ]
  },
  {
   "cell_type": "code",
   "execution_count": null,
   "metadata": {},
   "outputs": [],
   "source": [
    "domain_factory = lambda: FlightPlanningDomain(\n",
    "    origin,\n",
    "    destination,\n",
    "    aircraft,\n",
    "    weather_date=weather_date,\n",
    "    heuristic_name=heuristic,\n",
    "    perf_model_name=\"openap\",  # a/c performance model\n",
    "    objective=cost_function,\n",
    "    fuel_loop=False,\n",
    "    graph_width=\"normal\",\n",
    ")\n",
    "\n",
    "domain = domain_factory()"
   ]
  },
  {
   "attachments": {},
   "cell_type": "markdown",
   "metadata": {},
   "source": [
    "## Solving and rendering out the flight planning domain\n",
    "\n",
    "We use here an A* solver as mentionned before. \n",
    "We also use the custom rollout proposed to have some visualization during the flight planning generation."
   ]
  },
  {
   "cell_type": "code",
   "execution_count": null,
   "metadata": {},
   "outputs": [],
   "source": [
    "with Astar(\n",
    "    heuristic=lambda d, s: d.heuristic(s), domain_factory=domain_factory, parallel=False\n",
    ") as solver:\n",
    "    domain.solve_with(solver=solver, domain_factory=domain_factory)\n",
    "\n",
    "    domain.custom_rollout(solver=solver)"
   ]
  },
  {
   "cell_type": "markdown",
   "metadata": {},
   "source": [
    "## Changing aircraft performance model\n",
    "\n",
    "One of the new features of the flight planning domain is the addition of another aircraft performance model. Indeed, the default is OpenAP (`openap`) but we can now choose [Poll-Schumann](https://elib.dlr.de/135592/1/Poll_Schumann_estimation_method_fuel_burn_performance_aircraft_cruise_part_1_fundamentals_2020.pdf) (`PS`), which is more accurate.\n",
    "\n",
    "Thus, we can run the solver on the domain with a Poll-Schumann A/C performance model:"
   ]
  },
  {
   "cell_type": "code",
   "execution_count": null,
   "metadata": {},
   "outputs": [],
   "source": [
    "domain_factory = lambda: FlightPlanningDomain(\n",
    "    origin,\n",
    "    destination,\n",
    "    aircraft,\n",
    "    weather_date=weather_date,\n",
    "    heuristic_name=heuristic,\n",
    "    perf_model_name=\"PS\",  # a/c performance model\n",
    "    objective=cost_function,\n",
    "    fuel_loop=False,\n",
    "    graph_width=\"normal\",\n",
    ")\n",
    "\n",
    "domain = domain_factory()\n",
    "\n",
    "with Astar(\n",
    "    heuristic=lambda d, s: d.heuristic(s), domain_factory=domain_factory, parallel=False\n",
    ") as solver:\n",
    "    domain.solve_with(solver=solver, domain_factory=domain_factory)\n",
    "\n",
    "    domain.custom_rollout(solver=solver)"
   ]
  },
  {
   "cell_type": "markdown",
   "metadata": {},
   "source": [
    "## Longer routes\n",
    "\n",
    "Finally, we will make a long haul flight: Cartagena (ICAO: SKCG) - Toulouse (ICAO: LFBO), with an A380. For computational purposes, we will also modify the heuristic function:"
   ]
  },
  {
   "cell_type": "code",
   "execution_count": null,
   "metadata": {},
   "outputs": [],
   "source": [
    "heuristic = \"lazy_fuel\"\n",
    "\n",
    "origin = \"SKCG\"\n",
    "destination = \"LFBO\"\n",
    "aircraft = \"A388\"\n",
    "\n",
    "domain_factory = lambda: FlightPlanningDomain(\n",
    "    origin,\n",
    "    destination,\n",
    "    aircraft,\n",
    "    weather_date=weather_date,\n",
    "    heuristic_name=heuristic,\n",
    "    perf_model_name=\"openap\",  # a/c performance model\n",
    "    objective=cost_function,\n",
    "    fuel_loop=False,\n",
    "    graph_width=\"normal\",\n",
    ")\n",
    "\n",
    "domain = domain_factory()\n",
    "\n",
    "with Astar(\n",
    "    heuristic=lambda d, s: d.heuristic(s), domain_factory=domain_factory, parallel=False\n",
    ") as solver:\n",
    "    domain.solve_with(solver=solver, domain_factory=domain_factory)\n",
    "\n",
    "    domain.custom_rollout(solver=solver)"
   ]
  },
  {
   "cell_type": "code",
   "execution_count": null,
   "metadata": {},
   "outputs": [],
   "source": [
    "origin = \"SKCG\"\n",
    "destination = \"LFBO\"\n",
    "aircraft = \"A388\"\n",
    "\n",
    "domain_factory = lambda: FlightPlanningDomain(\n",
    "    origin,\n",
    "    destination,\n",
    "    aircraft,\n",
    "    weather_date=weather_date,\n",
    "    heuristic_name=heuristic,\n",
    "    perf_model_name=\"PS\",  # a/c performance model\n",
    "    objective=cost_function,\n",
    "    fuel_loop=False,\n",
    "    graph_width=\"normal\",\n",
    ")\n",
    "\n",
    "domain = domain_factory()\n",
    "\n",
    "with Astar(\n",
    "    heuristic=lambda d, s: d.heuristic(s), domain_factory=domain_factory, parallel=False\n",
    ") as solver:\n",
    "    domain.solve_with(solver=solver, domain_factory=domain_factory)\n",
    "\n",
    "    domain.custom_rollout(solver=solver)"
   ]
  }
 ],
 "metadata": {
  "kernelspec": {
   "display_name": "Python 3 (ipykernel)",
   "language": "python",
   "name": "python3"
  },
  "language_info": {
   "codemirror_mode": {
    "name": "ipython",
    "version": 3
   },
   "file_extension": ".py",
   "mimetype": "text/x-python",
   "name": "python",
   "nbconvert_exporter": "python",
   "pygments_lexer": "ipython3",
   "version": "3.8.18"
  }
 },
 "nbformat": 4,
 "nbformat_minor": 4
}
