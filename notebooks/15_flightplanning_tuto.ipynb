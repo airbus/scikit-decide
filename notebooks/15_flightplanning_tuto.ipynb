{
 "cells": [
  {
   "attachments": {},
   "cell_type": "markdown",
   "metadata": {},
   "source": [
    "# Flight Planning Domain \n",
    "\n",
    "This notebook aims to make a short and interactive example of the Flight Planning Domain. See the [online documentation](https://airbus.github.io/scikit-decide/reference/_skdecide.hub.domain.flight_planning.domain.html#flightplanningdomain) for more information."
   ]
  },
  {
   "cell_type": "code",
   "execution_count": null,
   "metadata": {},
   "outputs": [],
   "source": [
    "import datetime\n",
    "\n",
    "from skdecide.hub.domain.flight_planning.domain import FlightPlanningDomain, WeatherDate\n",
    "from skdecide.hub.solver.astar import Astar"
   ]
  },
  {
   "attachments": {},
   "cell_type": "markdown",
   "metadata": {},
   "source": [
    "## Definition of the problem\n",
    "\n",
    "Here we will make a short haul flight from Paris Charles de Gaulle airport (ICAO : LFPG) to Toulouse-Blagnac airport (ICAO: LFBO), using an airbus A320 aircraft."
   ]
  },
  {
   "cell_type": "code",
   "execution_count": null,
   "metadata": {},
   "outputs": [],
   "source": [
    "origin = \"LFPG\"\n",
    "destination = \"LFBO\"\n",
    "aircraft = \"A320\""
   ]
  },
  {
   "attachments": {},
   "cell_type": "markdown",
   "metadata": {},
   "source": [
    "Now, we are going to define a date that will be used for weather interpolation. If the data has not already be downloaded on your computer, be careful to choose a date within the past 6 months, so that the data is available on https://www.ncei.noaa.gov."
   ]
  },
  {
   "cell_type": "code",
   "execution_count": null,
   "metadata": {},
   "outputs": [],
   "source": [
    "# we set a date valid for 4 months to avoid downloading weather data at each daily run.\n",
    "today = datetime.date.today()\n",
    "month = ((today.month) - 1) // 4 * 4 + 1  # will result in january, may, or september\n",
    "year = today.year\n",
    "day = 1\n",
    "\n",
    "weather_date = WeatherDate(day=day, month=month, year=year)\n",
    "print(weather_date)"
   ]
  },
  {
   "attachments": {},
   "cell_type": "markdown",
   "metadata": {},
   "source": [
    "We can now define heuristic and cost function, to feed the A* solver. This aims to guide him along the airways graph to solve the problem, and get as close as possible to the optimal solution. \n",
    "\n",
    "The heuristic function can be either `\"fuel\"`, `\"time\"`, `\"distance\"`, `\"lazy_fuel\"`, `\"lazy_time\"`, or `None`. If `None`, the A* will behave as a Dijkstra-like search algorithm, as we give a 0 value to the A* algorithm. \n",
    "\n",
    "The cost function can be either `\"fuel\"`, `\"time\"`, or `\"distance\"`. \n",
    "It will define the cost of the flight plan, computed during the state-to-state flight simulation. "
   ]
  },
  {
   "cell_type": "code",
   "execution_count": null,
   "metadata": {},
   "outputs": [],
   "source": [
    "heuristic = \"lazy_fuel\"\n",
    "cost_function = \"fuel\""
   ]
  },
  {
   "attachments": {},
   "cell_type": "markdown",
   "metadata": {},
   "source": [
    "## Definition of the corresponding domain\n",
    "\n",
    "We are now going to define the domain. It can take some time, especially if it needs to download some weather files, or if you ask for a fuel loop. \n"
   ]
  },
  {
   "cell_type": "code",
   "execution_count": null,
   "metadata": {},
   "outputs": [],
   "source": [
    "domain_factory = lambda: FlightPlanningDomain(\n",
    "    origin,\n",
    "    destination,\n",
    "    aircraft,\n",
    "    weather_date=weather_date,\n",
    "    heuristic_name=heuristic,\n",
    "    objective=cost_function,\n",
    "    fuel_loop=False,\n",
    "    graph_width=\"normal\",\n",
    ")\n",
    "domain = domain_factory()"
   ]
  },
  {
   "attachments": {},
   "cell_type": "markdown",
   "metadata": {},
   "source": [
    "## Solving and rendering out the flight planning\n",
    "\n",
    "We use her an A* solver as mentionned before. \n",
    "We also use the custom rollout proposed to have some visualization during the flight planning generation."
   ]
  },
  {
   "cell_type": "code",
   "execution_count": null,
   "metadata": {},
   "outputs": [],
   "source": [
    "with Astar(\n",
    "    heuristic=lambda d, s: d.heuristic(s), domain_factory=domain_factory\n",
    ") as solver:\n",
    "    domain.solve_with(solver=solver, domain_factory=domain_factory)\n",
    "    domain.custom_rollout(solver=solver)"
   ]
  }
 ],
 "metadata": {
  "kernelspec": {
   "display_name": "Python 3 (ipykernel)",
   "language": "python",
   "name": "python3"
  },
  "language_info": {
   "codemirror_mode": {
    "name": "ipython",
    "version": 3
   },
   "file_extension": ".py",
   "mimetype": "text/x-python",
   "name": "python",
   "nbconvert_exporter": "python",
   "pygments_lexer": "ipython3",
   "version": "3.10.11"
  }
 },
 "nbformat": 4,
 "nbformat_minor": 4
}
