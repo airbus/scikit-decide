{
 "cells": [
  {
   "cell_type": "markdown",
   "metadata": {},
   "source": [
    "#  Flight Planning\n",
    "\n",
    "The problem we are targetting is to predict the trajectory of an aircraft under forecasted weather conditions.\n",
    "\n",
    "This problem has been chosen for two reasons:\n",
    "  - Show how scikit-decide can be used in close to real life use case,\n",
    "  - Design a specific domain using external packages. In our case, we will use [OpenAP](https://github.com/TUDelft-CNS-ATM/openap) to simulate the dynamics of the aircraft.\n",
    "\n",
    "Therefore in this notebook we will go through the following steps:\n",
    "  - Wrap a Gym environment in a scikit-decide domain;\n",
    "  - Use a classical A*Star algorithm to solve our problem;\n",
    "  \n",
    "Notes:\n",
    "\n",
    "- In order to focus on scikit-decide use, we put some code not directly related to the library in a separate module (weather data download and interpolation).\n",
    "- This notebook can be long to run as it needs to retrieve a large amount of data"
   ]
  },
  {
   "cell_type": "code",
   "execution_count": null,
   "metadata": {},
   "outputs": [],
   "source": [
    "import warnings\n",
    "from argparse import Action\n",
    "from datetime import datetime, timedelta\n",
    "from enum import Enum\n",
    "from time import sleep\n",
    "from typing import Any, NamedTuple, Optional, Tuple, Union\n",
    "\n",
    "import matplotlib.pyplot as plt\n",
    "import pandas as pd\n",
    "from flightplanning_utils import (\n",
    "    WeatherRetrieverFromEcmwf,\n",
    "    WindInterpolator,\n",
    "    flying,\n",
    "    plot_trajectory,\n",
    ")\n",
    "from IPython.display import clear_output\n",
    "from openap.extra.aero import distance\n",
    "from openap.extra.nav import airport\n",
    "from openap.fuel import FuelFlow\n",
    "from openap.prop import aircraft\n",
    "from pygeodesy.ellipsoidalVincenty import LatLon\n",
    "\n",
    "from skdecide import DeterministicPlanningDomain, Space, Value\n",
    "from skdecide.builders.domain import Renderable, UnrestrictedActions\n",
    "from skdecide.hub.solver.astar import Astar\n",
    "from skdecide.hub.space.gym import EnumSpace, ListSpace, MultiDiscreteSpace\n",
    "from skdecide.utils import match_solvers\n",
    "\n",
    "# choose standard matplolib inline backend to render plots\n",
    "%matplotlib inline"
   ]
  },
  {
   "cell_type": "markdown",
   "metadata": {},
   "source": [
    "One package that we are using (cartopy) is throwing warnings, let's get rid of them"
   ]
  },
  {
   "cell_type": "code",
   "execution_count": null,
   "metadata": {},
   "outputs": [],
   "source": [
    "warnings.filterwarnings(\"ignore\")"
   ]
  },
  {
   "cell_type": "markdown",
   "metadata": {},
   "source": [
    "## About the Flight Planning problem"
   ]
  },
  {
   "cell_type": "markdown",
   "metadata": {},
   "source": [
    "In this problem, an aircarft is going from a departure airport to a destination airport. If the weather is not taken into account the optimal (shortest) path would be the [great circle](https://en.wikipedia.org/wiki/Great_circle). When winds come into play the prediction of the trajectory is more complex as we need to take into account the speed of the wind which varies over time. In the real life an aircraft route is defined by a certain number of waypoint the aircraft must go through and flight levels the pilot is supposed to respect. In order to simplify the problem, we will assume our aircraft can follow the directed edges of a graph starting from the destination airport and finishing to the arrival airport."
   ]
  },
  {
   "cell_type": "markdown",
   "metadata": {},
   "source": [
    "## Taming weather data \n",
    "\n",
    "As discussed earlier we want to see the impact of weather and more specifically wind on the flight path. Therefore we neeed to be able to get the wind velocity for any point of the globe at any flyable altitude and for a given time.\n",
    "\n",
    "For this we will use utility functions that are defined in `flightplanning_utils.py`"
   ]
  },
  {
   "cell_type": "markdown",
   "metadata": {},
   "source": [
    "### Defining credentials"
   ]
  },
  {
   "cell_type": "markdown",
   "metadata": {},
   "source": [
    "The weather data will be retrieved from the [Climate Data Store](https://cds.climate.copernicus.eu/cdsapp#!/home). To enable retrieval you will need to create an account there and store your credentials as follows:\n",
    "\n",
    "```\n",
    "key=\"{your_id}:{your_key}\"\n",
    "```"
   ]
  },
  {
   "cell_type": "code",
   "execution_count": null,
   "metadata": {},
   "outputs": [],
   "source": [
    "key = \"123456:aaaaaaaa-bbbb-cccc-dddd-eeeeeeeeeeee\""
   ]
  },
  {
   "cell_type": "markdown",
   "metadata": {},
   "source": [
    "### Retrieving wind data\n",
    "\n",
    "The next cell will retrieve the wind information for a given day on the whole planet. This will download approximately `2 GB`of data. Make sure to have a proper connection."
   ]
  },
  {
   "cell_type": "code",
   "execution_count": null,
   "metadata": {},
   "outputs": [],
   "source": [
    "file = None\n",
    "\n",
    "if key != \"123456:aaaaaaaa-bbbb-cccc-dddd-eeeeeeeeeeee\":\n",
    "    wr = WeatherRetrieverFromEcmwf()\n",
    "\n",
    "    # Select a date in the past, it takes up to 7 days for the weather data to reach the server\n",
    "    now = datetime.now()\n",
    "\n",
    "    # Here we fetch the data 7 days in the past from now\n",
    "    file = wr.get(now - timedelta(days=7))"
   ]
  },
  {
   "cell_type": "markdown",
   "metadata": {},
   "source": [
    "### Create a wind interpolator\n",
    "\n",
    "Now that we have retrieved the information, a wind interpolator can be created."
   ]
  },
  {
   "cell_type": "code",
   "execution_count": null,
   "metadata": {},
   "outputs": [],
   "source": [
    "wind_interpolator: WindInterpolator = None\n",
    "if file:\n",
    "    wind_interpolator = WindInterpolator(f\"{file.name}\")"
   ]
  },
  {
   "cell_type": "markdown",
   "metadata": {},
   "source": [
    "### Plot the wind data\n",
    "\n",
    "In order to have a feel of the conditions, we can plot the find at a certain altitude. Here we plot the wind at an altitude of 35000 feet."
   ]
  },
  {
   "cell_type": "code",
   "execution_count": null,
   "metadata": {},
   "outputs": [],
   "source": [
    "if wind_interpolator:\n",
    "    wind_interpolator.plot_wind(alt=35000.0, t=[0], plot_wind=True);"
   ]
  },
  {
   "cell_type": "markdown",
   "metadata": {},
   "source": [
    "## Defining the domain"
   ]
  },
  {
   "attachments": {
    "image.png": {
     "image/png": "[encoded data removed]"
    }
   },
   "cell_type": "markdown",
   "metadata": {},
   "source": [
    "Lets now define the various attributes of our `scikit-decide` domain:\n",
    "\n",
    "![image.png](attachment:image.png)\n",
    "\n",
    "### State\n",
    "\n",
    "- Aircraft position on the graph \n",
    "- Aircraft trajectory - trajectory followed up to this point. In particular it contains:\n",
    "    - the current time\n",
    "    - the current latitude\n",
    "    - the current longitude\n",
    "    - the current altitude\n",
    "    - the current mass\n",
    "\n"
   ]
  },
  {
   "cell_type": "code",
   "execution_count": null,
   "metadata": {},
   "outputs": [],
   "source": [
    "class State(NamedTuple):\n",
    "    trajectory: pd.DataFrame\n",
    "    pos: Tuple[int, int]\n",
    "\n",
    "    def __hash__(self):\n",
    "        return hash(self.pos)\n",
    "\n",
    "    def __eq__(self, other):\n",
    "        return self.pos == other.pos\n",
    "\n",
    "    def __ne__(self, other):\n",
    "        return self.pos != other.pos\n",
    "\n",
    "    def __str__(self):\n",
    "        return f\"[{self.trajectory.iloc[-1]['ts']:.2f} \\\n",
    "            {self.pos} \\\n",
    "            {self.trajectory.iloc[-1]['alt']:.2f} \\\n",
    "            {self.trajectory.iloc[-1]['fuel']:.2f}]\""
   ]
  },
  {
   "cell_type": "markdown",
   "metadata": {},
   "source": [
    "### Action\n",
    "- The various options the Aircraft can choose to navigate on the graph. In this case, we have three possible actions: UP, DOWN and STRAIGHT"
   ]
  },
  {
   "cell_type": "code",
   "execution_count": null,
   "metadata": {},
   "outputs": [],
   "source": [
    "class Action(Enum):\n",
    "    up = -1\n",
    "    straight = 0\n",
    "    down = 1"
   ]
  },
  {
   "cell_type": "markdown",
   "metadata": {},
   "source": [
    "### Goal\n",
    "- The goal is all the points that share the arrival location (latitude, longitude) ARR\n",
    "\n",
    "### Reward\n",
    "\n",
    "The reward (or cost) associated to any action is the value of the objective function for the given transition (often fuel consumption or time)\n",
    "\n",
    "### Starting State\n",
    "The starting position of the aircraft is the departure airport location (latitude, longitude) DEP. The aircraft is located on the great circle (middle line).\n"
   ]
  },
  {
   "cell_type": "markdown",
   "metadata": {},
   "source": [
    "We also specify the type of states, observations, events, transition values, ... \n",
    "\n",
    "This is needed so that the various solvers know how to work properly with this domain."
   ]
  },
  {
   "cell_type": "markdown",
   "metadata": {},
   "source": [
    "### Domain type\n",
    "\n",
    "\n",
    "Then we define the domain type from a base template (`DeterministicPlanningDomain`) with optional refinements (`UnrestrictedActions` and `Renderable`). This corresponds to the following characteristics:\n",
    "- `DeterministicPlanningDomain`:\n",
    "    - only one agent\n",
    "    - deterministic starting state\n",
    "    - handle only actions\n",
    "    - actions are sequential\n",
    "    - deterministic transitions\n",
    "    - white box transition model\n",
    "    - goal states are defined\n",
    "    - positive costs (i.e. negative rewards)\n",
    "    - fully observable\n",
    "- `UnrestrictedActions`: all actions are available at each step\n",
    "- `Renderable`: can be displayed"
   ]
  },
  {
   "cell_type": "code",
   "execution_count": null,
   "metadata": {},
   "outputs": [],
   "source": [
    "class D(DeterministicPlanningDomain, UnrestrictedActions, Renderable):\n",
    "    T_state = State  # Type of states\n",
    "    T_observation = State  # Type of observations\n",
    "    T_event = Action  # Type of events\n",
    "    T_value = float  # Type of transition values (rewards or costs)\n",
    "    T_predicate = bool  # Type of transition predicates (terminal states)\n",
    "    T_info = None  # Type of additional information in environment outcome\n",
    "    T_agent = Union  # Type of agent"
   ]
  },
  {
   "cell_type": "markdown",
   "metadata": {},
   "source": [
    "Once the domain type `D` has been defined, one can see from the [code generator]() that the following methods need to be implemented:\n",
    "\n",
    "```\n",
    "def _get_next_state(self, memory: D.T_state, action: D.T_event):\n",
    "    pass\n",
    "    \n",
    "def _get_transition_value(self, memory: D.T_state, action: D.T_event, next_state: Optional[D.T_state] = None)\n",
    "    pass\n",
    "    \n",
    "def _is_terminal(self, state: D.T_state):\n",
    "    pass\n",
    "    \n",
    "def _get_action_space_(self):\n",
    "    pass\n",
    "    \n",
    "def _get_goals_(self):\n",
    "    pass\n",
    "    \n",
    "def _state_reset(self):\n",
    "    pass\n",
    "    \n",
    "def _get_observation_space_(self):\n",
    "    pass\n",
    "    \n",
    "def _render_from(self, memory: D.T_state, **kwargs: Any):\n",
    "    pass\n",
    "```"
   ]
  },
  {
   "cell_type": "markdown",
   "metadata": {},
   "source": [
    "### Flight domain implementation\n",
    "\n",
    "The class below implements all methods highlighted above as well as the two following helper methods:\n",
    " - one to generate the mesh on which the aircraft can navigate,\n",
    " - one to guide the solver make decision by providing a heuristic\n",
    " \n",
    "The class provides also a constructor that takes few parameters defining the flight, namely:\n",
    " - origin airport (either ICAO [code](https://en.wikipedia.org/wiki/List_of_airports_by_ICAO_code:_A) or tuple with latitude & longitude),\n",
    " - destination airport using the same format\n",
    " - ICAO aircraft [type](https://en.wikipedia.org/wiki/List_of_aircraft_type_designators)\n",
    " - aircraft take-off weight as a percentage of the maximum take-off weight [MTOW](https://en.wikipedia.org/wiki/Maximum_takeoff_weight)\n",
    " - a wind interpolator (see below)\n",
    " - an objective functions (as defined by `open-ap`, can be `time`, `fuel`, `ci:xx`)"
   ]
  },
  {
   "cell_type": "code",
   "execution_count": null,
   "metadata": {},
   "outputs": [],
   "source": [
    "class FlightPlanningDomain(D):\n",
    "    def __init__(\n",
    "        self,\n",
    "        origin: Union[str, tuple],\n",
    "        destination: Union[str, tuple],\n",
    "        actype: str,\n",
    "        m0: float = 0.8,\n",
    "        wind_interpolator: WindInterpolator = None,\n",
    "        objective: Union[str, tuple] = \"fuel\",\n",
    "    ):\n",
    "        \"\"\"A simple class to compute a flight plan.\n",
    "\n",
    "        Parameters\n",
    "        ----------\n",
    "        origin: Union[str, tuple])\n",
    "            ICAO or IATA code of airport, or tuple (lat, lon)\n",
    "        destination: Union[str, tuple]\n",
    "            ICAO or IATA code of airport, or tuple (lat, lon)\n",
    "        aircraft : Aircraft\n",
    "            Describe the aircraft.\n",
    "        windfield: pd.DataFrame\n",
    "            Wind field data. Defaults to None.\n",
    "        objective: str\n",
    "            The objective of the flight. Defaults to \"fuel\".\n",
    "            for climb, cruise and descent.\n",
    "        \"\"\"\n",
    "        if isinstance(origin, str):\n",
    "            ap1 = airport(origin)\n",
    "            self.lat1, self.lon1 = ap1[\"lat\"], ap1[\"lon\"]\n",
    "        else:\n",
    "            self.lat1, self.lon1 = origin\n",
    "\n",
    "        if isinstance(destination, str):\n",
    "            ap2 = airport(destination)\n",
    "            self.lat2, self.lon2 = ap2[\"lat\"], ap2[\"lon\"]\n",
    "        else:\n",
    "            self.lat2, self.lon2 = destination\n",
    "        #\n",
    "        self.objective = objective\n",
    "\n",
    "        self.wind_ds = None\n",
    "        if wind_interpolator:\n",
    "            self.wind_ds = wind_interpolator.get_dataset()\n",
    "\n",
    "        # Build network between top of climb and destination airport\n",
    "        self.np: int = 41\n",
    "        self.nc: int = 11\n",
    "        self.network = self.get_network(\n",
    "            LatLon(self.lat1, self.lon1),\n",
    "            LatLon(self.lat2, self.lon2),\n",
    "            self.np,\n",
    "            self.nc,\n",
    "        )\n",
    "\n",
    "        ac = aircraft(actype)\n",
    "        self.start = State(\n",
    "            pd.DataFrame(\n",
    "                [\n",
    "                    {\n",
    "                        \"ts\": 0,\n",
    "                        \"lat\": self.lat1,\n",
    "                        \"lon\": self.lon1,\n",
    "                        \"mass\": m0 * ac[\"limits\"][\"MTOW\"],\n",
    "                        \"mach\": ac[\"cruise\"][\"mach\"],\n",
    "                        \"fuel\": 0.0,\n",
    "                        \"alt\": ac[\"cruise\"][\"height\"],\n",
    "                    }\n",
    "                ]\n",
    "            ),\n",
    "            (0, self.nc // 2),\n",
    "        )\n",
    "\n",
    "        self.fuel_flow = FuelFlow(actype).enroute\n",
    "\n",
    "    def _get_next_state(self, memory: D.T_state, action: D.T_event) -> D.T_state:\n",
    "        \"\"\"\n",
    "        Compute the next state from:\n",
    "          - memory: the current state\n",
    "          - action: the action to take\n",
    "        \"\"\"\n",
    "        trajectory = memory.trajectory.copy()\n",
    "\n",
    "        # Set intermediate destination point\n",
    "        next_x, next_y = memory.pos\n",
    "\n",
    "        next_x += 1\n",
    "\n",
    "        if action == Action.up:\n",
    "            next_y += 1\n",
    "        if action == Action.down:\n",
    "            next_y -= 1\n",
    "\n",
    "        # Aircraft stays on the network\n",
    "        if next_x >= self.np or next_y < 0 or next_y >= self.nc:\n",
    "            return memory\n",
    "\n",
    "        # Concatenate the two trajectories\n",
    "\n",
    "        to_lat = self.network[next_x][next_y].lat\n",
    "        to_lon = self.network[next_x][next_y].lon\n",
    "        trajectory = flying(\n",
    "            trajectory.tail(1), (to_lat, to_lon), self.wind_ds, self.fuel_flow\n",
    "        )\n",
    "\n",
    "        state = State(\n",
    "            pd.concat([memory.trajectory, trajectory], ignore_index=True),\n",
    "            (next_x, next_y),\n",
    "        )\n",
    "        return state\n",
    "\n",
    "    def _get_transition_value(\n",
    "        self,\n",
    "        memory: D.T_state,\n",
    "        action: D.T_event,\n",
    "        next_state: Optional[D.T_state] = None,\n",
    "    ) -> Value[D.T_value]:\n",
    "        \"\"\"\n",
    "        Get the value (reward or cost) of a transition.\n",
    "\n",
    "        Set cost to distance travelled between points\n",
    "        \"\"\"\n",
    "\n",
    "        assert memory != next_state, \"Next state is the same as the current state\"\n",
    "\n",
    "        cost = distance(\n",
    "            memory.trajectory.tail(1)[\"lat\"],\n",
    "            memory.trajectory.tail(1)[\"lon\"],\n",
    "            next_state.trajectory.iloc[-1][\"lat\"],\n",
    "            next_state.trajectory.iloc[-1][\"lon\"],\n",
    "        )\n",
    "\n",
    "        # return Value(cost=1)\n",
    "        return Value(cost=cost)\n",
    "\n",
    "    def _get_initial_state_(self) -> D.T_state:\n",
    "        \"\"\"\n",
    "        Get the initial state.\n",
    "\n",
    "        Set the start position as initial state.\n",
    "        \"\"\"\n",
    "        return self.start\n",
    "\n",
    "    def _get_goals_(self) -> Space[D.T_observation]:\n",
    "        \"\"\"\n",
    "        Get the domain goals space (finite or infinite set).\n",
    "\n",
    "        Set the end position as goal.\n",
    "        \"\"\"\n",
    "        return ListSpace([State(None, (self.np - 1, j)) for j in range(self.nc)])\n",
    "\n",
    "    def _is_terminal(self, state: State) -> D.T_predicate:\n",
    "        \"\"\"\n",
    "        Indicate whether a state is terminal.\n",
    "\n",
    "        Stop an episode only when goal reached.\n",
    "        \"\"\"\n",
    "        return state.pos[0] == self.np - 1\n",
    "\n",
    "    def _get_applicable_actions_from(self, memory: D.T_state) -> Space[D.T_event]:\n",
    "        \"\"\"\n",
    "        Get the applicable actions from a state.\n",
    "        \"\"\"\n",
    "        x, y = memory.pos\n",
    "\n",
    "        space = []\n",
    "        if x < self.np - 1:\n",
    "            space.append(Action.straight)\n",
    "            if y + 1 < self.nc:\n",
    "                space.append(Action.up)\n",
    "            if y > 0:\n",
    "                space.append(Action.down)\n",
    "\n",
    "        return ListSpace(space)\n",
    "\n",
    "    def _get_action_space_(self) -> Space[D.T_event]:\n",
    "        \"\"\"\n",
    "        Define action space.\n",
    "        \"\"\"\n",
    "        return EnumSpace(Action)\n",
    "\n",
    "    def _get_observation_space_(self) -> Space[D.T_observation]:\n",
    "        \"\"\"\n",
    "        Define observation space.\n",
    "        \"\"\"\n",
    "        return MultiDiscreteSpace([self.np, self.nc])\n",
    "\n",
    "    def _render_from(self, memory: State, **kwargs: Any) -> Any:\n",
    "        \"\"\"\n",
    "        Render visually the map.\n",
    "\n",
    "        Returns:\n",
    "            matplotlib figure\n",
    "        \"\"\"\n",
    "\n",
    "        return plot_trajectory(\n",
    "            self.lat1, self.lon1, self.lat2, self.lon2, memory.trajectory, self.wind_ds\n",
    "        )\n",
    "\n",
    "    def heuristic(self, s: D.T_state) -> Value[D.T_value]:\n",
    "        \"\"\"Heuristic to be used by search algorithms.\n",
    "\n",
    "        Here fuel consumption to reach target.\n",
    "\n",
    "        \"\"\"\n",
    "        lat = s.trajectory.iloc[-1][\"lat\"]\n",
    "        lon = s.trajectory.iloc[-1][\"lon\"]\n",
    "        # Compute distance in meters\n",
    "        distance_to_goal = distance(lat, lon, self.lat2, self.lon2)\n",
    "        cost = distance_to_goal\n",
    "\n",
    "        return Value(cost=cost)\n",
    "\n",
    "    def get_network(self, p0: LatLon, p1: LatLon, np: int, nc: int):\n",
    "        np2 = np // 2\n",
    "        nc2 = nc // 2\n",
    "\n",
    "        distp = 10 * p0.distanceTo(p1) / np / nc  # meters\n",
    "\n",
    "        pt = [[None for j in range(nc)] for i in range(np)]\n",
    "\n",
    "        # set boundaries\n",
    "        for j in range(nc):\n",
    "            pt[0][j] = p0\n",
    "            pt[np - 1][j] = p1\n",
    "\n",
    "        # direct path between p0 and p1\n",
    "        for i in range(1, np - 1):\n",
    "            bearing = pt[i - 1][nc2].initialBearingTo(p1)\n",
    "            total_distance = pt[i - 1][nc2].distanceTo(pt[np - 1][nc2])\n",
    "            pt[i][nc2] = pt[i - 1][nc2].destination(total_distance / (np - i), bearing)\n",
    "\n",
    "        bearing = pt[np2 - 1][nc2].initialBearingTo(pt[np2 + 1][nc2])\n",
    "        pt[np2][nc - 1] = pt[np2][nc2].destination(distp * nc2, bearing + 90)\n",
    "        pt[np2][0] = pt[np2][nc2].destination(distp * nc2, bearing - 90)\n",
    "\n",
    "        for j in range(1, nc2 + 1):\n",
    "            # +j (left)\n",
    "            bearing = pt[np2][nc2 + j - 1].initialBearingTo(pt[np2][nc - 1])\n",
    "            total_distance = pt[np2][nc2 + j - 1].distanceTo(pt[np2][nc - 1])\n",
    "            pt[np2][nc2 + j] = pt[np2][nc2 + j - 1].destination(\n",
    "                total_distance / (nc2 - j + 1), bearing\n",
    "            )\n",
    "            # -j (right)\n",
    "            bearing = pt[np2][nc2 - j + 1].initialBearingTo(pt[np2][0])\n",
    "            total_distance = pt[np2][nc2 - j + 1].distanceTo(pt[np2][0])\n",
    "            pt[np2][nc2 - j] = pt[np2][nc2 - j + 1].destination(\n",
    "                total_distance / (nc2 - j + 1), bearing\n",
    "            )\n",
    "            for i in range(1, np2):\n",
    "                # first halp (p0 to np2)\n",
    "                bearing = pt[i - 1][nc2 + j].initialBearingTo(pt[np2][nc2 + j])\n",
    "                total_distance = pt[i - 1][nc2 + j].distanceTo(pt[np2][nc2 + j])\n",
    "                pt[i][nc2 + j] = pt[i - 1][nc2 + j].destination(\n",
    "                    total_distance / (np2 - i + 1), bearing\n",
    "                )\n",
    "                bearing = pt[i - 1][nc2 - j].initialBearingTo(pt[np2][nc2 - j])\n",
    "                total_distance = pt[i - 1][nc2 - j].distanceTo(pt[np2][nc2 - j])\n",
    "                pt[i][nc2 - j] = pt[i - 1][nc2 - j].destination(\n",
    "                    total_distance / (np2 - i + 1), bearing\n",
    "                )\n",
    "                # second half (np2 to p1)\n",
    "                bearing = pt[np2 + i - 1][nc2 + j].initialBearingTo(pt[np - 1][nc2 + j])\n",
    "                total_distance = pt[np2 + i - 1][nc2 + j].distanceTo(\n",
    "                    pt[np - 1][nc2 + j]\n",
    "                )\n",
    "                pt[np2 + i][nc2 + j] = pt[np2 + i - 1][nc2 + j].destination(\n",
    "                    total_distance / (np2 - i + 1), bearing\n",
    "                )\n",
    "                bearing = pt[np2 + i - 1][nc2 - j].initialBearingTo(pt[np - 1][nc2 - j])\n",
    "                total_distance = pt[np2 + i - 1][nc2 - j].distanceTo(\n",
    "                    pt[np - 1][nc2 - j]\n",
    "                )\n",
    "                pt[np2 + i][nc2 - j] = pt[np2 + i - 1][nc2 - j].destination(\n",
    "                    total_distance / (np2 - i + 1), bearing\n",
    "                )\n",
    "        return pt"
   ]
  },
  {
   "cell_type": "markdown",
   "metadata": {},
   "source": [
    "### Domain factory\n",
    "\n",
    "Because some of the solvers are parallel, one need to be able to create similar domains easily. This is done through a factory which is a simple `lambda` function.\n",
    "For creating this function, we need to define the parameters of our flight.\n",
    "\n",
    "In our case, we will flight in `A380` from Charles de Gaulle airport, France (`LFPG`) to Changi airport, Singapore (`WSSS`). By default, the take off weight is 80% of the `MTOW`"
   ]
  },
  {
   "cell_type": "code",
   "execution_count": null,
   "metadata": {},
   "outputs": [],
   "source": [
    "domain_factory = lambda: FlightPlanningDomain(\n",
    "    \"LFPG\", \"WSSS\", \"A388\", wind_interpolator=wind_interpolator\n",
    ")"
   ]
  },
  {
   "cell_type": "markdown",
   "metadata": {},
   "source": [
    "## Solving the problem\n",
    "\n",
    "Now that we have defined the domain we can proceed with finding a solution for it."
   ]
  },
  {
   "cell_type": "markdown",
   "metadata": {},
   "source": [
    "### Finding suitable solvers\n",
    "The `scikit-decide` library includes a lot of solvers. We can use `match_solvers` function to show available solvers that fit the characteristics of the defined domain, according to the mixin classes used to define the [domain type](#Domain-type)."
   ]
  },
  {
   "cell_type": "code",
   "execution_count": null,
   "metadata": {},
   "outputs": [],
   "source": [
    "domain = domain_factory()\n",
    "\n",
    "match_solvers(domain=domain)"
   ]
  },
  {
   "cell_type": "markdown",
   "metadata": {},
   "source": [
    "In the following, we will be using LazyAstar (A*) which is a solver coming from the path planning community."
   ]
  },
  {
   "cell_type": "markdown",
   "metadata": {},
   "source": [
    "### Solver instantiation"
   ]
  },
  {
   "cell_type": "markdown",
   "metadata": {},
   "source": [
    "As explained earlier, we use the Boundary Extension Encoding state features `bee2_features` so that IW can dynamically increase state variable intervals. In other domains, other state features might be more suitable."
   ]
  },
  {
   "cell_type": "code",
   "execution_count": null,
   "metadata": {},
   "outputs": [],
   "source": [
    "solver = Astar(heuristic=lambda d, s: d.heuristic(s))"
   ]
  },
  {
   "cell_type": "markdown",
   "metadata": {},
   "source": [
    "### Training solver on domain"
   ]
  },
  {
   "cell_type": "code",
   "execution_count": null,
   "metadata": {},
   "outputs": [],
   "source": [
    "%%time\n",
    "FlightPlanningDomain.solve_with(solver, domain_factory)"
   ]
  },
  {
   "cell_type": "markdown",
   "metadata": {},
   "source": [
    "### Rolling out a solution"
   ]
  },
  {
   "cell_type": "markdown",
   "metadata": {},
   "source": [
    "We have to slightly modify the roll out function as observations for the new domain are now wrapped in a `GymDomainProxyState` to make them serializable. So to get access to the underlying numpy array, we need to look for `observation._state`."
   ]
  },
  {
   "cell_type": "code",
   "execution_count": null,
   "metadata": {},
   "outputs": [],
   "source": [
    "%%time\n",
    "\n",
    "pause_between_steps = None\n",
    "max_steps = 100\n",
    "\n",
    "solver.reset()\n",
    "observation = domain.reset()\n",
    "\n",
    "print(\"Starting planning\")\n",
    "\n",
    "# Initialize image\n",
    "figure = domain.render(observation)\n",
    "plt.show()\n",
    "\n",
    "# loop until max_steps or goal is reached\n",
    "for i_step in range(1, max_steps + 1):\n",
    "    if pause_between_steps is not None:\n",
    "        sleep(pause_between_steps)\n",
    "\n",
    "    # choose action according to solver\n",
    "    action = solver.sample_action(observation)\n",
    "    # get corresponding action\n",
    "    outcome = domain.step(action)\n",
    "    observation = outcome.observation\n",
    "\n",
    "    # update image\n",
    "    plt.clf()  # clear figure\n",
    "    clear_output(wait=True)\n",
    "    figure = domain.render(observation)\n",
    "    plt.show()\n",
    "\n",
    "    # final state reached?\n",
    "    if domain.is_terminal(observation):\n",
    "        break\n",
    "\n",
    "# goal reached?\n",
    "is_goal_reached = domain.is_goal(observation)\n",
    "if is_goal_reached:\n",
    "    print(f\"Goal reached in {i_step} steps!\")\n",
    "else:\n",
    "    print(f\"Goal not reached after {i_step} steps!\")"
   ]
  },
  {
   "cell_type": "markdown",
   "metadata": {},
   "source": [
    "### Cleaning up"
   ]
  },
  {
   "cell_type": "code",
   "execution_count": null,
   "metadata": {},
   "outputs": [],
   "source": [
    "solver._cleanup()"
   ]
  },
  {
   "cell_type": "markdown",
   "metadata": {},
   "source": [
    "## Conclusion"
   ]
  },
  {
   "cell_type": "markdown",
   "metadata": {},
   "source": [
    "We saw that it is possible to define in few lines of code a real life application. Thanks to the formalism `scikit-decide` and its rich solver library, it is then possible to find a solution very quickly."
   ]
  }
 ],
 "metadata": {
  "anaconda-cloud": {},
  "kernelspec": {
   "display_name": "Python 3 (ipykernel)",
   "language": "python",
   "name": "python3"
  },
  "language_info": {
   "codemirror_mode": {
    "name": "ipython",
    "version": 3
   },
   "file_extension": ".py",
   "mimetype": "text/x-python",
   "name": "python",
   "nbconvert_exporter": "python",
   "pygments_lexer": "ipython3",
   "version": "3.8.12"
  },
  "toc": {
   "base_numbering": 1,
   "nav_menu": {},
   "number_sections": true,
   "sideBar": true,
   "skip_h1_title": true,
   "title_cell": "Table of Contents",
   "title_sidebar": "Contents",
   "toc_cell": false,
   "toc_position": {
    "height": "calc(100% - 180px)",
    "left": "10px",
    "top": "150px",
    "width": "187px"
   },
   "toc_section_display": true,
   "toc_window_display": true
  }
 },
 "nbformat": 4,
 "nbformat_minor": 1
}
