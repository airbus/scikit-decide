{
 "cells": [
  {
   "cell_type": "code",
   "execution_count": 1,
   "metadata": {},
   "outputs": [
    {
     "data": {
      "application/javascript": [
       "\"use strict\";\n",
       "\n",
       "CodeMirror.defineMode(\"text/minizinc\", function(config) {\n",
       "\n",
       "  var isOperatorChar = /[+\\-*=<>\\/]/;\n",
       "\n",
       "  var keywords = {\"array\":true,\n",
       "  \"bool\":true,\n",
       "  \"case\":true,\n",
       "  \"constraint\":true,\n",
       "  \"diff\":true,\n",
       "  \"div\":true,\n",
       "  \"else\":true,\n",
       "  \"elseif\":true,\n",
       "  \"endif\":true,\n",
       "  \"enum\":true,\n",
       "  \"false\":true,\n",
       "  \"float\":true,\n",
       "  \"function\":true,\n",
       "  \"if\":true,\n",
       "  \"in\":true,\n",
       "  \"include\":true,\n",
       "  \"int\":true,\n",
       "  \"intersect\":true,\n",
       "  \"let\":true,\n",
       "  \"list\":true,\n",
       "  \"maximize\":true,\n",
       "  \"minimize\":true,\n",
       "  \"mod\":true,\n",
       "  \"not\":true,\n",
       "  \"of\":true,\n",
       "  \"op\":true,\n",
       "  \"output\":true,\n",
       "  \"par\":true,\n",
       "  \"predicate\":true,\n",
       "  \"record\":true,\n",
       "  \"satisfy\":true,\n",
       "  \"set\":true,\n",
       "  \"solve\":true,\n",
       "  \"string\":true,\n",
       "  \"subset\":true,\n",
       "  \"superset\":true,\n",
       "  \"symdiff\":true,\n",
       "  \"test\":true,\n",
       "  \"then\":true,\n",
       "  \"true\":true,\n",
       "  \"tuple\":true,\n",
       "  \"type\":true,\n",
       "  \"union\":true,\n",
       "  \"var\":true,\n",
       "  \"where\":true,\n",
       "  \"xor\":true};\n",
       "\n",
       "  var punc = \":;,.(){}[]\";\n",
       "\n",
       "  function tokenBase(stream, state) {\n",
       "    var ch = stream.next();\n",
       "    if (ch == '\"') {\n",
       "      state.tokenize.push(tokenString);\n",
       "      return tokenString(stream, state);\n",
       "    }\n",
       "    if (/[\\d\\.]/.test(ch)) {\n",
       "      if (ch == \".\") {\n",
       "        stream.match(/^[0-9]+([eE][\\-+]?[0-9]+)?/);\n",
       "      } else if (ch == \"0\") {\n",
       "        stream.match(/^[xX][0-9a-fA-F]+/) || stream.match(/^0[0-7]+/);\n",
       "      } else {\n",
       "        stream.match(/^[0-9]*\\.?[0-9]*([eE][\\-+]?[0-9]+)?/);\n",
       "      }\n",
       "      return \"number\";\n",
       "    }\n",
       "    if (ch == \"/\") {\n",
       "      if (stream.eat(\"*\")) {\n",
       "        state.tokenize.push(tokenComment);\n",
       "        return tokenComment(stream, state);\n",
       "      }\n",
       "    }\n",
       "    if (ch == \"%\") {\n",
       "      stream.skipToEnd();\n",
       "      return \"comment\";\n",
       "    }\n",
       "    if (isOperatorChar.test(ch)) {\n",
       "      stream.eatWhile(isOperatorChar);\n",
       "      return \"operator\";\n",
       "    }\n",
       "    if (punc.indexOf(ch) > -1) {\n",
       "      return \"punctuation\";\n",
       "    }\n",
       "    stream.eatWhile(/[\\w\\$_\\xa1-\\uffff]/);\n",
       "    var cur = stream.current();\n",
       "    if (keywords.propertyIsEnumerable(cur)) {\n",
       "      return \"keyword\";\n",
       "    }\n",
       "    return \"variable\";\n",
       "  }\n",
       "\n",
       "  function tokenComment(stream, state) {\n",
       "    var maybeEnd = false, ch;\n",
       "    while (ch = stream.next()) {\n",
       "      if (ch == \"/\" && maybeEnd) {\n",
       "        state.tokenize.pop();\n",
       "        break;\n",
       "      }\n",
       "      maybeEnd = (ch == \"*\");\n",
       "    }\n",
       "    return \"comment\";\n",
       "  }\n",
       "\n",
       "  function tokenUntilClosingParen() {\n",
       "    var depth = 0;\n",
       "    return function(stream, state, prev) {\n",
       "      var inner = tokenBase(stream, state, prev);\n",
       "      console.log(\"untilClosing\",inner,stream.current());\n",
       "      if (inner == \"punctuation\") {\n",
       "        if (stream.current() == \"(\") {\n",
       "          ++depth;\n",
       "        } else if (stream.current() == \")\") {\n",
       "          if (depth == 0) {\n",
       "            stream.backUp(1)\n",
       "            state.tokenize.pop()\n",
       "            return state.tokenize[state.tokenize.length - 1](stream, state)\n",
       "          } else {\n",
       "            --depth;\n",
       "          }\n",
       "        }\n",
       "      }\n",
       "      return inner;\n",
       "    }\n",
       "  }\n",
       "\n",
       "  function tokenString(stream, state) {\n",
       "    var escaped = false, next, end = false;\n",
       "    while ((next = stream.next()) != null) {\n",
       "      if (next=='(' && escaped) {\n",
       "        state.tokenize.push(tokenUntilClosingParen());\n",
       "        return \"string\";\n",
       "      }\n",
       "      if (next == '\"' && !escaped) {end = true; break;}\n",
       "      escaped = !escaped && next == \"\\\\\";\n",
       "    }\n",
       "    if (end || !escaped)\n",
       "      state.tokenize.pop();\n",
       "    return \"string\";\n",
       "  }\n",
       "\n",
       "  return {\n",
       "    startState: function(basecolumn) {\n",
       "      return {\n",
       "        tokenize: []\n",
       "      };\n",
       "    },\n",
       "\n",
       "    token: function(stream, state) {\n",
       "      if (stream.eatSpace()) return null;\n",
       "      var style = (state.tokenize[state.tokenize.length - 1] || tokenBase)(stream, state);\n",
       "      console.log(\"token\",style);\n",
       "      return style;\n",
       "    },\n",
       "\n",
       "    blockCommentStart: \"/*\",\n",
       "    blockCommentEnd: \"*/\",\n",
       "    lineComment: \"%\"\n",
       "  };\n",
       "});\n",
       "\n",
       "CodeMirror.defineMIME(\"text/minizinc\", \"text/minizinc\");\n",
       "\n",
       "Jupyter.CodeCell.options_default.highlight_modes['magic_text/minizinc'] = {'reg':[/^%%minizinc/]} ;\n",
       "\n",
       "Jupyter.notebook.get_cells().map(function(cell){\n",
       "  if (cell.cell_type == 'code'){ cell.auto_highlight(); }\n",
       "}) ;\n"
      ],
      "text/plain": [
       "<IPython.core.display.Javascript object>"
      ]
     },
     "metadata": {},
     "output_type": "display_data"
    },
    {
     "name": "stdout",
     "output_type": "stream",
     "text": [
      "MiniZinc to FlatZinc converter, version 2.5.5\n",
      "Copyright (C) 2014-2021 Monash University, NICTA, Data61\n"
     ]
    }
   ],
   "source": [
    "%load_ext iminizinc"
   ]
  },
  {
   "cell_type": "markdown",
   "metadata": {},
   "source": [
    "# Scheduling"
   ]
  },
  {
   "cell_type": "markdown",
   "metadata": {},
   "source": [
    "In this notebook, we explore how to solve a resource constrained project scheduling problem (RCPSP).\n",
    "\n",
    "The problem is made of $M$ activities that have precedence constraints. That means that if activity $j\\in[1,M]$ is a successor of activity $i\\in[1,M]$, then activity $i$ must be completed before activity $j$ can be started\n",
    "\n",
    "On top of these constraints, each project is assigned a set of K renewable resources where each resource $k$ is available in $R_{k}$ units for the entire duration of the project. Each activity may require one or more of these resources to be completed. While scheduling the activities, the daily resource usage for resource $k$ can not exceed $R_{k}$ units.\n",
    "\n",
    "Each activity $j$ takes $d_{j}$ time units to complete.\n",
    "\n",
    "The overall goal of the problem is usually to minimize the makespan,\n",
    "\n",
    "(Variants: mix of renewable and non-renewable resources / multi-mode)\n"
   ]
  },
  {
   "cell_type": "markdown",
   "metadata": {},
   "source": [
    "## Problem definition\n",
    "\n",
    "Let start with a simple problem which has 5 tasks to execute:\n",
    "\n",
    " - Task 0 has a duration of 1 hour\n",
    " - Task 1 depends on 0 and has a duration of 3 hours\n",
    " - Task 2 depends on 0 and has a duration of 1 hours\n",
    " - Task 3 depends on 2 and has a duration of 3 hours\n",
    " - Task 4 depends on 1 & 3 and has a duration of 2 hours\n",
    "\n",
    "This can be reworked saying that:\n",
    " - Task 0 has 2 successors: task 1 and task 2\n",
    " - Task 1 has one successor: task 4\n",
    " - Task 2 has one successor: task 3\n",
    " - Task 3 has one successor: task 4\n",
    " - Task 4 has no successor"
   ]
  },
  {
   "cell_type": "markdown",
   "metadata": {},
   "source": [
    "## Domain construction"
   ]
  },
  {
   "cell_type": "code",
   "execution_count": 1,
   "metadata": {},
   "outputs": [],
   "source": [
    "from typing import Any, Dict, List, Optional, Set, Union\n",
    "\n",
    "from skdecide.builders.domain.scheduling.scheduling_domains import SingleModeRCPSP, SchedulingObjectiveEnum\n",
    "from skdecide import Distribution, DiscreteDistribution\n",
    "\n",
    "from skdecide.builders.domain.scheduling.modes import ModeConsumption, ConstantModeConsumption\n",
    "from skdecide import rollout_episode\n",
    "\n",
    "class SimpleRCPSPDomain(SingleModeRCPSP):\n",
    "\n",
    "    def _get_objectives(self) -> List[SchedulingObjectiveEnum]:\n",
    "        return [SchedulingObjectiveEnum.MAKESPAN]\n",
    "\n",
    "    def __init__(self):\n",
    "        self.initialize_domain()\n",
    "\n",
    "    def _get_max_horizon(self) -> int:\n",
    "        return 50\n",
    "\n",
    "    def _get_successors(self) -> Dict[int, List[int]]:\n",
    "        return {0: [1, 2], 1: [4], 2: [3], 3: [4], 4: []}\n",
    "\n",
    "    def _get_tasks_ids(self) -> Union[Set[int], Dict[int, Any], List[int]]:\n",
    "        return {0, 1, 2, 3, 4}\n",
    "\n",
    "    def _get_tasks_mode(self) -> Dict[int, ModeConsumption]:\n",
    "        return {\n",
    "            0: ConstantModeConsumption({'r1': 1,}),\n",
    "            1: ConstantModeConsumption({'r1': 1,}),\n",
    "            2: ConstantModeConsumption({'r1': 1,}),\n",
    "            3: ConstantModeConsumption({'r1': 1,}),\n",
    "            4: ConstantModeConsumption({'r1': 1,})\n",
    "        }\n",
    "\n",
    "    def _get_resource_types_names(self) -> List[str]:\n",
    "        return ['r1']\n",
    "\n",
    "    def _get_task_duration(self, task: int, mode: Optional[int] = 1, progress_from: Optional[float] = 0.) -> int:\n",
    "        all_durations = {0: 1, 1: 3, 2: 1, 3: 3, 4: 2}\n",
    "        return all_durations[task]\n",
    "\n",
    "    def _get_original_quantity_resource(self, resource: str, **kwargs) -> int:\n",
    "        all_resource_quantities = {'r1': 10_000}\n",
    "        return all_resource_quantities[resource]\n"
   ]
  },
  {
   "cell_type": "code",
   "execution_count": 2,
   "metadata": {},
   "outputs": [],
   "source": [
    "domain = SimpleRCPSPDomain()\n",
    "domain.set_inplace_environment(False)\n",
    "state = domain.get_initial_state()"
   ]
  },
  {
   "cell_type": "markdown",
   "metadata": {},
   "source": [
    "## Let's analyze the graph "
   ]
  },
  {
   "cell_type": "code",
   "execution_count": 3,
   "metadata": {},
   "outputs": [],
   "source": [
    "graph = domain.compute_graph()"
   ]
  },
  {
   "cell_type": "markdown",
   "metadata": {},
   "source": [
    "### Show the graph"
   ]
  },
  {
   "cell_type": "code",
   "execution_count": 4,
   "metadata": {},
   "outputs": [],
   "source": [
    "def to_json(graph):\n",
    "    pass\n",
    "\n",
    "# plot graph in javascript"
   ]
  },
  {
   "cell_type": "markdown",
   "metadata": {},
   "source": [
    "## Let's use the LazyAstar to solve this problem"
   ]
  },
  {
   "cell_type": "code",
   "execution_count": 5,
   "metadata": {},
   "outputs": [],
   "source": [
    "from skdecide.hub.solver.lazy_astar import LazyAstar\n",
    "\n",
    "solver = LazyAstar(from_state=state, heuristic=None)\n",
    "solver.solve(domain_factory=lambda: domain)"
   ]
  },
  {
   "cell_type": "code",
   "execution_count": null,
   "metadata": {},
   "outputs": [],
   "source": []
  },
  {
   "cell_type": "markdown",
   "metadata": {},
   "source": [
    "# Load a sm file"
   ]
  },
  {
   "cell_type": "code",
   "execution_count": 2,
   "metadata": {},
   "outputs": [
    {
     "name": "stdout",
     "output_type": "stream",
     "text": [
      "Warning : Install gurobi if needed\n"
     ]
    }
   ],
   "source": [
    "from skdecide.hub.domain.rcpsp.rcpsp_sk_parser import load_domain\n",
    "from skdecide.hub.domain.rcpsp.rcpsp_sk import RCPSP\n",
    "from skdecide.discrete_optimization.rcpsp.solver.rcpsp_pile import PileSolverRCPSP, PileSolverRCPSP_Calendar, GreedyChoice\n",
    "from skdecide.discrete_optimization.rcpsp.solver.rcpsp_lp_solver import LP_RCPSP"
   ]
  },
  {
   "cell_type": "code",
   "execution_count": 3,
   "metadata": {},
   "outputs": [],
   "source": [
    "big_domain: RCPSP = load_domain(\"j301_1.sm\")\n",
    "big_domain.set_inplace_environment(False)"
   ]
  },
  {
   "cell_type": "code",
   "execution_count": 8,
   "metadata": {},
   "outputs": [],
   "source": [
    "do_work = False\n",
    "\n",
    "if (do_work):\n",
    "    state = big_domain.get_initial_state()\n",
    "\n",
    "    # This is never ending\n",
    "    # solver = LazyAstar(from_state=state, heuristic=None)\n",
    "    # solver.solve(domain_factory=lambda: big_domain)\n",
    "\n",
    "    solver = PileSolverRCPSP(rcpsp_model=big_domain)\n",
    "    results = solver.solve(greedy_choice=GreedyChoice.MOST_SUCCESSORS)\n",
    "\n",
    "    best_solution = results.get_best_solution()\n",
    "    fitnesses = big_domain.evaluate(best_solution)"
   ]
  },
  {
   "cell_type": "code",
   "execution_count": 7,
   "metadata": {},
   "outputs": [],
   "source": [
    "from skdecide.hub.solver.do_solver.do_solver_scheduling import DOSolver, PolicyMethodParams, SolvingMethod, BasePolicyMethod"
   ]
  },
  {
   "cell_type": "code",
   "execution_count": 10,
   "metadata": {},
   "outputs": [
    {
     "name": "stdout",
     "output_type": "stream",
     "text": [
      "/var/folders/ds/qwbvxlpn2hd_69wn9ypzl_c80000gn/T/tmpqm24ynl6/model.mzn:2.19:\n",
      "state = big_domain.get_initial_state()\n",
      "                  ^\n",
      "Error: syntax error, unexpected invalid token, expecting end of file\n"
     ]
    }
   ],
   "source": [
    "%%minizinc -a\n",
    "\n",
    "state = big_domain.get_initial_state()\n",
    "\n",
    "# base_policy_method=BasePolicyMethod.FOLLOW_GANTT\n",
    "base_policy_method=BasePolicyMethod.SGS_PRECEDENCE\n",
    "\n",
    "policy_method_params = PolicyMethodParams(base_policy_method=base_policy_method, delta_index_freedom=0, delta_time_freedom=0)\n",
    "\n",
    "#method = SolvingMethod.CP              # BOOM\n",
    "#method = SolvingMethod.LP\n",
    "#method = SolvingMethod.GA\n",
    "#method = SolvingMethod.PILE            # BOOM\n",
    "#method = SolvingMethod.LS\n",
    "#method = SolvingMethod.LNS_LP          # BOOM\n",
    "#method = SolvingMethod.LNS_CP          # BOOM\n",
    "#method = SolvingMethod.LNS_CP_CALENDAR # BOOM \n",
    "\n",
    "# We want to focus on CP and LNS_CP\n",
    "method = SolvingMethod.CP\n",
    "\n",
    "solver = DOSolver(policy_method_params=policy_method_params, method=method, dict_params={\"verbose\": False})\n",
    "\n",
    "solver.solve(domain_factory=lambda: big_domain)"
   ]
  },
  {
   "cell_type": "markdown",
   "metadata": {},
   "source": [
    "| Method               | Time (s) | Span   |\n",
    "| ---                  | ---      | ---    |\n",
    "| SolvingMethod.LP     | 19       | 43     |\n",
    "| SolvingMethod.CP     | -        |        |\n",
    "| SolvingMethod.GA     | 13       | 49     |\n",
    "| SolvingMethod.LS     | 3        | 43     |\n",
    "| SolvingMethod.PILE   | -        |        |\n",
    "| SolvingMethod.LNS_LP | -        |        | "
   ]
  },
  {
   "cell_type": "markdown",
   "metadata": {},
   "source": [
    "# Solvers"
   ]
  },
  {
   "cell_type": "code",
   "execution_count": 6,
   "metadata": {},
   "outputs": [
    {
     "name": "stdout",
     "output_type": "stream",
     "text": [
      "cat: /var/folders/ds/qwbvxlpn2hd_69wn9ypzl_c80000gn/T/tmpljnn5rl5/model.mzn: No such file or directory\r\n"
     ]
    }
   ],
   "source": [
    "!cat /var/folders/ds/qwbvxlpn2hd_69wn9ypzl_c80000gn/T/tmpljnn5rl5/model.mzn"
   ]
  },
  {
   "cell_type": "code",
   "execution_count": 10,
   "metadata": {},
   "outputs": [],
   "source": [
    "from skdecide.discrete_optimization.rcpsp.rcpsp_solvers import *"
   ]
  },
  {
   "cell_type": "code",
   "execution_count": 11,
   "metadata": {},
   "outputs": [
    {
     "name": "stdout",
     "output_type": "stream",
     "text": [
      "dict_keys(['lp', 'greedy', 'cp', 'lns', 'lns-lp', 'lns-cp', 'ls', 'ga', 'lns-cp-calendar'])\n"
     ]
    }
   ],
   "source": [
    "print(solvers.keys())"
   ]
  },
  {
   "cell_type": "code",
   "execution_count": 12,
   "metadata": {},
   "outputs": [
    {
     "name": "stdout",
     "output_type": "stream",
     "text": [
      "<class 'skdecide.discrete_optimization.rcpsp.solver.rcpsp_lp_solver.LP_RCPSP'> LP_RCPSP: lp_solver parameters_milp\n",
      "<class 'skdecide.discrete_optimization.rcpsp.solver.rcpsp_lp_solver.LP_MRCPSP'> LP_MRCPSP: lp_solver parameters_milp\n",
      "<class 'skdecide.discrete_optimization.rcpsp.solver.rcpsp_pile.PileSolverRCPSP'> PileSolverRCPSP: greedy_choice\n",
      "<class 'skdecide.discrete_optimization.rcpsp.solver.rcpsp_pile.PileSolverRCPSP_Calendar'> PileSolverRCPSP_Calendar: greedy_choice\n",
      "<class 'skdecide.discrete_optimization.rcpsp.solver.cp_solvers.CP_RCPSP_MZN'> CP_RCPSP_MZN: cp_solver_name parameters_cp\n",
      "<class 'skdecide.discrete_optimization.rcpsp.solver.cp_solvers.CP_MRCPSP_MZN'> CP_MRCPSP_MZN: cp_solver_name parameters_cp\n",
      "<class 'skdecide.discrete_optimization.rcpsp.solver.rcpsp_lp_lns_solver.LNS_LP_RCPSP_SOLVER'> LNS_LP_RCPSP_SOLVER: nb_iteration_lns lp_solver\n",
      "<class 'skdecide.discrete_optimization.rcpsp.solver.rcpsp_cp_lns_solver.LNS_CP_RCPSP_SOLVER'> LNS_CP_RCPSP_SOLVER: nb_iteration_lns\n",
      "<class 'skdecide.discrete_optimization.rcpsp.solver.rcpsp_lp_lns_solver.LNS_LP_RCPSP_SOLVER'> LNS_LP_RCPSP_SOLVER: nb_iteration_lns lp_solver\n",
      "<class 'skdecide.discrete_optimization.rcpsp.solver.rcpsp_cp_lns_solver.LNS_CP_RCPSP_SOLVER'> LNS_CP_RCPSP_SOLVER: nb_iteration_lns\n",
      "<class 'skdecide.discrete_optimization.rcpsp.solver.ls_solver.LS_RCPSP_Solver'> LS_RCPSP_Solver: ls_solver nb_iteration_max\n",
      "<class 'skdecide.discrete_optimization.rcpsp.solver.rcpsp_ga_solver.GA_RCPSP_Solver'> GA_RCPSP_Solver: parameters_ga\n",
      "<class 'skdecide.discrete_optimization.rcpsp.solver.rcpsp_ga_solver.GA_MRCPSP_Solver'> GA_MRCPSP_Solver: parameters_ga\n",
      "<class 'skdecide.discrete_optimization.rcpsp.solver.calendar_solver_iterative.SolverWithCalendarIterative'> SolverWithCalendarIterative: parameters_cp nb_iteration_lns skip_first_iteration\n"
     ]
    }
   ],
   "source": [
    "# LP_RCPSP: Linear Programming RCPSP\n",
    "# Pile_\n",
    "# CP_\n",
    "# LNS_\n",
    "# LS_ : Local Search\n",
    "# GA_ : Genetic Algorithm \n",
    "\n",
    "for solver in solvers:\n",
    "    for option in solvers[solver]:\n",
    "        klass = option[0]\n",
    "        option_dict = option[1]\n",
    "        print(f\"{klass} {klass.__name__}: {' '.join(option_dict.keys())}\")"
   ]
  },
  {
   "cell_type": "code",
   "execution_count": null,
   "metadata": {},
   "outputs": [],
   "source": []
  }
 ],
 "metadata": {
  "kernelspec": {
   "display_name": "Python 3 (ipykernel)",
   "language": "python",
   "name": "python3"
  },
  "language_info": {
   "codemirror_mode": {
    "name": "ipython",
    "version": 3
   },
   "file_extension": ".py",
   "mimetype": "text/x-python",
   "name": "python",
   "nbconvert_exporter": "python",
   "pygments_lexer": "ipython3",
   "version": "3.8.12"
  },
  "toc": {
   "base_numbering": 1,
   "nav_menu": {},
   "number_sections": true,
   "sideBar": true,
   "skip_h1_title": false,
   "title_cell": "Table of Contents",
   "title_sidebar": "Contents",
   "toc_cell": false,
   "toc_position": {},
   "toc_section_display": true,
   "toc_window_display": false
  }
 },
 "nbformat": 4,
 "nbformat_minor": 4
}
