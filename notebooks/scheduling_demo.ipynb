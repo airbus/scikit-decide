{
 "cells": [
  {
   "cell_type": "markdown",
   "metadata": {},
   "source": [
    "# Scheduling"
   ]
  },
  {
   "cell_type": "markdown",
   "metadata": {},
   "source": [
    "In this notebook, we explore how to solve a resource constrained project scheduling problem (RCPSP).\n",
    "\n",
    "The problem is made of $M$ activities that have precedence constraints. That means that if activity $j\\in[1,M]$ is a successor of activity $i\\in[1,M]$, then activity $i$ must be completed before activity $j$ can be started\n",
    "\n",
    "On top of these constraints, each project is assigned a set of K renewable resources where each resource $k$ is available in $R_{k}$ units for the entire duration of the project. Each activity may require one or more of these resources to be completed. While scheduling the activities, the daily resource usage for resource $k$ can not exceed $R_{k}$ units.\n",
    "\n",
    "Each activity $j$ takes $d_{j}$ time units to complete.\n",
    "\n",
    "The overall goal of the problem is usually to minimize the makespan,\n",
    "\n",
    "(Variants: mix of renewable and non-renewable resources / multi-mode)\n"
   ]
  },
  {
   "cell_type": "code",
   "execution_count": null,
   "metadata": {},
   "outputs": [],
   "source": [
    "import sys, os\n",
    "sys.path.append('../')\n",
    "\n",
    "from skdecide.discrete_optimization.rcpsp.parser.rcpsp_parser import parse_file\n",
    "#from skdecide.discrete_optimization.rcpsp.parser.rcpsp_parser import files_available, get_data_available\n",
    "#from skdecide.discrete_optimization.rcpsp.rcpsp_model import plt, MethodBaseRobustification\n",
    "from skdecide.discrete_optimization.rcpsp.rcpsp_model import RCPSPModel, SingleModeRCPSPModel, MultiModeRCPSPModel, \\\n",
    "RCPSPSolution, create_poisson_laws, UncertainRCPSPModel, Aggreg_RCPSPModel, MethodAggregating, \\\n",
    "MethodRobustification"
   ]
  },
  {
   "cell_type": "markdown",
   "metadata": {},
   "source": [
    "## Single mode RCPSP\n",
    "Each activity has only one mode of execution, we can ignore the fact that there are renewable or unrenewable resources in this case. Let's look at one instance of an RCPSP, this is `j301_1.sm` file that you can retrieve in the data folder."
   ]
  },
  {
   "cell_type": "markdown",
   "metadata": {},
   "source": [
    "## Parsing the text file in DO-lib"
   ]
  },
  {
   "cell_type": "code",
   "execution_count": null,
   "metadata": {},
   "outputs": [],
   "source": [
    "#from skdecide.discrete_optimization.rcpsp import compute_graph_rcpsp, Graph\n",
    "\n",
    "from skdecide.discrete_optimization.rcpsp.rcpsp_utils import RCPSPModel\n",
    "from skdecide.discrete_optimization.rcpsp.parser.rcpsp_parser import parse_file\n",
    "#get_data_available\n",
    "#\n",
    "import networkx as nx\n",
    "import matplotlib.pyplot as plt\n",
    "\n",
    "file = 'j301_1.sm'\n",
    "\n",
    "rcpsp_problem = parse_file(file)\n",
    "print(\"Nb jobs : \", rcpsp_problem.n_jobs)\n",
    "print(\"Precedences : \", rcpsp_problem.successors)\n",
    "print(\"Resources Availability : \", rcpsp_problem.resources)\n",
    "#print(\"Details : \", rcpsp_problem.mode_details)"
   ]
  },
  {
   "cell_type": "markdown",
   "metadata": {},
   "source": [
    "### Look at precedence graph"
   ]
  },
  {
   "cell_type": "code",
   "execution_count": null,
   "metadata": {},
   "outputs": [],
   "source": [
    "from skdecide.builders.domain.scheduling.graph_toolbox import Graph\n",
    "from skdecide.discrete_optimization.rcpsp.rcpsp_model import compute_graph_rcpsp\n",
    "\n",
    "graph: Graph = compute_graph_rcpsp(rcpsp_problem)"
   ]
  },
  {
   "cell_type": "code",
   "execution_count": null,
   "metadata": {},
   "outputs": [],
   "source": [
    "graph_nx = graph.to_networkx()\n",
    "dfs = nx.dfs_tree(G=graph_nx, source=1, depth_limit=10)\n",
    "shortest_path_length = nx.shortest_path_length(dfs, 1)\n",
    "length_to_nodes = {}\n",
    "position = {}\n",
    "for node in sorted(shortest_path_length, key=lambda x: shortest_path_length[x]):\n",
    "    length = shortest_path_length[node]\n",
    "    while not(length not in length_to_nodes or len(length_to_nodes[length]) <= 5):\n",
    "        length += 1\n",
    "    if length not in length_to_nodes:\n",
    "        length_to_nodes[length] = []\n",
    "    length_to_nodes[length] += [node]\n",
    "    position[node] = (length, len(length_to_nodes[length]))\n",
    "nx.draw_networkx(graph_nx, pos=position)\n",
    "plt.show()"
   ]
  },
  {
   "cell_type": "markdown",
   "metadata": {},
   "source": [
    "### Critical path \n",
    "We can compute the largest path possible from source to sink task, it gives a lower bound on the makespan. \n",
    "When we computed the graph in previous cell, each edges store the minimum duration of a task, we also store the opposite of this number in ```minus_min_duration``` attribute of an edge."
   ]
  },
  {
   "cell_type": "code",
   "execution_count": null,
   "metadata": {},
   "outputs": [],
   "source": [
    "print(graph.edges[5])"
   ]
  },
  {
   "cell_type": "markdown",
   "metadata": {},
   "source": [
    "This means to fulfill the (2, 15) precedence you have to accomplish the task 2, which takes minimum 8 unit times to do. Let's compute the critical path. "
   ]
  },
  {
   "cell_type": "code",
   "execution_count": null,
   "metadata": {},
   "outputs": [],
   "source": [
    "path = nx.astar_path(G=graph_nx,\n",
    "                     source=1,\n",
    "                     target=rcpsp_problem.n_jobs+2,\n",
    "                     heuristic=lambda x, y: -100,\n",
    "                     weight=\"minus_min_duration\")\n",
    "edges = [(n1, n2) for n1, n2 in zip(path[:-1], path[1:])]\n",
    "duration = sum(graph_nx[n[0]][n[1]][\"min_duration\"] for n in edges)\n",
    "print(\"Duration of critical path : \", duration)"
   ]
  },
  {
   "cell_type": "markdown",
   "metadata": {},
   "source": [
    "We know that our makespan will be at minimum 18 then."
   ]
  },
  {
   "cell_type": "code",
   "execution_count": null,
   "metadata": {},
   "outputs": [],
   "source": [
    "fig, ax = plt.subplots(1)\n",
    "nx.draw_networkx(graph_nx, pos=position, ax=ax)\n",
    "nx.draw_networkx_edges(graph_nx, pos=position, edgelist=edges, edge_color=\"r\", ax=ax)"
   ]
  },
  {
   "cell_type": "markdown",
   "metadata": {},
   "source": [
    "## Dummy solution\n",
    "A solution can be defined as a permutation of jobs which is then transformed into a feasible schedule if possible using the SGS routine. It consists at scheduling an activity as soon as it is available following the permutation order if possible."
   ]
  },
  {
   "cell_type": "code",
   "execution_count": null,
   "metadata": {},
   "outputs": [],
   "source": [
    "permutation = [25, 0, 19, 29, 21, 27, 18, 15, 28, 14, 26, 3, 17, 9, \n",
    "               24, 16, 13, 8, 1, 6, 10, 20, 7, 11, 4, 2, 5, 22, 12, 23]\n",
    "rcpsp_model = rcpsp_problem\n",
    "mode_list = [1 for i in range(rcpsp_model.n_jobs)]\n",
    "rcpsp_sol = RCPSPSolution(problem=rcpsp_model, rcpsp_permutation=permutation, rcpsp_modes=mode_list)\n",
    "print('schedule feasible: ', rcpsp_sol.rcpsp_schedule_feasible)\n",
    "print('schedule: ', rcpsp_sol.rcpsp_schedule)\n",
    "print('rcpsp_modes:', rcpsp_sol.rcpsp_modes)\n",
    "fitnesses = rcpsp_model.evaluate(rcpsp_sol)\n",
    "print('fitnesses: ', fitnesses)\n",
    "resource_consumption = rcpsp_model.compute_resource_consumption(rcpsp_sol)\n",
    "print('resource_consumption: ', resource_consumption)\n",
    "print('mean_resource_reserve:', rcpsp_sol.compute_mean_resource_reserve())"
   ]
  },
  {
   "cell_type": "code",
   "execution_count": null,
   "metadata": {},
   "outputs": [],
   "source": [
    "from skdecide.discrete_optimization.rcpsp.rcpsp_plot_utils import plot_resource_individual_gantt, plot_ressource_view"
   ]
  },
  {
   "cell_type": "markdown",
   "metadata": {},
   "source": [
    "#### Plotting the recomputed schedule"
   ]
  },
  {
   "cell_type": "code",
   "execution_count": null,
   "metadata": {},
   "outputs": [],
   "source": [
    "plot_resource_individual_gantt(rcpsp_model=rcpsp_model,\n",
    "                               rcpsp_sol=rcpsp_sol,\n",
    "                               title_figure=\"Dummy solution\")"
   ]
  },
  {
   "cell_type": "markdown",
   "metadata": {},
   "source": [
    "## First greedy solution : The RCPSP Pile solver"
   ]
  },
  {
   "cell_type": "markdown",
   "metadata": {},
   "source": [
    "First idea is to iteratively build a schedule from source to sink, considering available task at each time, and choosing among the available task with a greedy objective.\n",
    "A quite clever greedy choice is to use the graph structure of the precedence graph. We consider that task that have a lot of successors state in the graph is more important than the others : indeed it means that doing this task will unlock more following tasks. \n",
    "That's what the greedy solver is doing :"
   ]
  },
  {
   "cell_type": "code",
   "execution_count": null,
   "metadata": {},
   "outputs": [],
   "source": [
    "from skdecide.discrete_optimization.rcpsp.rcpsp_solvers import PileSolverRCPSP, GreedyChoice, ResultStorage"
   ]
  },
  {
   "cell_type": "code",
   "execution_count": null,
   "metadata": {},
   "outputs": [],
   "source": [
    "solver = PileSolverRCPSP(rcpsp_model=rcpsp_model)\n",
    "result_storage = solver.solve(greedy_choice=GreedyChoice.MOST_SUCCESSORS)"
   ]
  },
  {
   "cell_type": "code",
   "execution_count": null,
   "metadata": {},
   "outputs": [],
   "source": [
    "best_solution = result_storage.get_best_solution()\n",
    "fitnesses = rcpsp_model.evaluate(best_solution)\n",
    "print('fitnesses: ', fitnesses)"
   ]
  },
  {
   "cell_type": "code",
   "execution_count": null,
   "metadata": {},
   "outputs": [],
   "source": [
    "plot_ressource_view(rcpsp_model=rcpsp_model,\n",
    "                    rcpsp_sol=best_solution,\n",
    "                    title_figure=\"Pile solution\")\n",
    "plot_resource_individual_gantt(rcpsp_model=rcpsp_model,\n",
    "                               rcpsp_sol=best_solution,\n",
    "                               title_figure=\"Pile solution\")"
   ]
  },
  {
   "cell_type": "markdown",
   "metadata": {},
   "source": [
    "In fact for this instance, this schedule is optimal on makespan. \n",
    "Good luck for your next notebooks !"
   ]
  },
  {
   "cell_type": "markdown",
   "metadata": {},
   "source": [
    "## WIP : run solver of your choice easily"
   ]
  },
  {
   "cell_type": "code",
   "execution_count": null,
   "metadata": {},
   "outputs": [],
   "source": [
    "from discrete_optimization.rcpsp.rcpsp_solvers import *"
   ]
  },
  {
   "cell_type": "markdown",
   "metadata": {},
   "source": [
    "Let's list all solvers available. It is not complete since it doesn't contain the LS and GA algorithm (to be done !)"
   ]
  },
  {
   "cell_type": "code",
   "execution_count": null,
   "metadata": {
    "scrolled": true
   },
   "outputs": [],
   "source": [
    "print(solvers.keys())\n",
    "solvers_option = [(k, submethod) for k in solvers for submethod in solvers[k]]\n",
    "names_solver = [so[1][0].__name__ for so in solvers_option]\n",
    "print(names_solver)"
   ]
  },
  {
   "cell_type": "code",
   "execution_count": null,
   "metadata": {},
   "outputs": [],
   "source": [
    "index_to_choose = names_solver.index(\"LP_RCPSP\") # you can choose any solver in the names_solver list. \n",
    "solution = solve(method=solvers_option[index_to_choose][1][0],\n",
    "                 rcpsp_model=rcpsp_model,\n",
    "                 **solvers_option[index_to_choose][1][1])"
   ]
  },
  {
   "cell_type": "code",
   "execution_count": null,
   "metadata": {},
   "outputs": [],
   "source": [
    "best_solution = solution.get_best_solution()\n",
    "fitnesses = rcpsp_model.evaluate(best_solution)\n",
    "print('fitnesses: ', fitnesses)"
   ]
  },
  {
   "cell_type": "markdown",
   "metadata": {},
   "source": [
    "# WIP: Use othe viz library"
   ]
  },
  {
   "cell_type": "code",
   "execution_count": null,
   "metadata": {},
   "outputs": [],
   "source": [
    "%%javascript\n",
    "// Import eCharts, the Javascript charting library\n",
    "require.config({\n",
    "    paths: {\n",
    "        ech: 'https://raw.githubusercontent.com/frappe/gantt/master/dist/frappe-gantt.min.js'\n",
    "    }\n",
    "});"
   ]
  },
  {
   "cell_type": "code",
   "execution_count": null,
   "metadata": {},
   "outputs": [],
   "source": [
    "rcpsp_model.mode_details.keys()"
   ]
  },
  {
   "cell_type": "code",
   "execution_count": null,
   "metadata": {},
   "outputs": [],
   "source": [
    "rcpsp_sol.rcpsp_schedule"
   ]
  },
  {
   "cell_type": "code",
   "execution_count": null,
   "metadata": {},
   "outputs": [],
   "source": [
    "class Task:\n",
    "    def __init__(self, id, start_time, end_time, dependecies):\n",
    "        self.id = id\n",
    "        self.start_time = start_time\n",
    "        self.end_time = end_time\n",
    "        self.dependencies = dependecies"
   ]
  },
  {
   "cell_type": "code",
   "execution_count": null,
   "metadata": {},
   "outputs": [],
   "source": [
    "tasks = []\n",
    "for task in rcpsp_sol.rcpsp_schedule:\n",
    "    tasks.append(Task(task, rcpsp_sol.rcpsp_schedule[task]['start_time'], rcpsp_sol.rcpsp_schedule[task]['end_time'],[]))"
   ]
  },
  {
   "cell_type": "code",
   "execution_count": null,
   "metadata": {},
   "outputs": [],
   "source": [
    "import json\n",
    "\n",
    "json_string = json.dumps([t.__dict__ for t in tasks])"
   ]
  },
  {
   "cell_type": "code",
   "execution_count": null,
   "metadata": {},
   "outputs": [],
   "source": [
    "json_string"
   ]
  },
  {
   "cell_type": "code",
   "execution_count": null,
   "metadata": {},
   "outputs": [],
   "source": []
  }
 ],
 "metadata": {
  "kernelspec": {
   "display_name": "Python 3 (ipykernel)",
   "language": "python",
   "name": "python3"
  },
  "language_info": {
   "codemirror_mode": {
    "name": "ipython",
    "version": 3
   },
   "file_extension": ".py",
   "mimetype": "text/x-python",
   "name": "python",
   "nbconvert_exporter": "python",
   "pygments_lexer": "ipython3",
   "version": "3.8.11"
  },
  "toc": {
   "base_numbering": 1,
   "nav_menu": {},
   "number_sections": true,
   "sideBar": true,
   "skip_h1_title": false,
   "title_cell": "Table of Contents",
   "title_sidebar": "Contents",
   "toc_cell": false,
   "toc_position": {},
   "toc_section_display": true,
   "toc_window_display": false
  }
 },
 "nbformat": 4,
 "nbformat_minor": 4
}
