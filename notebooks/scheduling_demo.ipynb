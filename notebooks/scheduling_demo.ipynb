{
 "cells": [
  {
   "cell_type": "markdown",
   "metadata": {},
   "source": [
    "# Scheduling"
   ]
  },
  {
   "cell_type": "markdown",
   "metadata": {},
   "source": [
    "In this notebook, we explore how to solve a resource constrained project scheduling problem (RCPSP).\n",
    "\n",
    "The problem is made of $M$ activities that have precedence constraints. That means that if activity $j\\in[1,M]$ is a successor of activity $i\\in[1,M]$, then activity $i$ must be completed before activity $j$ can be started\n",
    "\n",
    "On top of these constraints, each project is assigned a set of K renewable resources where each resource $k$ is available in $R_{k}$ units for the entire duration of the project. Each activity may require one or more of these resources to be completed. While scheduling the activities, the daily resource usage for resource $k$ can not exceed $R_{k}$ units.\n",
    "\n",
    "Each activity $j$ takes $d_{j}$ time units to complete.\n",
    "\n",
    "The overall goal of the problem is usually to minimize the makespan,\n",
    "\n",
    "(Variants: mix of renewable and non-renewable resources / multi-mode)\n"
   ]
  },
  {
   "cell_type": "markdown",
   "metadata": {},
   "source": [
    "## Problem definition\n",
    "\n",
    "Let start with a simple problem which has 5 tasks to execute:\n",
    "\n",
    "Task 0 has a duration of 1 hour\n",
    "\n",
    "Task 1 depends on 0 and has a duration of 3 hours\n",
    "\n",
    "Task 2 depends on 0 and has a duration of 1 hours\n",
    "\n",
    "Task 3 depends on 2 and has a duration of 3 hours\n",
    "\n",
    "Task 4 depends on 1 & 3 and has a duration of 2 hours"
   ]
  },
  {
   "cell_type": "markdown",
   "metadata": {},
   "source": [
    "## Domain construction"
   ]
  },
  {
   "cell_type": "code",
   "execution_count": null,
   "metadata": {},
   "outputs": [],
   "source": [
    "from typing import Any, Dict, List, Optional, Set, Union\n",
    "\n",
    "from skdecide.builders.domain.scheduling.scheduling_domains import SingleModeRCPSP, SchedulingObjectiveEnum\n",
    "from skdecide import Distribution, DiscreteDistribution\n",
    "\n",
    "from skdecide.builders.domain.scheduling.modes import ModeConsumption, ConstantModeConsumption\n",
    "from skdecide import rollout_episode\n",
    "\n",
    "class SimpleRCPSPDomain(SingleModeRCPSP):\n",
    "\n",
    "    def _get_objectives(self) -> List[SchedulingObjectiveEnum]:\n",
    "        return [SchedulingObjectiveEnum.MAKESPAN]\n",
    "\n",
    "    def __init__(self):\n",
    "        self.initialize_domain()\n",
    "\n",
    "    def _get_max_horizon(self) -> int:\n",
    "        return 50\n",
    "\n",
    "    def _get_successors(self) -> Dict[int, List[int]]:\n",
    "        return {1: [2, 3], 2: [5], 3: [4], 4: [5], 5: []}\n",
    "\n",
    "    def _get_tasks_ids(self) -> Union[Set[int], Dict[int, Any], List[int]]:\n",
    "        return {1, 2, 3, 4, 5}\n",
    "\n",
    "    def _get_tasks_mode(self) -> Dict[int, ModeConsumption]:\n",
    "        return {\n",
    "            1: ConstantModeConsumption({'r1': 1,}),\n",
    "            2: ConstantModeConsumption({'r1': 1,}),\n",
    "            3: ConstantModeConsumption({'r1': 1,}),\n",
    "            4: ConstantModeConsumption({'r1': 1,}),\n",
    "            5: ConstantModeConsumption({'r1': 1,})\n",
    "        }\n",
    "\n",
    "    def _get_resource_types_names(self) -> List[str]:\n",
    "        return ['r1']\n",
    "\n",
    "    def _get_task_duration(self, task: int, mode: Optional[int] = 1, progress_from: Optional[float] = 0.) -> int:\n",
    "        all_durations = {1: 1, 2: 3, 3: 1, 4: 3, 5: 2}\n",
    "        return all_durations[task]\n",
    "\n",
    "    def _get_original_quantity_resource(self, resource: str, **kwargs) -> int:\n",
    "        all_resource_quantities = {'r1': 10_000}\n",
    "        return all_resource_quantities[resource]\n"
   ]
  },
  {
   "cell_type": "code",
   "execution_count": null,
   "metadata": {},
   "outputs": [],
   "source": [
    "domain = SimpleRCPSPDomain()\n",
    "domain.set_inplace_environment(False)\n",
    "state = domain.get_initial_state()"
   ]
  },
  {
   "cell_type": "markdown",
   "metadata": {},
   "source": [
    "## Let's analyze the graph "
   ]
  },
  {
   "cell_type": "code",
   "execution_count": null,
   "metadata": {},
   "outputs": [],
   "source": [
    "graph = domain.compute_graph()"
   ]
  },
  {
   "cell_type": "markdown",
   "metadata": {},
   "source": [
    "### Show the graph"
   ]
  },
  {
   "cell_type": "code",
   "execution_count": null,
   "metadata": {},
   "outputs": [],
   "source": [
    "def to_json(graph):\n",
    "    pass\n",
    "\n",
    "# plot graph in javascript"
   ]
  },
  {
   "cell_type": "markdown",
   "metadata": {},
   "source": [
    "## Let's use the LazyAstar to solve this problem"
   ]
  },
  {
   "cell_type": "code",
   "execution_count": null,
   "metadata": {},
   "outputs": [],
   "source": [
    "from skdecide.hub.solver.lazy_astar import LazyAstar\n",
    "\n",
    "solver = LazyAstar(from_state=state, heuristic=None)\n",
    "solver.solve(domain_factory=lambda: domain)"
   ]
  },
  {
   "cell_type": "code",
   "execution_count": null,
   "metadata": {},
   "outputs": [],
   "source": []
  }
 ],
 "metadata": {
  "kernelspec": {
   "display_name": "Python 3 (ipykernel)",
   "language": "python",
   "name": "python3"
  },
  "language_info": {
   "codemirror_mode": {
    "name": "ipython",
    "version": 3
   },
   "file_extension": ".py",
   "mimetype": "text/x-python",
   "name": "python",
   "nbconvert_exporter": "python",
   "pygments_lexer": "ipython3",
   "version": "3.8.11"
  },
  "toc": {
   "base_numbering": 1,
   "nav_menu": {},
   "number_sections": true,
   "sideBar": true,
   "skip_h1_title": false,
   "title_cell": "Table of Contents",
   "title_sidebar": "Contents",
   "toc_cell": false,
   "toc_position": {},
   "toc_section_display": true,
   "toc_window_display": false
  }
 },
 "nbformat": 4,
 "nbformat_minor": 4
}
