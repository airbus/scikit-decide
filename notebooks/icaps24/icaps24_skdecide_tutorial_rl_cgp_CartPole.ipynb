{
 "cells": [
  {
   "cell_type": "markdown",
   "metadata": {
    "id": "3_YQHkyeQh2n"
   },
   "source": [
    "# ICAPS24 SkDecide Tutorial: solving problems (possibly imported from Gym) with Reinforcement Learning and Cartesian Genetic Programming\n",
    "\n",
    "Alexandre Arnold, Guillaume Povéda, Florent Teichteil-Königsbuch\n",
    "\n",
    "Credits to [IMACS](https://imacs.polytechnique.fr/) and especially to Nolwen Huet"
   ]
  },
  {
   "cell_type": "markdown",
   "metadata": {
    "id": "2LxbyOSZheOg"
   },
   "source": [
    "This tutorial shows how to load a domain in scikit-decide and try to solve it with techniques from different communities:\n",
    "\n",
    "*   [Reinforcement Learning](https://en.wikipedia.org/wiki/Reinforcement_learning) (RL)\n",
    "*   [Cartesian Genetic Programming](https://en.wikipedia.org/wiki/Cartesian_genetic_programming) (CGP)"
   ]
  },
  {
   "cell_type": "markdown",
   "metadata": {},
   "source": [
    "<div class=\"alert alert-block alert-warning\">\n",
    "<b>Special notice for binder + sb3:</b>\n",
    "it seems that <a href=https://stable-baselines3.readthedocs.io/en/master/>stable-baselines3</a> algorithms are <em>extremely slow</em> on <a href=https://mybinder.org/>binder</a>. We could not find a proper explanation about it. We strongly advise you to either launch the notebook locally or on colab, or to skip the cells that are using sb3 algorithms (here PPO solver).\n",
    "</div>"
   ]
  },
  {
   "cell_type": "markdown",
   "metadata": {
    "id": "Il_4li4ZC8tz"
   },
   "source": [
    "## Prerequisites"
   ]
  },
  {
   "cell_type": "markdown",
   "metadata": {},
   "source": [
    "Concerning the python kernel to use for this notebook:\n",
    "- If running locally, be sure to use an environment with\n",
    "  - `scikit-decide[all]`\n",
    "  - `renderlab` (to render `gymnasium` environments)\n",
    "  - `moviepy==1.0.3` and `opencv-python` needed by `renderlab`\n",
    "- If running on colab, the next cell does it for you.\n",
    "- If running on binder, the environment should be ready."
   ]
  },
  {
   "cell_type": "code",
   "execution_count": null,
   "metadata": {},
   "outputs": [],
   "source": [
    "# On Colab: install the library\n",
    "on_colab = \"google.colab\" in str(get_ipython())\n",
    "if on_colab:\n",
    "    import glob\n",
    "    import json\n",
    "    import sys\n",
    "\n",
    "    using_nightly_version = True\n",
    "\n",
    "    if using_nightly_version:\n",
    "        # look for nightly build download url\n",
    "        release_curl_res = !curl -L   -H \"Accept: application/vnd.github+json\" -H \"X-GitHub-Api-Version: 2022-11-28\" https://api.github.com/repos/airbus/scikit-decide/releases/tags/nightly\n",
    "        release_dict = json.loads(release_curl_res.s)\n",
    "        release_download_url = sorted(\n",
    "            release_dict[\"assets\"], key=lambda d: d[\"updated_at\"]\n",
    "        )[-1][\"browser_download_url\"]\n",
    "        print(release_download_url)\n",
    "\n",
    "        # download and unzip\n",
    "        !wget --output-document=release.zip {release_download_url}\n",
    "        !unzip -o release.zip\n",
    "\n",
    "        # get proper wheel name according to python version used\n",
    "        wheel_pythonversion_tag = f\"cp{sys.version_info.major}{sys.version_info.minor}\"\n",
    "        wheel_path = glob.glob(\n",
    "            f\"dist/scikit_decide*{wheel_pythonversion_tag}*manylinux*.whl\"\n",
    "        )[0]\n",
    "\n",
    "        skdecide_pip_spec = f\"{wheel_path}[all]\"\n",
    "    else:\n",
    "        skdecide_pip_spec = \"scikit-decide[all]\"\n",
    "\n",
    "    # install scikit-decide with all extras + renderlab\n",
    "    !pip install {skdecide_pip_spec} renderlab moviepy==1.0.3 opencv-python"
   ]
  },
  {
   "cell_type": "markdown",
   "metadata": {
    "id": "hL--pz9ritE2"
   },
   "source": [
    "## Loading a domain"
   ]
  },
  {
   "cell_type": "markdown",
   "metadata": {
    "id": "-u9Ix00ly8EP"
   },
   "source": [
    "Once a problem is formalized as a scikit-decide domain, it can be tackled by any compatible solver. Domains can be created from scratch or imported from various formats. Here we demonstrate how to import an environment from [Gymnasium](https://gymnasium.farama.org) (the new official fork of OpenAI Gym, a standard API often used in RL communities), like [Cart Pole](https://gymnasium.farama.org/environments/classic_control/cart_pole):"
   ]
  },
  {
   "cell_type": "code",
   "execution_count": null,
   "metadata": {
    "id": "DFHsAbNyGv5p"
   },
   "outputs": [],
   "source": [
    "# patch for renderlab, based on older version of IPython:\n",
    "import IPython.core.display\n",
    "from IPython.display import display\n",
    "\n",
    "IPython.core.display.display = display\n",
    "\n",
    "import gymnasium as gym\n",
    "from renderlab import RenderFrame\n",
    "\n",
    "from skdecide.hub.domain.gym import GymDomain\n",
    "\n",
    "# Select a Gymnasium environment\n",
    "ENV_NAME = \"CartPole-v1\"\n",
    "\n",
    "# Create a domain factory, a callable returning a skdecide domain (used by solvers)\n",
    "def domain_factory(record_videos=False):\n",
    "\n",
    "    # Create a Gymnasium environment\n",
    "    env = gym.make(ENV_NAME, render_mode=\"rgb_array\")\n",
    "\n",
    "    # Maybe wrap it with RenderFrame to record/play episode videos (works in Colab)\n",
    "    if record_videos:\n",
    "        env = RenderFrame(env, \"./render\")\n",
    "\n",
    "    # Return a skdecide domain from a Gymnasium environment\n",
    "    return GymDomain(env)\n",
    "\n",
    "\n",
    "# In simple cases, domain_factory can be created in one line:\n",
    "# domain_factory = lambda: GymDomain(gym.make(ENV_NAME))"
   ]
  },
  {
   "cell_type": "markdown",
   "metadata": {
    "id": "eDVInz_j2Bxd"
   },
   "source": [
    "The rollout utility provides a quick way to run episodes by taking random actions (or a solver policy as shown later) in the domain:"
   ]
  },
  {
   "cell_type": "code",
   "execution_count": null,
   "metadata": {
    "colab": {
     "base_uri": "https://localhost:8080/",
     "height": 510
    },
    "id": "6ofAfUPYYqie",
    "outputId": "955843c5-3bf1-4b8f-e73a-294877093b67"
   },
   "outputs": [],
   "source": [
    "from skdecide.utils import rollout\n",
    "\n",
    "# Instantiate one domain (used for rollouts)\n",
    "domain = domain_factory(record_videos=True)\n",
    "\n",
    "# Do a random rollout of the domain (random actions are taken when no solver is specified)\n",
    "rollout(\n",
    "    domain, num_episodes=1, max_steps=1000, verbose=False\n",
    ")  # try verbose=True for more printing\n",
    "domain.unwrapped().play()  # watch last episode in video by calling play() on the underlying Gymnasium environment (works in Colab)"
   ]
  },
  {
   "cell_type": "markdown",
   "metadata": {
    "id": "-HX0VGo5i27F"
   },
   "source": [
    "## Solving the domain"
   ]
  },
  {
   "cell_type": "markdown",
   "metadata": {
    "id": "-pWbBwYi5ONH"
   },
   "source": [
    "One of the key benefits of scikit-decide is its ability to connect the same domain definition to many different solvers from various communities. To demonstrate this versatility, we show how to solve the domain loaded above with both Reinforcement Learning and Cartesian Genetic Programming:"
   ]
  },
  {
   "cell_type": "markdown",
   "metadata": {
    "id": "-c8cciF3i8U1"
   },
   "source": [
    "### With Reinforcement Learning (RL)"
   ]
  },
  {
   "cell_type": "markdown",
   "metadata": {
    "id": "WEyGdz586oq_"
   },
   "source": [
    "Scikit-decide provides wrappers for several RL solvers, such as [RLlib](https://docs.ray.io/en/latest/rllib/index.html) and [Stable-Baselines3](https://stable-baselines3.readthedocs.io). We use the latter in this example:"
   ]
  },
  {
   "cell_type": "code",
   "execution_count": null,
   "metadata": {
    "colab": {
     "base_uri": "https://localhost:8080/"
    },
    "id": "u3mGONewUzRZ",
    "outputId": "c29da847-df22-4692-dbfc-55947c5f25d6"
   },
   "outputs": [],
   "source": [
    "from stable_baselines3 import PPO\n",
    "\n",
    "from skdecide.hub.solver.stable_baselines import StableBaseline\n",
    "\n",
    "# Check domain compatibility with StableBaseline RL solver (good practice)\n",
    "assert StableBaseline.check_domain(domain)\n",
    "\n",
    "# Instantiate solver with parameters of choice (e.g. type of algo/neural net, learning steps...)\n",
    "solver = StableBaseline(\n",
    "    domain_factory,\n",
    "    algo_class=PPO,\n",
    "    baselines_policy=\"MlpPolicy\",\n",
    "    learn_config={\"total_timesteps\": 10000},\n",
    "    verbose=1,\n",
    ")\n",
    "\n",
    "# Solve with RL\n",
    "solver.solve()\n",
    "\n",
    "# Save solution\n",
    "solver.save(\"saved_solution\")"
   ]
  },
  {
   "cell_type": "markdown",
   "metadata": {
    "id": "xO1EjXHb70Bg"
   },
   "source": [
    "Now we can run episodes with rollout using the latest solver policy:"
   ]
  },
  {
   "cell_type": "code",
   "execution_count": null,
   "metadata": {
    "colab": {
     "base_uri": "https://localhost:8080/",
     "height": 637
    },
    "id": "Axq05z_7tO-T",
    "outputId": "3b0a83ee-1ddc-44a8-ec67-e6dc6e865158"
   },
   "outputs": [],
   "source": [
    "# Visualize solution (pass solver to rollout to use its policy)\n",
    "rollout(domain, solver, num_episodes=1, max_steps=1000, verbose=False)\n",
    "domain.unwrapped().play()"
   ]
  },
  {
   "cell_type": "markdown",
   "metadata": {
    "id": "XGEIQWlT8TOz"
   },
   "source": [
    "It is always possible to reload a saved solution (especially useful in a new Python session) and possibly continue learning from there. By running this cell a couple of times, you should see increasingly better solutions:"
   ]
  },
  {
   "cell_type": "code",
   "execution_count": null,
   "metadata": {
    "colab": {
     "base_uri": "https://localhost:8080/",
     "height": 1000
    },
    "id": "kVaHAX5eXe8X",
    "outputId": "67fc1862-f5bf-4996-bf2d-12b07bdbab24"
   },
   "outputs": [],
   "source": [
    "# Optional: reload solution (required if reloading in a new Python session)\n",
    "solver.load(\"saved_solution\")\n",
    "\n",
    "# Continue learning\n",
    "solver.solve()\n",
    "\n",
    "# Save updated solution\n",
    "solver.save(\"saved_solution\")\n",
    "\n",
    "# Visualize updated solution\n",
    "rollout(domain, solver, num_episodes=1, max_steps=1000, verbose=False)\n",
    "domain.unwrapped().play()"
   ]
  },
  {
   "cell_type": "markdown",
   "metadata": {
    "id": "YvCHVcp49SWA"
   },
   "source": [
    "After using a solver, it is good practice to do a cleanup as shown below (not critical here, but sometimes useful for C++ parallel solvers in scikit-decide). Note that this is automatically done if you use the solver within a `with` statement, which will be shown in the CGP sub-section below as an alternative."
   ]
  },
  {
   "cell_type": "code",
   "execution_count": null,
   "metadata": {
    "id": "vW7wZXqV9HrT"
   },
   "outputs": [],
   "source": [
    "# Clean up solver after use (good practice)\n",
    "solver._cleanup()"
   ]
  },
  {
   "cell_type": "markdown",
   "metadata": {
    "id": "W9J6C6C-jILe"
   },
   "source": [
    "### With Cartesian Genetic Programming (CGP)"
   ]
  },
  {
   "cell_type": "code",
   "execution_count": null,
   "metadata": {
    "colab": {
     "base_uri": "https://localhost:8080/",
     "height": 1000
    },
    "id": "a0h6jiSxjKki",
    "outputId": "a013a62a-d0a3-400c-f7b9-eb61ccd2042a"
   },
   "outputs": [],
   "source": [
    "from skdecide.hub.solver.cgp import CGP\n",
    "\n",
    "# Check domain compatibility with CGP solver (good practice)\n",
    "assert CGP.check_domain(domain)\n",
    "\n",
    "# Instantiate solver with parameters of choice (using \"with\" syntax to avoid manual clean up)\n",
    "with CGP(domain_factory, folder_name=\"TEMP_CGP\", n_it=50) as solver:\n",
    "\n",
    "    # Solve with CGP\n",
    "    solver.solve()\n",
    "\n",
    "    # Visualize solution\n",
    "    rollout(domain, solver, num_episodes=1, max_steps=1000, verbose=False)\n",
    "    domain.unwrapped().play()"
   ]
  },
  {
   "cell_type": "markdown",
   "metadata": {
    "id": "oYIYNN1wEKAX"
   },
   "source": [
    "In this example, you may find that RL often finds better solutions than CGP (although this depends on the solver parameters and the random seed). Note however that this is highly problem-dependent: try re-running this notebook after setting `ENV_NAME = \"MountainCarContinuous-v0\"` at the beginning and you may find opposite results. That shows the power of having a wide catalog of solvers to find the best solution for each specific problem!"
   ]
  }
 ],
 "metadata": {
  "colab": {
   "provenance": []
  },
  "kernelspec": {
   "display_name": "Python 3 (ipykernel)",
   "language": "python",
   "name": "python3"
  },
  "language_info": {
   "codemirror_mode": {
    "name": "ipython",
    "version": 3
   },
   "file_extension": ".py",
   "mimetype": "text/x-python",
   "name": "python",
   "nbconvert_exporter": "python",
   "pygments_lexer": "ipython3",
   "version": "3.10.13"
  }
 },
 "nbformat": 4,
 "nbformat_minor": 4
}
