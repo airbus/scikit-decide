{
 "cells": [
  {
   "cell_type": "markdown",
   "metadata": {
    "editable": true,
    "slideshow": {
     "slide_type": ""
    },
    "tags": []
   },
   "source": [
    "# ICAPS24 SkDecide Tutorial: solving PDDL problems with classical planning, and reinforcement learning solvers\n",
    "\n",
    "Alexandre Arnold, Guillaume Povéda, Florent Teichteil-Königsbuch\n",
    "\n",
    "Credits to [IMACS](https://imacs.polytechnique.fr/) and especially to Nolwen Huet"
   ]
  },
  {
   "cell_type": "markdown",
   "metadata": {},
   "source": [
    "This notebook will show how to solve PDDL problems in scikit-decide via the great [Unified Planning](https://unified-planning.readthedocs.io/en/latest/) framework and its third-party engines from the [AIPlan4EU](https://github.com/aiplan4eu) project. We will also demonstrate how to call scikit-decide solvers from Unified Planning, allowing for solving PDDL problems with simulation-based solvers embedded in scikit-decide."
   ]
  },
  {
   "cell_type": "markdown",
   "metadata": {},
   "source": [
    "## Prerequisites"
   ]
  },
  {
   "cell_type": "markdown",
   "metadata": {},
   "source": [
    "Concerning the python kernel to use for this notebook:\n",
    "- If running locally, be sure to use an environment with\n",
    "  - `scikit-decide[all]`,\n",
    "  - `folium` (graph rendering over Earth maps),\n",
    "  - `up-skdecide` (bridge between unified-planning and scikit-decide, see below) from github [repo](https://github.com/aiplan4eu/up-skdecide.git).\n",
    "- If running on colab, the next cell does it for you.\n",
    "- If running on binder, the environment should be ready."
   ]
  },
  {
   "cell_type": "code",
   "execution_count": null,
   "metadata": {},
   "outputs": [],
   "source": [
    "# On Colab: install the library\n",
    "on_colab = \"google.colab\" in str(get_ipython())\n",
    "if on_colab:\n",
    "    import glob\n",
    "    import json\n",
    "    import os\n",
    "    import sys\n",
    "\n",
    "    using_nightly_version = True\n",
    "\n",
    "    if using_nightly_version:\n",
    "        # look for nightly build download url\n",
    "        release_curl_res = !curl -L   -H \"Accept: application/vnd.github+json\" -H \"X-GitHub-Api-Version: 2022-11-28\" https://api.github.com/repos/airbus/scikit-decide/releases/tags/nightly\n",
    "        release_dict = json.loads(release_curl_res.s)\n",
    "        release_download_url = sorted(\n",
    "            release_dict[\"assets\"], key=lambda d: d[\"updated_at\"]\n",
    "        )[-1][\"browser_download_url\"]\n",
    "        print(release_download_url)\n",
    "\n",
    "        # download and unzip\n",
    "        !wget --output-document=release.zip {release_download_url}\n",
    "        !unzip -o release.zip\n",
    "\n",
    "        # get proper wheel name according to python version used\n",
    "        wheel_pythonversion_tag = f\"cp{sys.version_info.major}{sys.version_info.minor}\"\n",
    "        wheel_path = glob.glob(\n",
    "            f\"dist/scikit_decide*{wheel_pythonversion_tag}*manylinux*.whl\"\n",
    "        )[0]\n",
    "\n",
    "        skdecide_pip_spec = f\"{wheel_path}[all]\"\n",
    "    else:\n",
    "        skdecide_pip_spec = \"scikit-decide[all]\"\n",
    "\n",
    "    # install scikit-decide with all extras + folium + up-skdecide\n",
    "    !pip install {skdecide_pip_spec} folium git+https://github.com/aiplan4eu/up-skdecide.git\n",
    "\n",
    "    # download utility modules (that are in the same repo)\n",
    "    if not os.path.exists(\"flight_planning_utils.py\"):\n",
    "        !wget https://raw.githubusercontent.com/airbus/scikit-decide/master/notebooks/icaps24/flight_planning_utils.py"
   ]
  },
  {
   "cell_type": "markdown",
   "metadata": {},
   "source": [
    "We import the packages that will be used in this notebook."
   ]
  },
  {
   "cell_type": "code",
   "execution_count": null,
   "metadata": {},
   "outputs": [],
   "source": [
    "import datetime\n",
    "import os\n",
    "import sys\n",
    "\n",
    "import unified_planning as up\n",
    "from openap.extra.aero import cas2mach, ft, kts\n",
    "from ray.rllib.algorithms.dqn import DQN\n",
    "from unified_planning.environment import get_environment\n",
    "from unified_planning.io import PDDLReader\n",
    "from unified_planning.shortcuts import (\n",
    "    GE,\n",
    "    BoolType,\n",
    "    Fluent,\n",
    "    InstantaneousAction,\n",
    "    Int,\n",
    "    IntType,\n",
    "    Object,\n",
    "    OneshotPlanner,\n",
    "    Problem,\n",
    "    SimulatedEffect,\n",
    "    UserType,\n",
    ")\n",
    "\n",
    "from skdecide.hub.domain.flight_planning import (\n",
    "    AircraftState,\n",
    "    FlightPlanningDomain,\n",
    "    H_Action,\n",
    "    PerformanceModelEnum,\n",
    "    PhaseEnum,\n",
    "    RatingEnum,\n",
    "    V_Action,\n",
    "    WeatherDate,\n",
    ")\n",
    "from skdecide.hub.domain.flight_planning.flightplanning_utils import (\n",
    "    plot_network_adapted,\n",
    ")\n",
    "from skdecide.hub.domain.up import UPDomain\n",
    "from skdecide.hub.solver.iw import IW\n",
    "from skdecide.hub.solver.ray_rllib import RayRLlib\n",
    "from skdecide.hub.solver.up import UPSolver\n",
    "from skdecide.utils import rollout"
   ]
  },
  {
   "cell_type": "markdown",
   "metadata": {
    "jp-MarkdownHeadingCollapsed": true
   },
   "source": [
    "## Solving PDDL problems via the scikit-decide bridge to Unified Planning solvers"
   ]
  },
  {
   "cell_type": "markdown",
   "metadata": {},
   "source": [
    "For the purpose of demonstration, we show how to solve a simplistic `blocksworld` instance with 4 blocks. Since we are relying on PDDL engines from Unified Planning (e.g. `fast-downward`, `ENHSP`, `tamer`, etc.), you are free to try more challenging benchmarks!"
   ]
  },
  {
   "cell_type": "code",
   "execution_count": null,
   "metadata": {},
   "outputs": [],
   "source": [
    "if not os.path.exists(\"bw-domain.pddl\"):\n",
    "    !wget https://raw.githubusercontent.com/potassco/pddl-instances/master/ipc-2000/domains/blocks-strips-typed/domain.pddl\n",
    "    !mv domain.pddl bw-domain.pddl\n",
    "\n",
    "if not os.path.exists(\"bw-instance.pddl\"):\n",
    "    !wget https://raw.githubusercontent.com/potassco/pddl-instances/master/ipc-2000/domains/blocks-strips-typed/instances/instance-1.pddl\n",
    "    !mv instance-1.pddl bw-instance.pddl\n",
    "\n",
    "reader = PDDLReader()\n",
    "up_problem = reader.parse_problem(\"bw-domain.pddl\", \"bw-instance.pddl\")\n",
    "up_problem.add_quality_metric(up.model.metrics.MinimizeSequentialPlanLength())"
   ]
  },
  {
   "cell_type": "markdown",
   "metadata": {},
   "source": [
    "We now create a `skdecide.hub.domain.UPDomain` which embeds a Unified Planning [problem](https://unified-planning.readthedocs.io/en/latest/problem_representation.html#)."
   ]
  },
  {
   "cell_type": "code",
   "execution_count": null,
   "metadata": {},
   "outputs": [],
   "source": [
    "domain_factory = lambda: UPDomain(up_problem)\n",
    "domain = domain_factory()"
   ]
  },
  {
   "cell_type": "markdown",
   "metadata": {},
   "source": [
    "Once the `UPDomain` is created, we can call the `skdecide.hub.solver.UPSolver` which forward the solving process to a Unified Planning engine, then re-casting back the plan into the scikit-decide action format as defined in the `skdecide.hub.domain.UPDomain`.\n",
    "\n",
    "We are specifically calling here the `fast-downward` [engine](https://github.com/aiplan4eu/up-fast-downward), after what we execute the resulting plan by using `skdecide.utils.rollout()`."
   ]
  },
  {
   "cell_type": "code",
   "execution_count": null,
   "metadata": {},
   "outputs": [],
   "source": [
    "assert UPSolver.check_domain(domain)\n",
    "with UPSolver(\n",
    "    domain_factory=domain_factory,\n",
    "    operation_mode=OneshotPlanner,\n",
    "    name=\"fast-downward\",\n",
    "    engine_params={\"output_stream\": sys.stdout},\n",
    ") as solver:\n",
    "    solver.solve()\n",
    "    rollout(\n",
    "        domain,\n",
    "        solver,\n",
    "        num_episodes=1,\n",
    "        max_steps=100,\n",
    "        max_framerate=30,\n",
    "        outcome_formatter=None,\n",
    "    )"
   ]
  },
  {
   "cell_type": "markdown",
   "metadata": {},
   "source": [
    "However, thanks to the unified API of scikit-decide, we can also call scikit-decide's native planners - which do not need to be specifically designed for PDDL problems! - which are compatible with the features of `UPDomain`.\n",
    "\n",
    "Looking more closely to `UPDomain`'s characteristics, we see that it inherits from `DeterministicPlanningDomain`, which is itself a shortcut for the following features: `Domain`, `SingleAgent`, `Sequential`, `DeterministicTransitions`, `Actions`, `Goals`, `DeterministicInitialized`, `Markovian`, `FullyObservable`, and `PositiveCosts`.\n",
    "\n",
    "Especially, scikit-decide's implementation of the [Iterated Width](https://dl.acm.org/doi/10.5555/3007337.3007433) planner is compatible with such characteristics. In order to be able to computey Iterated Width's novelty measures, we must provide the state features as vectors. In order to do so, we pass the parameter `state_encoding='vector'` to the `UPDomain` instance's constructor. The state feature vector used by Iterated Width will then just be the state vector itself."
   ]
  },
  {
   "cell_type": "code",
   "execution_count": null,
   "metadata": {},
   "outputs": [],
   "source": [
    "domain_factory = lambda: UPDomain(up_problem, state_encoding=\"vector\")\n",
    "domain = domain_factory()\n",
    "\n",
    "with IW(\n",
    "    domain_factory=domain_factory,\n",
    "    state_features=lambda d, s: s,\n",
    "    node_ordering=lambda a_gscore, a_novelty, a_depth, b_gscore, b_novelty, b_depth: a_novelty\n",
    "    > b_novelty,\n",
    ") as solver:\n",
    "    solver.solve()\n",
    "    rollout(\n",
    "        domain,\n",
    "        solver,\n",
    "        num_episodes=1,\n",
    "        max_steps=100,\n",
    "        max_framerate=30,\n",
    "        outcome_formatter=None,\n",
    "    )"
   ]
  },
  {
   "cell_type": "markdown",
   "metadata": {
    "jp-MarkdownHeadingCollapsed": true
   },
   "source": [
    "## Using scikit-decide solvers from Unified Planning"
   ]
  },
  {
   "cell_type": "markdown",
   "metadata": {},
   "source": [
    "The library [`up-skdecide`](https://github.com/aiplan4eu/up-skdecide) from AIPlan4EU's GitHub project provides a Unified Planning engine which converts a Unified Planning domain into a `skdecide.hub.domain.UPDomain`, then forward the solving process to a compatible scikit-decide's solver. "
   ]
  },
  {
   "cell_type": "markdown",
   "metadata": {},
   "source": [
    "In the following, we define a robot moving problem with *simulated action effects* which are typically hard to be handled by PDDL solvers. Scikit-decide solvers like Reinforcement Learning ones or Iterated Width are not specific to PDDL logics, and are thus generally (much) less efficient than PDDL-specific solvers, but they can naturally handle simulated action effects.\n",
    "\n",
    "In the example below, we simulate the battery discharge of the robot when it is moving, which is usually the result of complex underlying physics simulation that cannot be easily modeled in basic PDDL in real problems."
   ]
  },
  {
   "cell_type": "code",
   "execution_count": null,
   "metadata": {},
   "outputs": [],
   "source": [
    "Location = UserType(\"Location\")\n",
    "robot_at = up.model.Fluent(\"robot_at\", BoolType(), l=Location)\n",
    "battery_charge = Fluent(\"battery_charge\", IntType(0, 100))\n",
    "connected = up.model.Fluent(\"connected\", BoolType(), l_from=Location, l_to=Location)\n",
    "\n",
    "move = up.model.InstantaneousAction(\"move\", l_from=Location, l_to=Location)\n",
    "l_from = move.parameter(\"l_from\")\n",
    "l_to = move.parameter(\"l_to\")\n",
    "move.add_precondition(connected(l_from, l_to))\n",
    "move.add_precondition(robot_at(l_from))\n",
    "move.add_precondition(GE(battery_charge(), 10))\n",
    "move.add_effect(robot_at(l_from), False)\n",
    "move.add_effect(robot_at(l_to), True)\n",
    "\n",
    "\n",
    "def fun(problem, state, actual_params):\n",
    "    value = state.get_value(battery_charge()).constant_value()\n",
    "    return [Int(value - 10)]\n",
    "\n",
    "\n",
    "move.set_simulated_effect(SimulatedEffect([battery_charge()], fun))\n",
    "\n",
    "problem = up.model.Problem(\"robot\")\n",
    "problem.add_fluent(robot_at, default_initial_value=False)\n",
    "problem.add_fluent(connected, default_initial_value=False)\n",
    "problem.add_action(move)\n",
    "\n",
    "NLOC = 10\n",
    "locations = [up.model.Object(\"l%s\" % i, Location) for i in range(NLOC)]\n",
    "problem.add_objects(locations)\n",
    "\n",
    "problem.set_initial_value(robot_at(locations[0]), True)\n",
    "for i in range(NLOC - 1):\n",
    "    problem.set_initial_value(connected(locations[i], locations[i + 1]), True)\n",
    "problem.set_initial_value(battery_charge(), 100)\n",
    "\n",
    "problem.add_goal(robot_at(locations[-1]))\n",
    "\n",
    "problem.add_quality_metric(up.model.metrics.MinimizeActionCosts({move: 1}))"
   ]
  },
  {
   "cell_type": "markdown",
   "metadata": {},
   "source": [
    "Now we call scikit-decide's implementation of Iterated Width on this problem, using Unified Planning's engine calling process and standards. We pass the parameters to be given to `skdecide.hub.solver.IW`, especially the state encoding required to compute the novelty measure, in the `config` field of the `params` dictionary of the `OneshotPlanner`."
   ]
  },
  {
   "cell_type": "code",
   "execution_count": null,
   "metadata": {},
   "outputs": [],
   "source": [
    "get_environment().factory.add_engine(\"skdecide\", \"up_skdecide.engine\", \"EngineImpl\")\n",
    "\n",
    "with OneshotPlanner(\n",
    "    problem_kind=problem.kind,\n",
    "    name=\"skdecide\",\n",
    "    params={\n",
    "        \"solver\": IW,\n",
    "        \"config\": {\"state_encoding\": \"vector\", \"state_features\": lambda d, s: s},\n",
    "    },\n",
    ") as planner:\n",
    "    result = planner.solve(problem)\n",
    "    print(\"%s returned: %s\" % (planner.name, result.plan))"
   ]
  },
  {
   "cell_type": "markdown",
   "metadata": {},
   "source": [
    "We show below that solving the same Unified Planning problem with RLlib's DQN algorithm comes to just change one line of code."
   ]
  },
  {
   "cell_type": "markdown",
   "metadata": {},
   "source": [
    "<div class=\"alert alert-block alert-info\"><b>Note: </b> Scikit-decide's implementation of `skdecide.hub.solver.RayRLlib` automatically manages action filtering in the deep value and policy networks passed to the underlying RLlib's solver. It means that Unified Planning (PDDL) action preconditions are processed in the background by scikit-decide to automatically provide filtered actions to RLlib's deep networks, which is usually much more efficient than filtering those actions by means of high penalty costs on the infeasible actions. This automatic action filtering is currently only feasible with skdecide.hub.solver.ray_rllib.RayRLlib, not yet with skdecide.hub.solver.stable_baselines.StableBaseline. </div>"
   ]
  },
  {
   "cell_type": "code",
   "execution_count": null,
   "metadata": {},
   "outputs": [],
   "source": [
    "with OneshotPlanner(\n",
    "    problem_kind=problem.kind,\n",
    "    name=\"skdecide\",\n",
    "    params={\n",
    "        \"solver\": RayRLlib,\n",
    "        \"config\": {\n",
    "            \"state_encoding\": \"vector\",\n",
    "            \"action_encoding\": \"int\",\n",
    "            \"algo_class\": DQN,\n",
    "            \"train_iterations\": 1,\n",
    "        },\n",
    "    },\n",
    ") as planner:\n",
    "    result = planner.solve(problem)\n",
    "    print(\"%s returned: %s\" % (planner.name, result.plan))"
   ]
  },
  {
   "cell_type": "markdown",
   "metadata": {},
   "source": [
    "## Solving a flight planning problem modeled in numeric PDDL"
   ]
  },
  {
   "cell_type": "markdown",
   "metadata": {},
   "source": [
    "Our final experiment with PDDL planning in scikit-decide consists in solving a simplified planning problem over a waypoint graph and wind drift.\n",
    "\n",
    "We first install the folium package which brings nice graph rendering over Earth maps."
   ]
  },
  {
   "cell_type": "markdown",
   "metadata": {},
   "source": [
    "We then import map plotting and cost computation functions from the flight planning utils script."
   ]
  },
  {
   "cell_type": "code",
   "execution_count": null,
   "metadata": {},
   "outputs": [],
   "source": [
    "from flight_planning_utils import cost, plot_map"
   ]
  },
  {
   "cell_type": "markdown",
   "metadata": {},
   "source": [
    "Computing the transition cost between 2 waypoints, which represents the flown distance in the air mass, requires to do some trigonometric maths in the Earth spherical coordinate system and its projection on the tangential plane of the aircraft as depicted in the following image:\n",
    "\n",
    "![Flight planning with wind](./images/flight_planning_with_wind.png)\n",
    "\n",
    "It begins with the computtion of the coordinates of the direction vector, i.e. the vector linking two successive waypoints, by using [trigonometric formulas](https://en.wikipedia.org/wiki/Local_tangent_plane_coordinates) in the Earth sphere.\n",
    "\n",
    "We note:\n",
    "- $\\mathbf{W}$ the wind speed vector\n",
    "- $\\mathbf{V}$ the true aircraft speed vector in the air\n",
    "- $\\mathbf{D}$ the direction vector (obtained with the trigonometric formulas above)\n",
    "- $\\mathbf{U}$ the projected speed of the aircraft on the direction vector\n",
    "- $\\mathbf{u}=\\frac{\\mathbf{U}}{\\Vert \\mathbf{U} \\Vert} = \\frac{\\mathbf{D}}{\\Vert \\mathbf{D} \\Vert}$ the unitary direction vector\n",
    "\n",
    "We known $\\mathbf{D}$, $\\mathbf{W}$ and $\\mathbf{\\Vert \\mathbf{V} \\Vert}$, but we don't known $\\mathbf{V}$.\n",
    "\n",
    "We have: $\\mathbf{V} = \\mathbf{U} - \\mathbf{W}$\n",
    "\n",
    "Thus: $\\Vert \\mathbf{V} \\Vert^2 = \\Vert \\mathbf{U} \\Vert \\; \\mathbf{u} \\cdot \\mathbf{V} - \\mathbf{W} \\cdot \\mathbf{V}$\n",
    "\n",
    "But also: $\\mathbf{V} \\cdot \\mathbf{u} = \\Vert \\mathbf{U} \\Vert - \\mathbf{W} \\cdot {u}$\n",
    "\n",
    "As well as: $\\mathbf{V} \\cdot \\mathbf{W} = \\Vert \\mathbf{U} \\Vert \\; \\mathbf{u} \\cdot \\mathbf{W} - \\Vert \\mathbf{W} \\Vert^2$\n",
    "\n",
    "Therefore: $\\Vert \\mathbf{U} \\Vert^2 - 2 \\; \\mathbf{u} \\cdot \\mathbf{W} \\; \\Vert \\mathbf{U} \\Vert + \\Vert \\mathbf{W} \\Vert^2 - \\Vert \\mathbf{V} \\Vert^2 = 0$\n",
    "\n",
    "Finally: $\\Vert \\mathbf{U} \\Vert = \\mathbf{W} \\cdot \\mathbf{u} + \\sqrt{(\\mathbf{W} \\cdot \\mathbf{u})^2 + \\Vert \\mathbf{V} \\Vert^2 - \\Vert \\mathbf{W} \\Vert^2}$\n",
    "\n",
    "Now, if we note $t$ the flying time between the 2 successive waypoints, we can compute the flown distance in the air, i.e. in the direction of $\\mathbf{V}$ as: $\\Vert \\mathbf{V} \\Vert \\times t = \\Vert \\mathbf{V} \\Vert \\times \\frac{\\Vert \\mathbf{D} \\Vert}{\\Vert \\mathbf{U} \\Vert} = \\frac{\\Vert \\mathbf{V} \\Vert}{\\Vert \\mathbf{U} \\Vert} \\Vert \\mathbf{D} \\Vert$\n",
    "\n",
    "With headwind, the flown distance will be greater than the direct distance. With tailwind, it is the contrary.\n",
    "\n",
    "This is exactly what the imported `cost` function computes."
   ]
  },
  {
   "cell_type": "markdown",
   "metadata": {},
   "source": [
    "We are now ready to model the flight planning numeric problem.\n",
    "This problem (in this simplified version) is a classical planning problem with floating-point action costs.\n",
    "We could solve it with the ENHSP planner, which would yet require to install java. For simplicity reasons, we will thus make later on in the problem instance all the floating-point costs rounded to their 3rd digit then scale by 1e3 to make them all integers. Doing so, the problem is now solvable by the `fast-downward-opt` Unified Planning engine. Therefore, we can define the type of the `Cost` fluent to be `IntType`."
   ]
  },
  {
   "cell_type": "code",
   "execution_count": null,
   "metadata": {},
   "outputs": [],
   "source": [
    "problem = Problem(\"flight_planning\")\n",
    "\n",
    "# Objects\n",
    "waypoint = UserType(\"waypoint\")\n",
    "\n",
    "# Fluents\n",
    "Cost = Fluent(\"COST\", IntType(), l_from=waypoint, l_to=waypoint)\n",
    "Connected = Fluent(\"CONNECTED\", BoolType(), l_from=waypoint, l_to=waypoint)\n",
    "at = Fluent(\"at\", BoolType(), w=waypoint)\n",
    "\n",
    "problem.add_fluent(Cost, default_initial_value=1000000)\n",
    "problem.add_fluent(Connected, default_initial_value=False)\n",
    "problem.add_fluent(at, default_initial_value=False)\n",
    "\n",
    "# Actions\n",
    "GoTo = InstantaneousAction(\"goto\", fromwp=waypoint, towp=waypoint)\n",
    "fromwp = GoTo.parameter(\"fromwp\")\n",
    "towp = GoTo.parameter(\"towp\")\n",
    "GoTo.add_precondition(Connected(fromwp, towp))\n",
    "GoTo.add_precondition(at(fromwp))\n",
    "GoTo.add_effect(at(towp), True)\n",
    "GoTo.add_effect(at(fromwp), False)\n",
    "\n",
    "problem.add_action(GoTo)\n",
    "\n",
    "problem.add_quality_metric(\n",
    "    up.model.metrics.MinimizeActionCosts({GoTo: Cost(fromwp, towp)})\n",
    ")"
   ]
  },
  {
   "cell_type": "markdown",
   "metadata": {},
   "source": [
    "To create the actual flight planning problem instance, we will leverage the `skdecide.hub.domain.flight_planning.FlightPlanningDomain`. This domain is much more realistic - but also ways more complex ! - than our simplified PDDL domain: it uses the aircraft performance model to compute the real fuel consumption of the aircraft based on its speed, altitude and mass at each waypoint in the graph. Even if we won't solve this more realistic domain (we are in a PDDL tutorial notebook!), we will still use its capability to extract the waypoint graph and actual weather of the current date (yes, today's weather data!)."
   ]
  },
  {
   "cell_type": "code",
   "execution_count": null,
   "metadata": {},
   "outputs": [],
   "source": [
    "origin = \"LFPG\"\n",
    "destination = \"LFBO\"\n",
    "aircraft = \"A320\"\n",
    "today = datetime.date.today()\n",
    "month = today.month // 4 * 4 + 1  # will result in january, may, or september\n",
    "year = today.year\n",
    "day = 1\n",
    "weather_date = WeatherDate(day=day, month=month, year=year)\n",
    "heuristic = \"lazy_fuel\"\n",
    "cost_function = \"fuel\"\n",
    "aircraft_state = AircraftState(\n",
    "    model_type=\"A320\",  # only for OPENAP and POLL_SCHUMANN\n",
    "    performance_model_type=PerformanceModelEnum.POLL_SCHUMANN,  # PerformanceModelEnum.OPENAP\n",
    "    gw_kg=80_000,\n",
    "    zp_ft=10_000,\n",
    "    mach=cas2mach(250 * kts, h=10_000 * ft),\n",
    "    phase=PhaseEnum.CLIMB,\n",
    "    rating_level=RatingEnum.MCL,\n",
    "    cg=0.3,\n",
    ")\n",
    "\n",
    "realistic_fp_domain = FlightPlanningDomain(\n",
    "    origin=origin,\n",
    "    destination=destination,\n",
    "    aircraft_state=aircraft_state,\n",
    "    weather_date=weather_date,\n",
    "    heuristic_name=heuristic,\n",
    "    objective=cost_function,\n",
    "    fuel_loop=False,\n",
    "    graph_width=\"large\",\n",
    "    nb_lateral_points=6,\n",
    "    nb_forward_points=10,\n",
    "    nb_climb_descent_steps=4,\n",
    ")"
   ]
  },
  {
   "cell_type": "markdown",
   "metadata": {},
   "source": [
    "Les us have a look at the generated waypoints graph."
   ]
  },
  {
   "cell_type": "code",
   "execution_count": null,
   "metadata": {},
   "outputs": [],
   "source": [
    "plot_network_adapted(\n",
    "    graph=realistic_fp_domain.network,\n",
    "    p0=realistic_fp_domain.origin,\n",
    "    p1=realistic_fp_domain.destination,\n",
    ")"
   ]
  },
  {
   "cell_type": "code",
   "execution_count": null,
   "metadata": {},
   "outputs": [],
   "source": [
    "G = realistic_fp_domain.network\n",
    "\n",
    "# actual starting point\n",
    "origin_node = [(x, y, z) for (x, y, z) in G.nodes if x == 0][0]\n",
    "# can choose one of the 5 initial headings: 5 starting nodes for pddl domain <-> 5 chidren of starting point\n",
    "start_nodes = [(x, y, z) for (x, y, z) in G.nodes if x == 1]\n",
    "end_nodes = [\n",
    "    (x, y, z) for (x, y, z) in G.nodes if x == realistic_fp_domain.nb_forward_points - 1\n",
    "]\n",
    "destination_node = [\n",
    "    (x, y, z) for (x, y, z) in G.nodes if x == realistic_fp_domain.nb_forward_points\n",
    "][0]\n",
    "\n",
    "locations = {str(node): Object(str(node), waypoint) for node in G.nodes}\n",
    "problem.add_objects(locations.values())\n",
    "\n",
    "\n",
    "problem.set_initial_value(at(locations[str(origin_node)]), True)\n",
    "problem.add_goal(at(locations[str(destination_node)]))\n",
    "\n",
    "for (f, t) in G.edges:\n",
    "    problem.set_initial_value(Connected(locations[str(f)], locations[str(t)]), True)\n",
    "    c = cost(realistic_fp_domain, f, t)\n",
    "    problem.set_initial_value(\n",
    "        Cost(locations[str(f)], locations[str(t)]), int(round(c, ndigits=3) * 1e3)\n",
    "    )"
   ]
  },
  {
   "cell_type": "markdown",
   "metadata": {},
   "source": [
    "We can now solve the flight planning problem by defining the `UPDomain` embedding our flight planning Unified Planning problem, and calling the `fast-downward-opt` engine from the `UPSolver`."
   ]
  },
  {
   "cell_type": "code",
   "execution_count": null,
   "metadata": {},
   "outputs": [],
   "source": [
    "domain_factory = lambda: UPDomain(problem)\n",
    "with UPSolver(\n",
    "    domain_factory=domain_factory,\n",
    "    operation_mode=OneshotPlanner,\n",
    "    name=\"fast-downward-opt\",\n",
    "    engine_params={\"output_stream\": sys.stdout},\n",
    ") as solver:\n",
    "    print(\"Solving the problem...\")\n",
    "    solver.solve()\n",
    "    print(\"Extracting plan...\")\n",
    "    plan = solver.get_plan()"
   ]
  },
  {
   "cell_type": "code",
   "execution_count": null,
   "metadata": {},
   "outputs": [],
   "source": [
    "froms = []\n",
    "tos = []\n",
    "actions = []\n",
    "\n",
    "\n",
    "for ai in plan:\n",
    "    # from->to\n",
    "    fr = eval(str(ai.up_parameters[0]))\n",
    "    to = eval(str(ai.up_parameters[1]))\n",
    "    # horizontal action\n",
    "    y_diff = to[1] - fr[1]\n",
    "    if y_diff == 0:\n",
    "        a1 = H_Action.straight\n",
    "    elif y_diff < 0:\n",
    "        a1 = H_Action.left\n",
    "    else:\n",
    "        a1 = H_Action.right\n",
    "    # vertical action\n",
    "    z_diff = to[2] - fr[2]\n",
    "    if z_diff == 0:\n",
    "        a2 = V_Action.cruise\n",
    "    elif z_diff < 0:\n",
    "        a2 = V_Action.descent\n",
    "    else:\n",
    "        a2 = V_Action.climb\n",
    "    # store\n",
    "    froms.append(fr)\n",
    "    tos.append(to)\n",
    "    actions.append((a1, a2))\n",
    "\n",
    "path = froms + [tos[-1]]\n",
    "plot_map(path, G, realistic_fp_domain)"
   ]
  },
  {
   "cell_type": "markdown",
   "metadata": {},
   "source": [
    "Finally, if we want to know the real fuel consumption of the plan found by FastDownward, we just have to execute the resulting plan in the realistic `skdecide.hub.domain.flight_planning.FlightPlanningDomain` provided with scikit-decide."
   ]
  },
  {
   "cell_type": "code",
   "execution_count": null,
   "metadata": {},
   "outputs": [],
   "source": [
    "consumed_fuel = 0\n",
    "realistic_fp_domain.reset()\n",
    "for ai in actions:\n",
    "    print(ai)\n",
    "    outcome = realistic_fp_domain.step(ai)\n",
    "    consumed_fuel += outcome.value.cost\n",
    "    print(outcome.value.cost)\n",
    "print(f\"Consumed fuel: {consumed_fuel}\")"
   ]
  },
  {
   "cell_type": "markdown",
   "metadata": {},
   "source": [
    "Please note that more realistic flight planning plans are rather found by running `skdecide.hub.solver.astar.Astar` solver on the `skdecide.hub.domain.flight_planning.FlightPlanningDomain`, also using advanced domain decoupling strategies and custom heuristic estimates."
   ]
  }
 ],
 "metadata": {
  "kernelspec": {
   "display_name": "Python 3 (ipykernel)",
   "language": "python",
   "name": "python3"
  },
  "language_info": {
   "codemirror_mode": {
    "name": "ipython",
    "version": 3
   },
   "file_extension": ".py",
   "mimetype": "text/x-python",
   "name": "python",
   "nbconvert_exporter": "python",
   "pygments_lexer": "ipython3",
   "version": "3.10.13"
  }
 },
 "nbformat": 4,
 "nbformat_minor": 4
}
