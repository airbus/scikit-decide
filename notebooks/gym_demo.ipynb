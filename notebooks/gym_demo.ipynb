{
 "cells": [
  {
   "cell_type": "markdown",
   "metadata": {},
   "source": [
    "#  Gym environment with scikit-decide tutorial: Continuous Mountain Car\n",
    "\n",
    "In this notebook we will solve the continuous mountain car problem taken from [OpenAI Gym](https://gym.openai.com/), a toolkit for developing environments, usually to be solved by reinforcement learning algorithms.\n",
    "Continuous Mountain Car, a standard testing domain in Reinforcement Learning (RL), is a problem in which an under-powered car must drive up a steep hill. Note that we use here the *continuous* version of the mountain car because \n",
    "it has a shaped reward (i.e.not sparse) which can be used successfully when solving, as opposed to the other \"Mountain Car\" environments. \n",
    "\n",
    "***Citation needed about what is a shaped/sparse reward***\n",
    "\n",
    "\n",
    "<div align=\"middle\">\n",
    "    <video controls autoplay preload \n",
    "         src=\"https://gym.openai.com/videos/2019-10-21--mqt8Qj1mwo/MountainCarContinuous-v0/original.mp4\">\n",
    "    </video>\n",
    "</div>\n",
    "\n",
    "\n",
    "This problem has been chosen for three reasons:\n",
    "  - Show how scikit-decide can be used to solve Gym environments (the de-facto standard in the RL community),\n",
    "  - Highlight that by doing so, you will be able to use not only solvers from the RL community (like the ones in [stable_baselines3](https://github.com/DLR-RM/stable-baselines3) for example), but also other solvers coming from other communities like genetic programming and planning/search (use of an underlying search graph) that can sometimes be very efficient.\n",
    "\n",
    "Therefore in this notebook we will go through the following steps:\n",
    "  - Wrap a Gym environment in a scikit-decide domain;\n",
    "  - Use a classical RL algorithm like PPO to solve our problem;\n",
    "  - Give CGP (Cartesian Genetic Programming)  a try on the same problem;\n",
    "  - Finally use IW (Iterated Width) coming from the planning community on the same problem."
   ]
  },
  {
   "cell_type": "code",
   "execution_count": 1,
   "metadata": {
    "ExecuteTime": {
     "end_time": "2021-10-04T11:10:04.526124Z",
     "start_time": "2021-10-04T11:10:04.304653Z"
    }
   },
   "outputs": [],
   "source": [
    "# choose standard matplolib inline backend to render plots\n",
    "%matplotlib inline"
   ]
  },
  {
   "cell_type": "code",
   "execution_count": 2,
   "metadata": {
    "ExecuteTime": {
     "end_time": "2021-10-04T11:10:05.327491Z",
     "start_time": "2021-10-04T11:10:04.529793Z"
    }
   },
   "outputs": [],
   "source": [
    "from enum import Enum\n",
    "from typing import NamedTuple, Optional, Any, List, Callable\n",
    "from copy import deepcopy\n",
    "from time import sleep\n",
    "from collections import deque\n",
    "import random\n",
    "from math import sqrt, ceil\n",
    "from base64 import b64encode\n",
    "import glob\n",
    "import os\n",
    "\n",
    "from IPython.display import HTML, clear_output\n",
    "import ipywidgets as widgets\n",
    "import matplotlib.pyplot as plt\n",
    "from stable_baselines3 import PPO\n",
    "import gym\n",
    "\n",
    "from skdecide.hub.solver.stable_baselines import StableBaseline\n",
    "from skdecide import DeterministicPlanningDomain, Space, Value, Solver\n",
    "from skdecide.hub.domain.gym import (\n",
    "    GymDomain,\n",
    "    GymWidthDomain,\n",
    "    GymDiscreteActionDomain,\n",
    "    GymPlanningDomain,\n",
    ")\n",
    "from skdecide.builders.domain import UnrestrictedActions, Renderable\n",
    "from skdecide.hub.space.gym import ListSpace, EnumSpace, MultiDiscreteSpace\n",
    "from skdecide.hub.solver.iw import IW\n",
    "from skdecide.hub.solver.cgp import CGP  # Cartesian Genetic Programming\n",
    "\n"
   ]
  },
  {
   "cell_type": "markdown",
   "metadata": {},
   "source": [
    "When running this notebook on remote servers like with Colab or Binder, rendering of gym environment will fail as no actual display device exists. Thus we need to start a virtual display to make it work."
   ]
  },
  {
   "cell_type": "code",
   "execution_count": 3,
   "metadata": {
    "ExecuteTime": {
     "end_time": "2021-10-04T11:10:05.331231Z",
     "start_time": "2021-10-04T11:10:05.328682Z"
    }
   },
   "outputs": [],
   "source": [
    "if \"DISPLAY\" not in os.environ:\n",
    "    import pyvirtualdisplay\n",
    "\n",
    "    _display = pyvirtualdisplay.Display(visible=False, size=(1400, 900))\n",
    "    _display.start()"
   ]
  },
  {
   "cell_type": "markdown",
   "metadata": {},
   "source": [
    "## About Continuous Mountain Car problem"
   ]
  },
  {
   "cell_type": "markdown",
   "metadata": {},
   "source": [
    "The agent (a car) is started at the bottom of a valley. For any given\n",
    "state the agent may choose to accelerate to the left, right or cease\n",
    "any acceleration.\n",
    "\n",
    "### Observations\n",
    "\n",
    "- Car Position  [-1.2, 0.6]\n",
    "- Car Velocity  [-0.07, +0.07]\n",
    "\n",
    "### Action\n",
    "- the power coefficient [-1.0, 1.0]\n",
    "\n",
    "\n",
    "### Goal\n",
    "The car position is more than 0.45.\n",
    "\n",
    "### Reward\n",
    "\n",
    "Reward of 100 is awarded if the agent reached the flag (position = 0.45) on top of the mountain.\n",
    "Reward is decrease based on amount of energy consumed each step.\n",
    "\n",
    "### Starting State\n",
    "The position of the car is assigned a uniform random value in [-0.6 , -0.4].\n",
    "The starting velocity of the car is always assigned to 0.\n",
    "\n",
    "         "
   ]
  },
  {
   "cell_type": "markdown",
   "metadata": {},
   "source": [
    "## Wrap Gym environment in a scikit-decide domain"
   ]
  },
  {
   "cell_type": "markdown",
   "metadata": {},
   "source": [
    "We choose the gym environment we would like to use."
   ]
  },
  {
   "cell_type": "code",
   "execution_count": 4,
   "metadata": {
    "ExecuteTime": {
     "end_time": "2021-10-04T11:10:05.814738Z",
     "start_time": "2021-10-04T11:10:05.808706Z"
    }
   },
   "outputs": [],
   "source": [
    "ENV_NAME = \"MountainCarContinuous-v0\""
   ]
  },
  {
   "cell_type": "markdown",
   "metadata": {},
   "source": [
    "We define a domain factory using `GymDomain` proxy available in scikit-decide which will wrap the Gym environment, for solving purpose."
   ]
  },
  {
   "cell_type": "code",
   "execution_count": 5,
   "metadata": {
    "ExecuteTime": {
     "end_time": "2021-10-04T11:10:06.126725Z",
     "start_time": "2021-10-04T11:10:06.120604Z"
    }
   },
   "outputs": [],
   "source": [
    "domain_factory = lambda: GymDomain(gym.make(ENV_NAME))"
   ]
  },
  {
   "cell_type": "markdown",
   "metadata": {},
   "source": [
    "We also define another domain factory using an intermediate wrapper `gym.wrapper.Monitor` able to record movies, for rolling-out purpose."
   ]
  },
  {
   "cell_type": "code",
   "execution_count": 6,
   "metadata": {
    "ExecuteTime": {
     "end_time": "2021-10-04T11:10:07.125824Z",
     "start_time": "2021-10-04T11:10:07.119438Z"
    }
   },
   "outputs": [],
   "source": [
    "domain4movie_factory = lambda: GymDomain(\n",
    "    gym.wrappers.Monitor(gym.make(ENV_NAME), \"tmp_gym_recording\", force=True)\n",
    ")"
   ]
  },
  {
   "cell_type": "markdown",
   "metadata": {},
   "source": [
    "Here is a screenshot of such an environment. \n",
    "\n",
    "Note: We close the domain straight away to avoid leaving the OpenGL pop-up window open on local Jupyter sessions."
   ]
  },
  {
   "cell_type": "code",
   "execution_count": 7,
   "metadata": {
    "ExecuteTime": {
     "end_time": "2021-10-04T11:10:07.937121Z",
     "start_time": "2021-10-04T11:10:07.551815Z"
    }
   },
   "outputs": [
    {
     "data": {
      "image/png": "[encoded data removed]",
      "text/plain": [
       "<Figure size 432x288 with 1 Axes>"
      ]
     },
     "metadata": {
      "needs_background": "light"
     },
     "output_type": "display_data"
    }
   ],
   "source": [
    "domain = domain_factory()\n",
    "domain.reset()\n",
    "plt.imshow(domain.render(mode=\"rgb_array\"))\n",
    "plt.axis(\"off\")\n",
    "domain.close()"
   ]
  },
  {
   "cell_type": "markdown",
   "metadata": {},
   "source": [
    "## Solve  with Reinforcement Learning (StableBaseline + PPO)\n",
    "\n",
    "We first try a solver coming from the Reinforcement Learning community that is make use of OpenAI [stable_baselines3](https://github.com/DLR-RM/stable-baselines3), which give access to a lot of RL algorithms.\n",
    "\n",
    "Here we choose Proximal Policy Optimization (PPO) solver. It alternates between sampling data through interaction with the environment, and optimizing a \"surrogate\" objective function using stochastic gradient ascent.\n",
    "\n",
    "***Reference to a paper needed. Perhaps more details also.***"
   ]
  },
  {
   "cell_type": "markdown",
   "metadata": {},
   "source": [
    "### Check compatibility\n",
    "We check the compatibility of the domain with the chosen solver."
   ]
  },
  {
   "cell_type": "code",
   "execution_count": 7,
   "metadata": {
    "ExecuteTime": {
     "end_time": "2021-10-04T10:33:13.893223Z",
     "start_time": "2021-10-04T10:33:13.890106Z"
    },
    "scrolled": true
   },
   "outputs": [],
   "source": [
    "domain = domain_factory()\n",
    "assert StableBaseline.check_domain(domain)\n",
    "domain.close()"
   ]
  },
  {
   "cell_type": "markdown",
   "metadata": {},
   "source": [
    "### Solver instantiation"
   ]
  },
  {
   "cell_type": "code",
   "execution_count": 8,
   "metadata": {
    "ExecuteTime": {
     "end_time": "2021-10-04T10:33:19.077064Z",
     "start_time": "2021-10-04T10:33:19.074800Z"
    }
   },
   "outputs": [],
   "source": [
    "solver = StableBaseline(\n",
    "    PPO, \"MlpPolicy\", learn_config={\"total_timesteps\": 50000}, verbose=True\n",
    ")"
   ]
  },
  {
   "cell_type": "markdown",
   "metadata": {},
   "source": [
    "### Training solver on domain\n",
    "The solver will try to find an appropriate policy to solve the maze. "
   ]
  },
  {
   "cell_type": "code",
   "execution_count": 9,
   "metadata": {
    "ExecuteTime": {
     "end_time": "2021-10-04T10:34:27.493779Z",
     "start_time": "2021-10-04T10:33:20.409806Z"
    },
    "scrolled": true
   },
   "outputs": [
    {
     "name": "stdout",
     "output_type": "stream",
     "text": [
      "Using cuda device\n",
      "-----------------------------\n",
      "| time/              |      |\n",
      "|    fps             | 1442 |\n",
      "|    iterations      | 1    |\n",
      "|    time_elapsed    | 1    |\n",
      "|    total_timesteps | 2048 |\n",
      "-----------------------------\n",
      "------------------------------------------\n",
      "| time/                   |              |\n",
      "|    fps                  | 1056         |\n",
      "|    iterations           | 2            |\n",
      "|    time_elapsed         | 3            |\n",
      "|    total_timesteps      | 4096         |\n",
      "| train/                  |              |\n",
      "|    approx_kl            | 0.0036787898 |\n",
      "|    clip_fraction        | 0.0232       |\n",
      "|    clip_range           | 0.2          |\n",
      "|    entropy_loss         | -1.38        |\n",
      "|    explained_variance   | -0.118       |\n",
      "|    learning_rate        | 0.0003       |\n",
      "|    loss                 | -0.0113      |\n",
      "|    n_updates            | 10           |\n",
      "|    policy_gradient_loss | -0.00695     |\n",
      "|    std                  | 0.934        |\n",
      "|    value_loss           | 0.0758       |\n",
      "------------------------------------------\n",
      "------------------------------------------\n",
      "| time/                   |              |\n",
      "|    fps                  | 957          |\n",
      "|    iterations           | 3            |\n",
      "|    time_elapsed         | 6            |\n",
      "|    total_timesteps      | 6144         |\n",
      "| train/                  |              |\n",
      "|    approx_kl            | 0.0037793657 |\n",
      "|    clip_fraction        | 0.0168       |\n",
      "|    clip_range           | 0.2          |\n",
      "|    entropy_loss         | -1.31        |\n",
      "|    explained_variance   | 0.087        |\n",
      "|    learning_rate        | 0.0003       |\n",
      "|    loss                 | 0.00302      |\n",
      "|    n_updates            | 20           |\n",
      "|    policy_gradient_loss | -0.00597     |\n",
      "|    std                  | 0.871        |\n",
      "|    value_loss           | 0.0488       |\n",
      "------------------------------------------\n",
      "-----------------------------------------\n",
      "| time/                   |             |\n",
      "|    fps                  | 910         |\n",
      "|    iterations           | 4           |\n",
      "|    time_elapsed         | 9           |\n",
      "|    total_timesteps      | 8192        |\n",
      "| train/                  |             |\n",
      "|    approx_kl            | 0.011492754 |\n",
      "|    clip_fraction        | 0.0473      |\n",
      "|    clip_range           | 0.2         |\n",
      "|    entropy_loss         | -1.24       |\n",
      "|    explained_variance   | 0.0926      |\n",
      "|    learning_rate        | 0.0003      |\n",
      "|    loss                 | -0.00123    |\n",
      "|    n_updates            | 30          |\n",
      "|    policy_gradient_loss | -0.00948    |\n",
      "|    std                  | 0.813       |\n",
      "|    value_loss           | 0.0541      |\n",
      "-----------------------------------------\n",
      "------------------------------------------\n",
      "| time/                   |              |\n",
      "|    fps                  | 866          |\n",
      "|    iterations           | 5            |\n",
      "|    time_elapsed         | 11           |\n",
      "|    total_timesteps      | 10240        |\n",
      "| train/                  |              |\n",
      "|    approx_kl            | 0.0029543587 |\n",
      "|    clip_fraction        | 0.0199       |\n",
      "|    clip_range           | 0.2          |\n",
      "|    entropy_loss         | -1.18        |\n",
      "|    explained_variance   | 0.143        |\n",
      "|    learning_rate        | 0.0003       |\n",
      "|    loss                 | 0.0247       |\n",
      "|    n_updates            | 40           |\n",
      "|    policy_gradient_loss | -0.00617     |\n",
      "|    std                  | 0.764        |\n",
      "|    value_loss           | 0.0588       |\n",
      "------------------------------------------\n",
      "----------------------------------------\n",
      "| time/                   |            |\n",
      "|    fps                  | 854        |\n",
      "|    iterations           | 6          |\n",
      "|    time_elapsed         | 14         |\n",
      "|    total_timesteps      | 12288      |\n",
      "| train/                  |            |\n",
      "|    approx_kl            | 0.00498097 |\n",
      "|    clip_fraction        | 0.0175     |\n",
      "|    clip_range           | 0.2        |\n",
      "|    entropy_loss         | -1.11      |\n",
      "|    explained_variance   | 0.00128    |\n",
      "|    learning_rate        | 0.0003     |\n",
      "|    loss                 | 3.98e-05   |\n",
      "|    n_updates            | 50         |\n",
      "|    policy_gradient_loss | -0.0069    |\n",
      "|    std                  | 0.711      |\n",
      "|    value_loss           | 0.0726     |\n",
      "----------------------------------------\n",
      "------------------------------------------\n",
      "| time/                   |              |\n",
      "|    fps                  | 856          |\n",
      "|    iterations           | 7            |\n",
      "|    time_elapsed         | 16           |\n",
      "|    total_timesteps      | 14336        |\n",
      "| train/                  |              |\n",
      "|    approx_kl            | 0.0055781486 |\n",
      "|    clip_fraction        | 0.0261       |\n",
      "|    clip_range           | 0.2          |\n",
      "|    entropy_loss         | -1.04        |\n",
      "|    explained_variance   | 0.107        |\n",
      "|    learning_rate        | 0.0003       |\n",
      "|    loss                 | -0.00538     |\n",
      "|    n_updates            | 60           |\n",
      "|    policy_gradient_loss | -0.00947     |\n",
      "|    std                  | 0.659        |\n",
      "|    value_loss           | 0.074        |\n",
      "------------------------------------------\n",
      "-----------------------------------------\n",
      "| time/                   |             |\n",
      "|    fps                  | 850         |\n",
      "|    iterations           | 8           |\n",
      "|    time_elapsed         | 19          |\n",
      "|    total_timesteps      | 16384       |\n",
      "| train/                  |             |\n",
      "|    approx_kl            | 0.009003279 |\n",
      "|    clip_fraction        | 0.0425      |\n",
      "|    clip_range           | 0.2         |\n",
      "|    entropy_loss         | -0.971      |\n",
      "|    explained_variance   | -0.0123     |\n",
      "|    learning_rate        | 0.0003      |\n",
      "|    loss                 | 0.0629      |\n",
      "|    n_updates            | 70          |\n",
      "|    policy_gradient_loss | -0.00798    |\n",
      "|    std                  | 0.621       |\n",
      "|    value_loss           | 0.0835      |\n",
      "-----------------------------------------\n",
      "-----------------------------------------\n",
      "| time/                   |             |\n",
      "|    fps                  | 844         |\n",
      "|    iterations           | 9           |\n",
      "|    time_elapsed         | 21          |\n",
      "|    total_timesteps      | 18432       |\n",
      "| train/                  |             |\n",
      "|    approx_kl            | 0.008677142 |\n",
      "|    clip_fraction        | 0.0199      |\n",
      "|    clip_range           | 0.2         |\n",
      "|    entropy_loss         | -0.904      |\n",
      "|    explained_variance   | -0.00242    |\n",
      "|    learning_rate        | 0.0003      |\n",
      "|    loss                 | 0.00727     |\n",
      "|    n_updates            | 80          |\n",
      "|    policy_gradient_loss | -0.00742    |\n",
      "|    std                  | 0.578       |\n",
      "|    value_loss           | 0.0794      |\n",
      "-----------------------------------------\n",
      "-----------------------------------------\n",
      "| time/                   |             |\n",
      "|    fps                  | 838         |\n",
      "|    iterations           | 10          |\n",
      "|    time_elapsed         | 24          |\n",
      "|    total_timesteps      | 20480       |\n",
      "| train/                  |             |\n",
      "|    approx_kl            | 0.009594865 |\n",
      "|    clip_fraction        | 0.0233      |\n",
      "|    clip_range           | 0.2         |\n",
      "|    entropy_loss         | -0.835      |\n",
      "|    explained_variance   | 0.0372      |\n",
      "|    learning_rate        | 0.0003      |\n",
      "|    loss                 | 0.00226     |\n",
      "|    n_updates            | 90          |\n",
      "|    policy_gradient_loss | -0.00755    |\n",
      "|    std                  | 0.542       |\n",
      "|    value_loss           | 0.0747      |\n",
      "-----------------------------------------\n",
      "------------------------------------------\n",
      "| time/                   |              |\n",
      "|    fps                  | 834          |\n",
      "|    iterations           | 11           |\n",
      "|    time_elapsed         | 26           |\n",
      "|    total_timesteps      | 22528        |\n",
      "| train/                  |              |\n",
      "|    approx_kl            | 0.0056217443 |\n",
      "|    clip_fraction        | 0.0211       |\n",
      "|    clip_range           | 0.2          |\n",
      "|    entropy_loss         | -0.77        |\n",
      "|    explained_variance   | 0.0102       |\n",
      "|    learning_rate        | 0.0003       |\n",
      "|    loss                 | 0.0256       |\n",
      "|    n_updates            | 100          |\n",
      "|    policy_gradient_loss | -0.00807     |\n",
      "|    std                  | 0.506        |\n",
      "|    value_loss           | 0.0723       |\n",
      "------------------------------------------\n"
     ]
    },
    {
     "name": "stdout",
     "output_type": "stream",
     "text": [
      "-----------------------------------------\n",
      "| time/                   |             |\n",
      "|    fps                  | 828         |\n",
      "|    iterations           | 12          |\n",
      "|    time_elapsed         | 29          |\n",
      "|    total_timesteps      | 24576       |\n",
      "| train/                  |             |\n",
      "|    approx_kl            | 0.005213792 |\n",
      "|    clip_fraction        | 0.0162      |\n",
      "|    clip_range           | 0.2         |\n",
      "|    entropy_loss         | -0.704      |\n",
      "|    explained_variance   | -0.0217     |\n",
      "|    learning_rate        | 0.0003      |\n",
      "|    loss                 | 0.00321     |\n",
      "|    n_updates            | 110         |\n",
      "|    policy_gradient_loss | -0.00597    |\n",
      "|    std                  | 0.476       |\n",
      "|    value_loss           | 0.0655      |\n",
      "-----------------------------------------\n",
      "------------------------------------------\n",
      "| time/                   |              |\n",
      "|    fps                  | 827          |\n",
      "|    iterations           | 13           |\n",
      "|    time_elapsed         | 32           |\n",
      "|    total_timesteps      | 26624        |\n",
      "| train/                  |              |\n",
      "|    approx_kl            | 0.0047374982 |\n",
      "|    clip_fraction        | 0.0175       |\n",
      "|    clip_range           | 0.2          |\n",
      "|    entropy_loss         | -0.647       |\n",
      "|    explained_variance   | -0.000773    |\n",
      "|    learning_rate        | 0.0003       |\n",
      "|    loss                 | 0.0454       |\n",
      "|    n_updates            | 120          |\n",
      "|    policy_gradient_loss | -0.0048      |\n",
      "|    std                  | 0.451        |\n",
      "|    value_loss           | 0.0539       |\n",
      "------------------------------------------\n",
      "-----------------------------------------\n",
      "| time/                   |             |\n",
      "|    fps                  | 826         |\n",
      "|    iterations           | 14          |\n",
      "|    time_elapsed         | 34          |\n",
      "|    total_timesteps      | 28672       |\n",
      "| train/                  |             |\n",
      "|    approx_kl            | 0.005500869 |\n",
      "|    clip_fraction        | 0.02        |\n",
      "|    clip_range           | 0.2         |\n",
      "|    entropy_loss         | -0.584      |\n",
      "|    explained_variance   | 0.00386     |\n",
      "|    learning_rate        | 0.0003      |\n",
      "|    loss                 | 0.0726      |\n",
      "|    n_updates            | 130         |\n",
      "|    policy_gradient_loss | -0.0075     |\n",
      "|    std                  | 0.422       |\n",
      "|    value_loss           | 0.054       |\n",
      "-----------------------------------------\n",
      "-----------------------------------------\n",
      "| time/                   |             |\n",
      "|    fps                  | 823         |\n",
      "|    iterations           | 15          |\n",
      "|    time_elapsed         | 37          |\n",
      "|    total_timesteps      | 30720       |\n",
      "| train/                  |             |\n",
      "|    approx_kl            | 0.008139526 |\n",
      "|    clip_fraction        | 0.0228      |\n",
      "|    clip_range           | 0.2         |\n",
      "|    entropy_loss         | -0.52       |\n",
      "|    explained_variance   | 0.0294      |\n",
      "|    learning_rate        | 0.0003      |\n",
      "|    loss                 | 0.0511      |\n",
      "|    n_updates            | 140         |\n",
      "|    policy_gradient_loss | -0.00696    |\n",
      "|    std                  | 0.395       |\n",
      "|    value_loss           | 0.0487      |\n",
      "-----------------------------------------\n",
      "------------------------------------------\n",
      "| time/                   |              |\n",
      "|    fps                  | 822          |\n",
      "|    iterations           | 16           |\n",
      "|    time_elapsed         | 39           |\n",
      "|    total_timesteps      | 32768        |\n",
      "| train/                  |              |\n",
      "|    approx_kl            | 0.0027541034 |\n",
      "|    clip_fraction        | 0.0146       |\n",
      "|    clip_range           | 0.2          |\n",
      "|    entropy_loss         | -0.455       |\n",
      "|    explained_variance   | -0.0122      |\n",
      "|    learning_rate        | 0.0003       |\n",
      "|    loss                 | 0.0298       |\n",
      "|    n_updates            | 150          |\n",
      "|    policy_gradient_loss | -0.00669     |\n",
      "|    std                  | 0.37         |\n",
      "|    value_loss           | 0.0418       |\n",
      "------------------------------------------\n",
      "------------------------------------------\n",
      "| time/                   |              |\n",
      "|    fps                  | 822          |\n",
      "|    iterations           | 17           |\n",
      "|    time_elapsed         | 42           |\n",
      "|    total_timesteps      | 34816        |\n",
      "| train/                  |              |\n",
      "|    approx_kl            | 0.0029535838 |\n",
      "|    clip_fraction        | 0.0128       |\n",
      "|    clip_range           | 0.2          |\n",
      "|    entropy_loss         | -0.39        |\n",
      "|    explained_variance   | 0.0919       |\n",
      "|    learning_rate        | 0.0003       |\n",
      "|    loss                 | 0.0658       |\n",
      "|    n_updates            | 160          |\n",
      "|    policy_gradient_loss | -0.0053      |\n",
      "|    std                  | 0.347        |\n",
      "|    value_loss           | 0.0334       |\n",
      "------------------------------------------\n",
      "------------------------------------------\n",
      "| time/                   |              |\n",
      "|    fps                  | 819          |\n",
      "|    iterations           | 18           |\n",
      "|    time_elapsed         | 45           |\n",
      "|    total_timesteps      | 36864        |\n",
      "| train/                  |              |\n",
      "|    approx_kl            | 0.0056660064 |\n",
      "|    clip_fraction        | 0.0263       |\n",
      "|    clip_range           | 0.2          |\n",
      "|    entropy_loss         | -0.33        |\n",
      "|    explained_variance   | -0.0114      |\n",
      "|    learning_rate        | 0.0003       |\n",
      "|    loss                 | 0.0417       |\n",
      "|    n_updates            | 170          |\n",
      "|    policy_gradient_loss | -0.00669     |\n",
      "|    std                  | 0.328        |\n",
      "|    value_loss           | 0.0313       |\n",
      "------------------------------------------\n",
      "-----------------------------------------\n",
      "| time/                   |             |\n",
      "|    fps                  | 815         |\n",
      "|    iterations           | 19          |\n",
      "|    time_elapsed         | 47          |\n",
      "|    total_timesteps      | 38912       |\n",
      "| train/                  |             |\n",
      "|    approx_kl            | 0.003658603 |\n",
      "|    clip_fraction        | 0.0168      |\n",
      "|    clip_range           | 0.2         |\n",
      "|    entropy_loss         | -0.268      |\n",
      "|    explained_variance   | -0.0164     |\n",
      "|    learning_rate        | 0.0003      |\n",
      "|    loss                 | -0.0104     |\n",
      "|    n_updates            | 180         |\n",
      "|    policy_gradient_loss | -0.00618    |\n",
      "|    std                  | 0.308       |\n",
      "|    value_loss           | 0.0247      |\n",
      "-----------------------------------------\n",
      "------------------------------------------\n",
      "| time/                   |              |\n",
      "|    fps                  | 812          |\n",
      "|    iterations           | 20           |\n",
      "|    time_elapsed         | 50           |\n",
      "|    total_timesteps      | 40960        |\n",
      "| train/                  |              |\n",
      "|    approx_kl            | 0.0050391834 |\n",
      "|    clip_fraction        | 0.0126       |\n",
      "|    clip_range           | 0.2          |\n",
      "|    entropy_loss         | -0.21        |\n",
      "|    explained_variance   | -0.0438      |\n",
      "|    learning_rate        | 0.0003       |\n",
      "|    loss                 | 0.0309       |\n",
      "|    n_updates            | 190          |\n",
      "|    policy_gradient_loss | -0.00477     |\n",
      "|    std                  | 0.292        |\n",
      "|    value_loss           | 0.0217       |\n",
      "------------------------------------------\n",
      "------------------------------------------\n",
      "| time/                   |              |\n",
      "|    fps                  | 809          |\n",
      "|    iterations           | 21           |\n",
      "|    time_elapsed         | 53           |\n",
      "|    total_timesteps      | 43008        |\n",
      "| train/                  |              |\n",
      "|    approx_kl            | 0.0035824697 |\n",
      "|    clip_fraction        | 0.0245       |\n",
      "|    clip_range           | 0.2          |\n",
      "|    entropy_loss         | -0.163       |\n",
      "|    explained_variance   | 0.000518     |\n",
      "|    learning_rate        | 0.0003       |\n",
      "|    loss                 | 4.28e-06     |\n",
      "|    n_updates            | 200          |\n",
      "|    policy_gradient_loss | -0.00534     |\n",
      "|    std                  | 0.279        |\n",
      "|    value_loss           | 0.0258       |\n",
      "------------------------------------------\n",
      "------------------------------------------\n",
      "| time/                   |              |\n",
      "|    fps                  | 803          |\n",
      "|    iterations           | 22           |\n",
      "|    time_elapsed         | 56           |\n",
      "|    total_timesteps      | 45056        |\n",
      "| train/                  |              |\n",
      "|    approx_kl            | 0.0063486584 |\n",
      "|    clip_fraction        | 0.0228       |\n",
      "|    clip_range           | 0.2          |\n",
      "|    entropy_loss         | -0.109       |\n",
      "|    explained_variance   | 0.0184       |\n",
      "|    learning_rate        | 0.0003       |\n",
      "|    loss                 | -0.00461     |\n",
      "|    n_updates            | 210          |\n",
      "|    policy_gradient_loss | -0.00559     |\n",
      "|    std                  | 0.263        |\n",
      "|    value_loss           | 0.0143       |\n",
      "------------------------------------------\n"
     ]
    },
    {
     "name": "stdout",
     "output_type": "stream",
     "text": [
      "------------------------------------------\n",
      "| time/                   |              |\n",
      "|    fps                  | 801          |\n",
      "|    iterations           | 23           |\n",
      "|    time_elapsed         | 58           |\n",
      "|    total_timesteps      | 47104        |\n",
      "| train/                  |              |\n",
      "|    approx_kl            | 0.0077371337 |\n",
      "|    clip_fraction        | 0.023        |\n",
      "|    clip_range           | 0.2          |\n",
      "|    entropy_loss         | -0.0469      |\n",
      "|    explained_variance   | 0.0272       |\n",
      "|    learning_rate        | 0.0003       |\n",
      "|    loss                 | -0.00268     |\n",
      "|    n_updates            | 220          |\n",
      "|    policy_gradient_loss | -0.00533     |\n",
      "|    std                  | 0.247        |\n",
      "|    value_loss           | 0.0116       |\n",
      "------------------------------------------\n",
      "------------------------------------------\n",
      "| time/                   |              |\n",
      "|    fps                  | 800          |\n",
      "|    iterations           | 24           |\n",
      "|    time_elapsed         | 61           |\n",
      "|    total_timesteps      | 49152        |\n",
      "| train/                  |              |\n",
      "|    approx_kl            | 0.0040958105 |\n",
      "|    clip_fraction        | 0.0148       |\n",
      "|    clip_range           | 0.2          |\n",
      "|    entropy_loss         | 0.0109       |\n",
      "|    explained_variance   | -0.0151      |\n",
      "|    learning_rate        | 0.0003       |\n",
      "|    loss                 | -0.00933     |\n",
      "|    n_updates            | 230          |\n",
      "|    policy_gradient_loss | -0.00415     |\n",
      "|    std                  | 0.233        |\n",
      "|    value_loss           | 0.01         |\n",
      "------------------------------------------\n",
      "------------------------------------------\n",
      "| time/                   |              |\n",
      "|    fps                  | 799          |\n",
      "|    iterations           | 25           |\n",
      "|    time_elapsed         | 64           |\n",
      "|    total_timesteps      | 51200        |\n",
      "| train/                  |              |\n",
      "|    approx_kl            | 0.0048342645 |\n",
      "|    clip_fraction        | 0.016        |\n",
      "|    clip_range           | 0.2          |\n",
      "|    entropy_loss         | 0.0693       |\n",
      "|    explained_variance   | 0.0121       |\n",
      "|    learning_rate        | 0.0003       |\n",
      "|    loss                 | -0.00429     |\n",
      "|    n_updates            | 240          |\n",
      "|    policy_gradient_loss | -0.00528     |\n",
      "|    std                  | 0.219        |\n",
      "|    value_loss           | 0.00827      |\n",
      "------------------------------------------\n"
     ]
    },
    {
     "data": {
      "text/plain": [
       "<skdecide.hub.solver.stable_baselines.stable_baselines.StableBaseline at 0x7fb18da45e10>"
      ]
     },
     "execution_count": 9,
     "metadata": {},
     "output_type": "execute_result"
    }
   ],
   "source": [
    "GymDomain.solve_with(solver, domain_factory)"
   ]
  },
  {
   "cell_type": "markdown",
   "metadata": {},
   "source": [
    "### Rolling out a solution\n",
    "\n",
    "We can use the trained solver to roll out an episode to see if this is actually solving the problem at hand.\n",
    "\n",
    "For educative purpose, we define here our own rollout (which will probably be needed if you want to actually use the solver in a real case). If you want to take a look at the (more complex) one already implemented in the library, see [utils.py](https://github.com/airbus/scikit-decide/blob/master/skdecide/utils.py) module.\n"
   ]
  },
  {
   "cell_type": "code",
   "execution_count": 8,
   "metadata": {
    "ExecuteTime": {
     "end_time": "2021-10-04T11:10:11.628329Z",
     "start_time": "2021-10-04T11:10:11.623478Z"
    }
   },
   "outputs": [],
   "source": [
    "def rollout(\n",
    "    domain: GymDomain,\n",
    "    solver: Solver,\n",
    "    max_steps: int,\n",
    "    pause_between_steps: Optional[float] = 0.01,\n",
    "):\n",
    "    \"\"\"Roll out one episode in a domain according to the policy of a trained solver.\n",
    "\n",
    "    Args:\n",
    "        domain: the maze domain to solve\n",
    "        solver: a trained solver\n",
    "        max_steps: maximum number of steps allowed to reach the goal\n",
    "        pause_between_steps: time (s) paused between agent movements.\n",
    "          No pause if None.\n",
    "\n",
    "    \"\"\"\n",
    "    # Initialize episode\n",
    "    solver.reset()\n",
    "    observation = domain.reset()\n",
    "\n",
    "    # Initialize image\n",
    "    plt.ioff()\n",
    "    fig, ax = plt.subplots(1)\n",
    "    ax.axis(\"off\")\n",
    "    plt.ion()\n",
    "    img = ax.imshow(domain.render(mode=\"rgb_array\"))\n",
    "    display(fig)\n",
    "\n",
    "    # loop until max_steps or goal is reached\n",
    "    for i_step in range(1, max_steps + 1):\n",
    "        if pause_between_steps is not None:\n",
    "            sleep(pause_between_steps)\n",
    "\n",
    "        # choose action according to solver\n",
    "        action = solver.sample_action(observation)\n",
    "        # get corresponding action\n",
    "        outcome = domain.step(action)\n",
    "        observation = outcome.observation\n",
    "\n",
    "        # update image\n",
    "        img.set_data(domain.render(mode=\"rgb_array\"))\n",
    "        fig.canvas.draw()\n",
    "        clear_output(wait=True)\n",
    "        display(fig)\n",
    "\n",
    "        # final state reached?\n",
    "        if outcome.termination:\n",
    "            break\n",
    "\n",
    "    # goal reached?\n",
    "    is_goal_reached = outcome.termination\n",
    "    if is_goal_reached:\n",
    "        print(f\"Goal reached in {i_step} steps!\")\n",
    "    else:\n",
    "        print(f\"Goal not reached after {i_step} steps!\")\n",
    "\n",
    "    return is_goal_reached, i_step"
   ]
  },
  {
   "cell_type": "markdown",
   "metadata": {},
   "source": [
    "We create a domain for the roll out and close it at the end. If not closing it, an OpenGL popup windows stays open, at least on local Jupyter sessions."
   ]
  },
  {
   "cell_type": "code",
   "execution_count": 11,
   "metadata": {
    "ExecuteTime": {
     "end_time": "2021-10-04T10:36:51.669424Z",
     "start_time": "2021-10-04T10:36:05.291380Z"
    },
    "scrolled": false
   },
   "outputs": [
    {
     "data": {
      "image/png": "[encoded data removed]",
      "text/plain": [
       "<Figure size 432x288 with 1 Axes>"
      ]
     },
     "metadata": {},
     "output_type": "display_data"
    },
    {
     "name": "stdout",
     "output_type": "stream",
     "text": [
      "Goal not reached after 999 steps!\n"
     ]
    },
    {
     "data": {
      "image/png": "[encoded data removed]",
      "text/plain": [
       "<Figure size 432x288 with 1 Axes>"
      ]
     },
     "metadata": {
      "needs_background": "light"
     },
     "output_type": "display_data"
    }
   ],
   "source": [
    "domain = domain_factory()\n",
    "try:\n",
    "    rollout(domain=domain, solver=solver, max_steps=1000, pause_between_steps=None)\n",
    "finally:\n",
    "    domain.close()"
   ]
  },
  {
   "cell_type": "markdown",
   "metadata": {},
   "source": [
    "Policy-gradient RL algorithms like PPO are well-fitted to continuous domains with non-sparse rewards like in this continuous  version of Mountain Car where the reward is already shaped in the domain (instead of a single reward when reaching the goal)."
   ]
  },
  {
   "cell_type": "markdown",
   "metadata": {},
   "source": [
    "### Cleaning up"
   ]
  },
  {
   "cell_type": "markdown",
   "metadata": {},
   "source": [
    "Some solvers need proper cleaning before being deleted."
   ]
  },
  {
   "cell_type": "code",
   "execution_count": 12,
   "metadata": {
    "ExecuteTime": {
     "end_time": "2021-10-04T10:38:18.536174Z",
     "start_time": "2021-10-04T10:38:18.534075Z"
    }
   },
   "outputs": [],
   "source": [
    "solver._cleanup()"
   ]
  },
  {
   "cell_type": "markdown",
   "metadata": {},
   "source": [
    "Note that this is automatically done if you use the solver within a `with` statement. The syntax would look something like:\n",
    "\n",
    "```python\n",
    "with solver_factory() as solver:\n",
    "    MyDomain.solve_with(solver, domain_factory)\n",
    "    rollout(domain=domain, solver=solver\n",
    "```"
   ]
  },
  {
   "cell_type": "markdown",
   "metadata": {},
   "source": [
    "## Solve with Cartesian Genetic Programming (CGP)\n",
    "\n",
    "CGP (Cartesian Genetic Programming) is a form of genetic programming that uses a graph representation (2D grid of nodes) to encode computer programs.\n",
    "\n",
    "Pros:\n",
    "+ ability to customize the set of atomic functions used by CPG (e.g. to inject some domain knowledge)\n",
    "+ ability to inspect the final formula found by CGP (no black box)\n",
    "\n",
    "Cons:\n",
    "- the fitness function of CGP is defined by the rewards, so can be unable to solve in sparse reward scenarios"
   ]
  },
  {
   "cell_type": "markdown",
   "metadata": {},
   "source": [
    "### Check compatibility\n",
    "We check the compatibility of the domain with the chosen solver."
   ]
  },
  {
   "cell_type": "code",
   "execution_count": 13,
   "metadata": {
    "ExecuteTime": {
     "end_time": "2021-10-04T10:39:39.436158Z",
     "start_time": "2021-10-04T10:39:39.432109Z"
    },
    "scrolled": true
   },
   "outputs": [
    {
     "name": "stdout",
     "output_type": "stream",
     "text": [
      "[Box(-1.0, 1.0, (1,), float32)]\n",
      "[Box(-1.2000000476837158, 0.6000000238418579, (2,), float32)]\n"
     ]
    }
   ],
   "source": [
    "domain = domain_factory()\n",
    "assert CGP.check_domain(domain)\n",
    "domain.close()"
   ]
  },
  {
   "cell_type": "markdown",
   "metadata": {},
   "source": [
    "### Solver instantiation"
   ]
  },
  {
   "cell_type": "code",
   "execution_count": 14,
   "metadata": {
    "ExecuteTime": {
     "end_time": "2021-10-04T10:39:56.026995Z",
     "start_time": "2021-10-04T10:39:56.024349Z"
    }
   },
   "outputs": [],
   "source": [
    "solver = CGP(\"TEMP_CGP\", n_it=25, verbose=True)"
   ]
  },
  {
   "cell_type": "markdown",
   "metadata": {},
   "source": [
    "### Training solver on domain\n",
    "The solver will try to find an appropriate policy to solve the maze. "
   ]
  },
  {
   "cell_type": "code",
   "execution_count": 15,
   "metadata": {
    "ExecuteTime": {
     "end_time": "2021-10-04T10:40:19.007009Z",
     "start_time": "2021-10-04T10:40:06.144638Z"
    },
    "scrolled": true
   },
   "outputs": [
    {
     "name": "stdout",
     "output_type": "stream",
     "text": [
      "[ 9  0  0  9  2  2 17  1  1  5  0  0 17  0  4  3  0  5 14  0  6  8  2  1\n",
      "  4  9  9 11  0  3  5 10  7  9  6 12  2 11  9 12  8  4 14 11  3  8 12 16\n",
      "  8 14  7 15  5 12  5 16 18 19 16 15 20  0  7  9  3 16 10  6 22  5 20  8\n",
      "  4 21 13  7 10  6 14 10 27  7  1 21 19 29  8  2 29  2 20 30 11 20  8 21\n",
      " 10  2 32 12  4 20  4  5 12  8 14 18  9 20  9  5 15  6  6 28 33  9 32 15\n",
      "  0 32  3 18  4 35 10  4 38 20 14 36  1 20 18  2  2 26  6 37  9  3  7 33\n",
      " 14 40 25 13 31 23  2 36 32  1 45 28  8 20 38 16 38 37  0 15 12 14 21 56\n",
      " 11 28 14 18 44 32  4 56 40 12 20  2 13  1 48  6 47 23  7 16  9 14 38 64\n",
      " 10 53 14 11 29  5  3 59 22  6 60 22  3 35 67 19 27 57 14 36 44 15 60 69\n",
      "  4 61 49  0 65  1 10 32 52  5 45 39  4  7 43 20 15 20 17 38 35 20 28 23\n",
      " 15 22 41  0 60  6 15 77  1 19 21 28 16 41  8 11 61 27  0 24  3  5 56 40\n",
      " 19 34 71 20 36 57  3 44 82 20 76 57  4 61 71 19 13 58 13 66 79  5 90 34\n",
      "  7 48 66 15 19 76  9 62  9 19 23 13 73]\n",
      "1 \t 0.0 \t True \t [-99.43484948   0.          -0.1        -99.6       ]\n",
      "====================================================\n",
      "2 \t 0.0 \t True \t [-40.53899284 -99.7          0.           0.        ]\n",
      "====================================================\n",
      "3 \t 0.0 \t True \t [ 0.       -9.633519  0.        0.      ]\n",
      "====================================================\n",
      "4 \t 89.50000000000003 \t True \t [ 89.5   0.  -99.5   0. ]\n",
      "====================================================\n",
      "5 \t 89.50000000000003 \t False \t [-99.4       -99.8       -99.7        -4.9317371]\n",
      "====================================================\n",
      "6 \t 91.00000000000001 \t True \t [-99.9  -99.65   0.    91.  ]\n",
      "====================================================\n",
      "7 \t 91.00000000000001 \t False \t [ 81.5 -99.6   0.   90.4]\n",
      "====================================================\n",
      "8 \t 91.00000000000001 \t False \t [  0.   66.8 -99.7 -99.9]\n",
      "====================================================\n",
      "9 \t 91.00000000000001 \t False \t [  0.   90.9 -99.6   0. ]\n",
      "====================================================\n",
      "10 \t 92.83935547548971 \t True \t [91.8        91.1        92.83935548  0.        ]\n",
      "====================================================\n",
      "11 \t 92.83935547548971 \t False \t [ 9.15000000e+01 -9.96000000e+01 -1.77657091e-01 -7.50000000e-02]\n",
      "====================================================\n",
      "12 \t 92.83935547548971 \t False \t [-99.3        -99.6        -12.11195825 -99.9       ]\n",
      "====================================================\n",
      "13 \t 92.83935547548971 \t False \t [-1.58787386e+01 -7.81488417e-02  8.55672416e+01  9.07213831e+01]\n",
      "====================================================\n",
      "14 \t 92.83935547548971 \t False \t [  0.         -43.56995308   0.         -99.8       ]\n",
      "====================================================\n",
      "15 \t 92.83935547548971 \t False \t [ -0.1        -99.6        -99.6         -0.84364583]\n",
      "====================================================\n",
      "16 \t 92.83935547548971 \t False \t [-99.5         89.51567368  77.9        -99.9       ]\n",
      "====================================================\n",
      "17 \t 92.83935547548971 \t False \t [  0.           0.          82.4        -34.72795413]\n",
      "====================================================\n",
      "18 \t 93.11846439645652 \t True \t [-26.73930005  93.1184644  -14.19024178  71.75      ]\n",
      "====================================================\n",
      "19 \t 93.11846439645652 \t False \t [ 91.75946045 -10.64497052 -99.9         90.55098026]\n",
      "====================================================\n",
      "20 \t 93.11846439645652 \t False \t [90.2         0.         90.93224435  0.        ]\n",
      "====================================================\n",
      "21 \t 93.11846439645652 \t False \t [-99.48103205 -17.14688038 -10.23468524  -0.58418634]\n",
      "====================================================\n",
      "22 \t 93.11846439645652 \t False \t [-4.69093788 -0.1        -4.72925545 91.81607735]\n",
      "====================================================\n",
      "23 \t 93.11846439645652 \t False \t [-43.64290295 -99.7         79.75171934  86.18395161]\n",
      "====================================================\n",
      "24 \t 93.11846439645652 \t False \t [  0.         -27.93871425 -99.5          0.        ]\n",
      "====================================================\n",
      "25 \t 93.11846439645652 \t False \t [ 89.02886907   0.         -99.33285295  89.5       ]\n",
      "====================================================\n"
     ]
    },
    {
     "data": {
      "text/plain": [
       "<skdecide.hub.solver.cgp.cgp.CGPWrapper at 0x7fb1817ba410>"
      ]
     },
     "execution_count": 15,
     "metadata": {},
     "output_type": "execute_result"
    }
   ],
   "source": [
    "GymDomain.solve_with(solver, domain_factory)"
   ]
  },
  {
   "cell_type": "markdown",
   "metadata": {},
   "source": [
    "### Rolling out a solution"
   ]
  },
  {
   "cell_type": "code",
   "execution_count": 16,
   "metadata": {
    "ExecuteTime": {
     "end_time": "2021-10-04T10:40:56.539786Z",
     "start_time": "2021-10-04T10:40:50.855662Z"
    },
    "scrolled": false
   },
   "outputs": [
    {
     "data": {
      "image/png": "[encoded data removed]",
      "text/plain": [
       "<Figure size 432x288 with 1 Axes>"
      ]
     },
     "metadata": {},
     "output_type": "display_data"
    },
    {
     "name": "stdout",
     "output_type": "stream",
     "text": [
      "Goal reached in 124 steps!\n"
     ]
    },
    {
     "data": {
      "image/png": "[encoded data removed]",
      "text/plain": [
       "<Figure size 432x288 with 1 Axes>"
      ]
     },
     "metadata": {
      "needs_background": "light"
     },
     "output_type": "display_data"
    }
   ],
   "source": [
    "domain = domain_factory()\n",
    "try:\n",
    "    rollout(domain=domain, solver=solver, max_steps=1000, pause_between_steps=None)\n",
    "finally:\n",
    "    domain.close()"
   ]
  },
  {
   "cell_type": "markdown",
   "metadata": {},
   "source": [
    "CGP is doing well on this problem!"
   ]
  },
  {
   "cell_type": "markdown",
   "metadata": {},
   "source": [
    "***More insight ?***"
   ]
  },
  {
   "cell_type": "markdown",
   "metadata": {},
   "source": [
    "### Cleaning up"
   ]
  },
  {
   "cell_type": "code",
   "execution_count": 12,
   "metadata": {
    "ExecuteTime": {
     "end_time": "2021-10-04T10:38:18.536174Z",
     "start_time": "2021-10-04T10:38:18.534075Z"
    }
   },
   "outputs": [],
   "source": [
    "solver._cleanup()"
   ]
  },
  {
   "cell_type": "markdown",
   "metadata": {},
   "source": [
    "## Solve with Classical Planning  (IW)\n",
    "\n",
    "Iterated Width (IW) is a width based search algorithm that builds a graph on-demand, while pruning non-novel nodes. \n",
    "\n",
    "In order to handle continuous domains, a state encoding specific to continuous state variables dynamically and adaptively discretizes the continuous state variables in such a way to build a compact graph based on intervals (rather than a naive grid of discrete point values). \n",
    "\n",
    "The novelty measures discards intervals that are included in previously explored intervals, thus favoring to extend the state variable intervals. \n",
    "\n",
    "It works especially well in mountain car because we need to increase the cinetic+potential energy to reach the goal, which comes to increase as much as possible the values of the state variables. IW can find an optimal strategy in a few seconds (in most cases PPO and CGP can't find optimal strategies in the same computation time)."
   ]
  },
  {
   "cell_type": "markdown",
   "metadata": {},
   "source": [
    "### Prepare the domain for IW\n",
    "\n",
    "We need to wrap the Gym environment in a domain with finer charateristics so that IW can be used on it.\n",
    "\n",
    "***Perhaps more explanation about what we are doing here and why it is required ?***"
   ]
  },
  {
   "cell_type": "code",
   "execution_count": 9,
   "metadata": {
    "ExecuteTime": {
     "end_time": "2021-10-04T11:10:18.601543Z",
     "start_time": "2021-10-04T11:10:18.588564Z"
    }
   },
   "outputs": [],
   "source": [
    "class D(GymPlanningDomain, GymWidthDomain, GymDiscreteActionDomain):\n",
    "    pass\n",
    "\n",
    "\n",
    "class GymDomainForWidthSolvers(D):\n",
    "    def __init__(\n",
    "        self,\n",
    "        gym_env: gym.Env,\n",
    "        set_state: Callable[[gym.Env, D.T_memory[D.T_state]], None] = None,\n",
    "        get_state: Callable[[gym.Env], D.T_memory[D.T_state]] = None,\n",
    "        termination_is_goal: bool = True,\n",
    "        continuous_feature_fidelity: int = 5,\n",
    "        discretization_factor: int = 3,\n",
    "        branching_factor: int = None,\n",
    "        max_depth: int = 1000,\n",
    "    ) -> None:\n",
    "        GymPlanningDomain.__init__(\n",
    "            self,\n",
    "            gym_env=gym_env,\n",
    "            set_state=set_state,\n",
    "            get_state=get_state,\n",
    "            termination_is_goal=termination_is_goal,\n",
    "            max_depth=max_depth,\n",
    "        )\n",
    "        GymDiscreteActionDomain.__init__(\n",
    "            self,\n",
    "            discretization_factor=discretization_factor,\n",
    "            branching_factor=branching_factor,\n",
    "        )\n",
    "        GymWidthDomain.__init__(\n",
    "            self, continuous_feature_fidelity=continuous_feature_fidelity\n",
    "        )\n",
    "        gym_env._max_episode_steps = max_depth\n",
    "\n",
    "    def state_features(self, s):\n",
    "        return self.bee2_features(s)\n",
    "\n",
    "    def heuristic(self, s):\n",
    "        return Value(cost=0)"
   ]
  },
  {
   "cell_type": "markdown",
   "metadata": {},
   "source": [
    "We redefine accordingly the domain factory."
   ]
  },
  {
   "cell_type": "code",
   "execution_count": 10,
   "metadata": {
    "ExecuteTime": {
     "end_time": "2021-10-04T11:10:18.878942Z",
     "start_time": "2021-10-04T11:10:18.872707Z"
    }
   },
   "outputs": [],
   "source": [
    "domain4width_factory = lambda: GymDomainForWidthSolvers(gym.make(ENV_NAME))"
   ]
  },
  {
   "cell_type": "markdown",
   "metadata": {},
   "source": [
    "### Check compatibility\n",
    "We check the compatibility of the domain with the chosen solver."
   ]
  },
  {
   "cell_type": "code",
   "execution_count": 11,
   "metadata": {
    "ExecuteTime": {
     "end_time": "2021-10-04T11:10:19.155875Z",
     "start_time": "2021-10-04T11:10:19.145723Z"
    },
    "scrolled": true
   },
   "outputs": [],
   "source": [
    "domain = domain4width_factory()\n",
    "assert IW.check_domain(domain)\n",
    "domain.close()"
   ]
  },
  {
   "cell_type": "markdown",
   "metadata": {},
   "source": [
    "### Solver instantiation"
   ]
  },
  {
   "cell_type": "code",
   "execution_count": 12,
   "metadata": {
    "ExecuteTime": {
     "end_time": "2021-10-04T11:10:19.448130Z",
     "start_time": "2021-10-04T11:10:19.440514Z"
    }
   },
   "outputs": [],
   "source": [
    "solver = IW(\n",
    "    state_features=lambda d, s: d.bee2_features(s),\n",
    "    node_ordering=lambda a_gscore, a_novelty, a_depth, b_gscore, b_novelty, b_depth: a_novelty\n",
    "    > b_novelty,\n",
    "    parallel=False,\n",
    "    debug_logs=False,\n",
    "    domain_factory=domain4width_factory,\n",
    ")"
   ]
  },
  {
   "cell_type": "markdown",
   "metadata": {},
   "source": [
    "### Training solver on domain\n",
    "The solver will try to find an appropriate policy to solve the maze. "
   ]
  },
  {
   "cell_type": "code",
   "execution_count": 13,
   "metadata": {
    "ExecuteTime": {
     "end_time": "2021-10-04T11:10:19.728042Z",
     "start_time": "2021-10-04T11:10:19.714642Z"
    },
    "scrolled": true
   },
   "outputs": [
    {
     "data": {
      "text/plain": [
       "<skdecide.hub.solver.iw.iw.IW at 0x7efccfb7bcd0>"
      ]
     },
     "execution_count": 13,
     "metadata": {},
     "output_type": "execute_result"
    }
   ],
   "source": [
    "GymDomainForWidthSolvers.solve_with(solver, domain4width_factory)"
   ]
  },
  {
   "cell_type": "markdown",
   "metadata": {},
   "source": [
    "### Rolling out a solution\n",
    "\n",
    "**Disclaimer:** This roll out can be a bit painful to look on local Jupyter sessions. Indeed, IW creates copies of the environment at each step which makes pop up then close a new OpenGL window each time."
   ]
  },
  {
   "cell_type": "code",
   "execution_count": 15,
   "metadata": {
    "ExecuteTime": {
     "end_time": "2021-10-04T11:10:54.662709Z",
     "start_time": "2021-10-04T11:10:49.662961Z"
    },
    "scrolled": false
   },
   "outputs": [
    {
     "data": {
      "image/png": "[encoded data removed]",
      "text/plain": [
       "<Figure size 432x288 with 1 Axes>"
      ]
     },
     "metadata": {},
     "output_type": "display_data"
    },
    {
     "name": "stdout",
     "output_type": "stream",
     "text": [
      "Goal not reached after 3 steps!\n"
     ]
    },
    {
     "data": {
      "image/png": "[encoded data removed]",
      "text/plain": [
       "<Figure size 432x288 with 1 Axes>"
      ]
     },
     "metadata": {
      "needs_background": "light"
     },
     "output_type": "display_data"
    }
   ],
   "source": [
    "domain = domain4width_factory()\n",
    "try:\n",
    "    rollout(domain=domain, solver=solver, max_steps=1000, pause_between_steps=None)\n",
    "finally:\n",
    "    domain.close()"
   ]
  },
  {
   "cell_type": "markdown",
   "metadata": {},
   "source": [
    "### Cleaning up"
   ]
  },
  {
   "cell_type": "code",
   "execution_count": 12,
   "metadata": {
    "ExecuteTime": {
     "end_time": "2021-10-04T10:38:18.536174Z",
     "start_time": "2021-10-04T10:38:18.534075Z"
    }
   },
   "outputs": [],
   "source": [
    "solver._cleanup()"
   ]
  },
  {
   "cell_type": "markdown",
   "metadata": {},
   "source": [
    "## Conclusion"
   ]
  },
  {
   "cell_type": "markdown",
   "metadata": {},
   "source": [
    "We saw that it is possible thanks to scikit-decide to apply solvers from different fields and communities (Reinforcement Learning, Genetic Programming, and Planning) on a OpenAI Gym Environment.\n",
    "\n",
    "Even though the domain used here is more classical for RL community, the solvers from other communities performed very well. In particular the IW algorithm was able to find an efficient solution in less than 1 second."
   ]
  }
 ],
 "metadata": {
  "anaconda-cloud": {},
  "kernelspec": {
   "display_name": "Python 3",
   "language": "python",
   "name": "python3"
  },
  "language_info": {
   "codemirror_mode": {
    "name": "ipython",
    "version": 3
   },
   "file_extension": ".py",
   "mimetype": "text/x-python",
   "name": "python",
   "nbconvert_exporter": "python",
   "pygments_lexer": "ipython3",
   "version": "3.7.10"
  },
  "toc": {
   "base_numbering": 1,
   "nav_menu": {},
   "number_sections": true,
   "sideBar": true,
   "skip_h1_title": true,
   "title_cell": "Table of Contents",
   "title_sidebar": "Contents",
   "toc_cell": false,
   "toc_position": {
    "height": "calc(100% - 180px)",
    "left": "10px",
    "top": "150px",
    "width": "305px"
   },
   "toc_section_display": true,
   "toc_window_display": true
  }
 },
 "nbformat": 4,
 "nbformat_minor": 1
}
