{
 "cells": [
  {
   "cell_type": "markdown",
   "metadata": {},
   "source": [
    "#  Gym environment demo: Mountain Car continuous\n",
    "\n",
    "[OpenAI Gym](https://gym.openai.com/) is a toolkit for developing and comparing reinforcement learning algorithms.\n",
    "\n",
    "In this notebook, we show how to use a Gym domain (namely \"Mountain Car continuous\") and try several solvers available in scikit-decide hub."
   ]
  },
  {
   "cell_type": "code",
   "execution_count": null,
   "metadata": {},
   "outputs": [],
   "source": [
    "from enum import Enum\n",
    "from typing import NamedTuple, Optional, Any, List\n",
    "from copy import deepcopy\n",
    "from time import sleep\n",
    "from collections import deque\n",
    "import random\n",
    "from math import sqrt, ceil\n",
    "\n",
    "import ipywidgets as widgets\n",
    "import matplotlib.pyplot as plt\n",
    "from stable_baselines3 import PPO\n",
    "import gym\n",
    "\n",
    "from skdecide.hub.solver.stable_baselines import StableBaseline\n",
    "from skdecide import DeterministicPlanningDomain, Space, Value\n",
    "from skdecide.hub.domain.gym import GymDomain\n",
    "from skdecide.builders.domain import UnrestrictedActions, Renderable\n",
    "from skdecide.utils import rollout, match_solvers, load_registered_solver\n",
    "from skdecide.hub.space.gym import ListSpace, EnumSpace, MultiDiscreteSpace\n",
    "from skdecide.hub.solver.lazy_astar import LazyAstar\n",
    "from skdecide.hub.solver.cgp import CGP  # Cartesian Genetic Programming\n"
   ]
  },
  {
   "cell_type": "markdown",
   "metadata": {},
   "source": [
    "## Domain selection"
   ]
  },
  {
   "cell_type": "markdown",
   "metadata": {},
   "source": [
    "Choose the gym environment we would like to use:"
   ]
  },
  {
   "cell_type": "code",
   "execution_count": null,
   "metadata": {},
   "outputs": [],
   "source": [
    "ENV_NAME = 'MountainCarContinuous-v0'"
   ]
  },
  {
   "cell_type": "markdown",
   "metadata": {},
   "source": [
    "Define a domain factory using `GymDomain` proxy available in scikit-decide."
   ]
  },
  {
   "cell_type": "code",
   "execution_count": null,
   "metadata": {},
   "outputs": [],
   "source": [
    "domain_factory = lambda: GymDomain(gym.make(ENV_NAME))\n",
    "domain = domain_factory()"
   ]
  },
  {
   "cell_type": "markdown",
   "metadata": {},
   "source": [
    "Test rendering gym environment in a matplotlib figure."
   ]
  },
  {
   "cell_type": "code",
   "execution_count": null,
   "metadata": {},
   "outputs": [],
   "source": [
    "domain.reset()\n",
    "_, ax = plt.subplots(1, 1)\n",
    "img = ax.imshow(domain.render(mode='rgb_array'))"
   ]
  },
  {
   "cell_type": "markdown",
   "metadata": {},
   "source": [
    "## Solve & Play"
   ]
  },
  {
   "cell_type": "markdown",
   "metadata": {},
   "source": [
    "### with Reinforcement Learning (StableBaseline)"
   ]
  },
  {
   "cell_type": "markdown",
   "metadata": {},
   "source": [
    "Check that the domain is compatible."
   ]
  },
  {
   "cell_type": "code",
   "execution_count": null,
   "metadata": {},
   "outputs": [],
   "source": [
    "assert StableBaseline.check_domain(domain)"
   ]
  },
  {
   "cell_type": "markdown",
   "metadata": {},
   "source": [
    "Define factory (class to use with default arguments)"
   ]
  },
  {
   "cell_type": "code",
   "execution_count": null,
   "metadata": {},
   "outputs": [],
   "source": [
    "solver_factory = lambda: StableBaseline(PPO, 'MlpPolicy', learn_config={'total_timesteps': 30000})"
   ]
  },
  {
   "cell_type": "markdown",
   "metadata": {},
   "source": [
    "Solve and store for later reuse. The statement `with` ensure that the solver is properly cleaned after use."
   ]
  },
  {
   "cell_type": "code",
   "execution_count": null,
   "metadata": {},
   "outputs": [],
   "source": [
    "with solver_factory() as solver:\n",
    "    GymDomain.solve_with(solver, domain_factory)\n",
    "    solver.save('TEMP_Baselines')"
   ]
  },
  {
   "cell_type": "markdown",
   "metadata": {},
   "source": [
    "Play the solution"
   ]
  },
  {
   "cell_type": "code",
   "execution_count": null,
   "metadata": {},
   "outputs": [],
   "source": [
    "with solver_factory() as solver:\n",
    "    GymDomain.solve_with(solver, domain_factory, load_path='TEMP_Baselines')\n",
    "    rollout(domain, solver, num_episodes=1, max_steps=1000, max_framerate=30, outcome_formatter=None)"
   ]
  },
  {
   "cell_type": "markdown",
   "metadata": {},
   "source": [
    "### With Cartesian Genetic Programming (CGP)"
   ]
  },
  {
   "cell_type": "markdown",
   "metadata": {},
   "source": [
    "Check that the domain is compatible."
   ]
  },
  {
   "cell_type": "code",
   "execution_count": null,
   "metadata": {},
   "outputs": [],
   "source": [
    "assert CGP.check_domain(domain)"
   ]
  },
  {
   "cell_type": "markdown",
   "metadata": {},
   "source": [
    "Define factory (class to use with default arguments)"
   ]
  },
  {
   "cell_type": "code",
   "execution_count": null,
   "metadata": {},
   "outputs": [],
   "source": [
    "solver_factory = lambda: CGP('TEMP_CGP', n_it=25)"
   ]
  },
  {
   "cell_type": "markdown",
   "metadata": {},
   "source": [
    "Solve ~~and store for later reuse~~ and play the solution. The statement `with` ensure that the solver is properly cleaned after use.\n",
    "\n",
    "*NB: CGP derive from Restorable but `_load()` is not yet implemented.*"
   ]
  },
  {
   "cell_type": "code",
   "execution_count": null,
   "metadata": {
    "scrolled": true
   },
   "outputs": [],
   "source": [
    "with solver_factory() as solver:\n",
    "    GymDomain.solve_with(solver, domain_factory)\n",
    "    rollout(domain, solver, num_episodes=2, max_steps=1000, max_framerate=30, outcome_formatter=None)"
   ]
  }
 ],
 "metadata": {
  "anaconda-cloud": {},
  "kernelspec": {
   "display_name": "Python 3",
   "language": "python",
   "name": "python3"
  },
  "language_info": {
   "codemirror_mode": {
    "name": "ipython",
    "version": 3
   },
   "file_extension": ".py",
   "mimetype": "text/x-python",
   "name": "python",
   "nbconvert_exporter": "python",
   "pygments_lexer": "ipython3",
   "version": "3.7.10"
  },
  "toc": {
   "base_numbering": 1,
   "nav_menu": {},
   "number_sections": true,
   "sideBar": true,
   "skip_h1_title": true,
   "title_cell": "Table of Contents",
   "title_sidebar": "Contents",
   "toc_cell": false,
   "toc_position": {
    "height": "calc(100% - 180px)",
    "left": "10px",
    "top": "150px",
    "width": "216px"
   },
   "toc_section_display": true,
   "toc_window_display": true
  }
 },
 "nbformat": 4,
 "nbformat_minor": 1
}
