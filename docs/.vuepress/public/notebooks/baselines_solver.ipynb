{
  "cells": [
    {
      "cell_type": "markdown",
      "metadata": {},
      "source": [
        "Import modules."
      ]
    },
    {
      "cell_type": "code",
      "metadata": {},
      "source": [
        "import gym\n",
        "from stable_baselines import PPO2\n",
        "from stable_baselines.common.policies import MlpPolicy\n",
        "\n",
        "from skdecide.hub.domain.gym import GymDomain\n",
        "from skdecide.hub.solver.stable_baselines import StableBaseline\n",
        "from skdecide.utils import rollout"
      ],
      "outputs": [],
      "execution_count": null
    },
    {
      "cell_type": "markdown",
      "metadata": {},
      "source": [
        "Select a [Gym environment](https://gym.openai.com/envs) and solve it with a [Stable Baselines](https://stable-baselines.readthedocs.io/en/master/index.html) solver wrapped in scikit-decide.\n",
        "The solution is then saved (for later reuse) and assessed in rollout."
      ]
    },
    {
      "cell_type": "code",
      "metadata": {},
      "source": [
        "ENV_NAME = 'CartPole-v1'\n",
        "\n",
        "domain_factory = lambda: GymDomain(gym.make(ENV_NAME))\n",
        "domain = domain_factory()\n",
        "if StableBaseline.check_domain(domain):\n",
        "    solver_factory = lambda: StableBaseline(PPO2, MlpPolicy, learn_config={'total_timesteps': 50000}, verbose=1)\n",
        "    solver = GymDomain.solve_with(solver_factory, domain_factory)\n",
        "    solver.save('TEMP_Baselines')\n",
        "    rollout(domain, solver, num_episodes=1, max_steps=1000, max_framerate=30, outcome_formatter=None)"
      ],
      "outputs": [],
      "execution_count": null
    },
    {
      "cell_type": "markdown",
      "metadata": {},
      "source": [
        "Restore saved solution and re-run rollout."
      ]
    },
    {
      "cell_type": "code",
      "metadata": {},
      "source": [
        "solver = GymDomain.solve_with(solver_factory, domain_factory, load_path='TEMP_Baselines')\n",
        "rollout(domain, solver, num_episodes=1, max_steps=1000, max_framerate=30, outcome_formatter=None)"
      ],
      "outputs": [],
      "execution_count": null
    }
  ],
  "metadata": {
    "anaconda-cloud": {},
    "kernelspec": {
      "display_name": "Python 3",
      "language": "python",
      "name": "python3"
    },
    "language_info": {
      "codemirror_mode": {
        "name": "ipython",
        "version": 3
      },
      "file_extension": ".py",
      "mimetype": "text/x-python",
      "name": "python",
      "nbconvert_exporter": "python",
      "pygments_lexer": "ipython3",
      "version": "3.6.1"
    }
  },
  "nbformat": 4,
  "nbformat_minor": 1
}