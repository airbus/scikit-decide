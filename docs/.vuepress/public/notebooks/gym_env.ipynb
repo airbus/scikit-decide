{
  "cells": [
    {
      "cell_type": "markdown",
      "metadata": {},
      "source": [
        "Import modules."
      ]
    },
    {
      "cell_type": "code",
      "metadata": {},
      "source": [
        "import gym\n",
        "\n",
        "from skdecide.hub.domain.gym import GymDomain\n",
        "from skdecide.utils import rollout"
      ],
      "outputs": [],
      "execution_count": null
    },
    {
      "cell_type": "markdown",
      "metadata": {},
      "source": [
        "Select a [Gym environment](https://gym.openai.com/envs) and run 5 episodes."
      ]
    },
    {
      "cell_type": "code",
      "metadata": {},
      "source": [
        "ENV_NAME = 'CartPole-v1'  # or any other installed environment ('MsPacman-v4'...)\n",
        "\n",
        "gym_domain = GymDomain(gym.make(ENV_NAME))\n",
        "rollout(gym_domain, num_episodes=5, max_steps=1000, max_framerate=30, outcome_formatter=None)\n",
        "gym_domain.close()  # optional but recommended to avoid Gym errors at the end"
      ],
      "outputs": [],
      "execution_count": null
    }
  ],
  "metadata": {
    "anaconda-cloud": {},
    "kernelspec": {
      "display_name": "Python 3",
      "language": "python",
      "name": "python3"
    },
    "language_info": {
      "codemirror_mode": {
        "name": "ipython",
        "version": 3
      },
      "file_extension": ".py",
      "mimetype": "text/x-python",
      "name": "python",
      "nbconvert_exporter": "python",
      "pygments_lexer": "ipython3",
      "version": "3.6.1"
    }
  },
  "nbformat": 4,
  "nbformat_minor": 1
}